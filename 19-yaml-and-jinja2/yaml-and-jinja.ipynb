{
 "cells": [
  {
   "cell_type": "markdown",
   "metadata": {},
   "source": [
    "# Topic\n",
    "## Introduction\n",
    "\n",
    "\n",
    "This notebook is about the data-serialization language YAML and the template language jinja2.\n",
    "\n",
    "These two topics are also not covered in the book but we believe you should definitely add these two topics to your python basic knowledge portfolio. You can find much information in the internet and we recommend starting at the official webpages: \n",
    "* [YAML](https://yaml.org/)\n",
    "* [Jinja](https://jinja.palletsprojects.com/)\n",
    "* [Real Python: Tutorial on Jinja](https://realpython.com/primer-on-jinja-templating/)\n"
   ]
  },
  {
   "cell_type": "markdown",
   "metadata": {},
   "source": [
    "## Summary"
   ]
  },
  {
   "cell_type": "markdown",
   "metadata": {},
   "source": [
    "### YAML (YAML Ain't Markup Language)\n",
    "\n",
    "Like JSON, XML and many others, YAML is a data format to store and exchange data. As you already know JSON, we will use it to compare it with YAML. Like Python, YAML uses indentation so always keep an eye on your number of spaces ;).\n",
    "\n",
    "The following describes a sequence of scalars. In YAML-terms, a sequence is a list and scalars are strings or numbers.\n",
    "```yaml\n",
    "- Learning Python\n",
    "- Learning YAML\n",
    "- Learning Jinja\n",
    "```\n",
    "\n",
    "YAML is not in the Python standard library so we need to install it before we can use it. In this class we will use the package [PyYAML](https://pypi.org/project/PyYAML/) and we need to install it with `pip`:"
   ]
  },
  {
   "cell_type": "code",
   "execution_count": null,
   "metadata": {},
   "outputs": [],
   "source": [
    "!pip install pyyaml"
   ]
  },
  {
   "cell_type": "markdown",
   "metadata": {},
   "source": [
    "In the code below we load the yaml data into python and now we can work with it like a normal python data structure. Instead of `my_yaml`, the data can also be in a file that contains the list."
   ]
  },
  {
   "cell_type": "code",
   "execution_count": 2,
   "metadata": {},
   "outputs": [
    {
     "name": "stdout",
     "output_type": "stream",
     "text": [
      "['Learning Python', 'Learning YAML', 'Learning Jinja']\n",
      "======== convert to json ========\n",
      "[\n",
      "    \"Learning Python\",\n",
      "    \"Learning YAML\",\n",
      "    \"Learning Jinja\"\n",
      "]\n"
     ]
    }
   ],
   "source": [
    "import yaml\n",
    "import json\n",
    "\n",
    "my_yaml = \"\"\"\n",
    "- Learning Python\n",
    "- Learning YAML\n",
    "- Learning Jinja\n",
    "\"\"\"\n",
    "\n",
    "data = yaml.safe_load(my_yaml)\n",
    "print(data)\n",
    "\n",
    "print(f\"{8 * '='} convert to json {8 * '='}\")\n",
    "print(json.dumps(data, indent=4))"
   ]
  },
  {
   "cell_type": "markdown",
   "metadata": {},
   "source": [
    "In a next step, we dump it as JSON:"
   ]
  },
  {
   "cell_type": "code",
   "execution_count": 3,
   "metadata": {},
   "outputs": [],
   "source": [
    "def yaml2json(input_data, verbose=False):\n",
    "    if verbose:\n",
    "        print(f\"yaml2json received data:\\n{input_data}\")\n",
    "    data = yaml.safe_load(input_data)\n",
    "    if verbose:\n",
    "        print(f\"yaml2json yaml load returned: {data}\")\n",
    "    return json.dumps(data, indent=4)"
   ]
  },
  {
   "cell_type": "code",
   "execution_count": 4,
   "metadata": {},
   "outputs": [
    {
     "name": "stdout",
     "output_type": "stream",
     "text": [
      "[\n",
      "    1,\n",
      "    2,\n",
      "    \"3\"\n",
      "]\n"
     ]
    }
   ],
   "source": [
    "my_yaml = \"\"\"\n",
    "- 1\n",
    "- 2\n",
    "- \"3\"\n",
    "\"\"\"\n",
    "print(yaml2json(my_yaml))"
   ]
  },
  {
   "cell_type": "code",
   "execution_count": 5,
   "metadata": {},
   "outputs": [
    {
     "name": "stdout",
     "output_type": "stream",
     "text": [
      "yaml2json received data:\n",
      "\n",
      "- 1\n",
      "- 2\n",
      "- \"3\"\n",
      "\n",
      "yaml2json yaml load returned: [1, 2, '3']\n",
      "[\n",
      "    1,\n",
      "    2,\n",
      "    \"3\"\n",
      "]\n"
     ]
    }
   ],
   "source": [
    "print(yaml2json(my_yaml, verbose=True))"
   ]
  },
  {
   "cell_type": "markdown",
   "metadata": {},
   "source": [
    "Now we have written a function to convert YAML to JSON and used another sequence of scalars to test it. The first two numbers are integers and the last one is a string because of the `\"`. Also we used the `safe_load` function instead of `load` function. How can we verify the data types and see the difference between the two functions?"
   ]
  },
  {
   "cell_type": "code",
   "execution_count": 6,
   "metadata": {
    "scrolled": true
   },
   "outputs": [
    {
     "name": "stdout",
     "output_type": "stream",
     "text": [
      "<class 'int'>\n",
      "<class 'int'>\n",
      "<class 'str'>\n"
     ]
    }
   ],
   "source": [
    "test_type = yaml.safe_load(my_yaml)\n",
    "for scalar in test_type:\n",
    "    print(type(scalar))"
   ]
  },
  {
   "cell_type": "code",
   "execution_count": 7,
   "metadata": {},
   "outputs": [
    {
     "name": "stdout",
     "output_type": "stream",
     "text": [
      "Help on function load in module yaml:\n",
      "\n",
      "load(stream, Loader=None)\n",
      "    Parse the first YAML document in a stream\n",
      "    and produce the corresponding Python object.\n",
      "\n"
     ]
    }
   ],
   "source": [
    "help(yaml.load)"
   ]
  },
  {
   "cell_type": "code",
   "execution_count": 8,
   "metadata": {
    "scrolled": true
   },
   "outputs": [
    {
     "name": "stdout",
     "output_type": "stream",
     "text": [
      "Help on function safe_load in module yaml:\n",
      "\n",
      "safe_load(stream)\n",
      "    Parse the first YAML document in a stream\n",
      "    and produce the corresponding Python object.\n",
      "    \n",
      "    Resolve only basic YAML tags. This is known\n",
      "    to be safe for untrusted input.\n",
      "\n"
     ]
    }
   ],
   "source": [
    "help(yaml.safe_load)"
   ]
  },
  {
   "cell_type": "markdown",
   "metadata": {},
   "source": [
    "And now what is the difference between `load` and `safe_load`? With `safe_load` only native data types are supported. **The `load` function can be easily exploited. Please always use `safe_load`**."
   ]
  },
  {
   "cell_type": "markdown",
   "metadata": {},
   "source": [
    "A mapping in yaml is equivalent to a dictionary in Python, and we cam map scalars to scalars like this:"
   ]
  },
  {
   "cell_type": "code",
   "execution_count": 9,
   "metadata": {},
   "outputs": [
    {
     "name": "stdout",
     "output_type": "stream",
     "text": [
      "{\n",
      "    \"name\": \"INS\",\n",
      "    \"city\": \"Rapperswil\"\n",
      "}\n"
     ]
    }
   ],
   "source": [
    "my_yaml = \"\"\"\n",
    "name: INS\n",
    "city: Rapperswil\n",
    "\"\"\"\n",
    "print(yaml2json(my_yaml))"
   ]
  },
  {
   "cell_type": "markdown",
   "metadata": {},
   "source": [
    "Scalars can also be mapped to sequences:"
   ]
  },
  {
   "cell_type": "code",
   "execution_count": 10,
   "metadata": {},
   "outputs": [
    {
     "name": "stdout",
     "output_type": "stream",
     "text": [
      "{\n",
      "    \"trunk\": [\n",
      "        \"Gig 1/0/1\",\n",
      "        \"Gig 1/0/2\",\n",
      "        \"Gig 2/0/1\"\n",
      "    ],\n",
      "    \"blocking\": [\n",
      "        \"Gig 3/0/1\",\n",
      "        \"Gig 3/0/2\"\n",
      "    ]\n",
      "}\n"
     ]
    }
   ],
   "source": [
    "my_yaml = \"\"\"\n",
    "trunk:\n",
    "  - Gig 1/0/1\n",
    "  - Gig 1/0/2\n",
    "  - Gig 2/0/1\n",
    "blocking:\n",
    "  - Gig 3/0/1\n",
    "  - Gig 3/0/2\n",
    "\"\"\"\n",
    "print(yaml2json(my_yaml))"
   ]
  },
  {
   "cell_type": "markdown",
   "metadata": {},
   "source": [
    "Sequences of mappings are also possible:"
   ]
  },
  {
   "cell_type": "code",
   "execution_count": 11,
   "metadata": {},
   "outputs": [
    {
     "name": "stdout",
     "output_type": "stream",
     "text": [
      "[\n",
      "    {\n",
      "        \"name\": \"Gig 1/0/1\",\n",
      "        \"mode\": \"L2\",\n",
      "        \"enabled\": true,\n",
      "        \"switchport\": \"access\",\n",
      "        \"vlan\": 10\n",
      "    },\n",
      "    {\n",
      "        \"name\": \"Gig 1/0/2\",\n",
      "        \"mode\": \"L3\",\n",
      "        \"enabled\": true,\n",
      "        \"ip\": \"192.168.1.1/24\"\n",
      "    },\n",
      "    {\n",
      "        \"name\": \"Gig 1/0/3\",\n",
      "        \"mode\": \"L2\",\n",
      "        \"enabled\": false,\n",
      "        \"switchport\": \"trunk\"\n",
      "    }\n",
      "]\n"
     ]
    }
   ],
   "source": [
    "my_yaml = \"\"\"\n",
    "- name: Gig 1/0/1\n",
    "  mode: L2\n",
    "  enabled: True\n",
    "  switchport: access\n",
    "  vlan: 10\n",
    "- name: Gig 1/0/2\n",
    "  mode: L3\n",
    "  enabled: True\n",
    "  ip: 192.168.1.1/24\n",
    "- name: Gig 1/0/3\n",
    "  mode: L2\n",
    "  enabled: False \n",
    "  switchport: trunk\n",
    "\"\"\"\n",
    "print(yaml2json(my_yaml))"
   ]
  },
  {
   "cell_type": "markdown",
   "metadata": {},
   "source": [
    "Now let's get creative and have mapping of mappings:"
   ]
  },
  {
   "cell_type": "code",
   "execution_count": 12,
   "metadata": {},
   "outputs": [
    {
     "name": "stdout",
     "output_type": "stream",
     "text": [
      "{\n",
      "    \"Gig1/0/1\": {\n",
      "        \"enabled\": true,\n",
      "        \"description\": \"uplink\"\n",
      "    },\n",
      "    \"Gig1/0/2\": {\n",
      "        \"enabled\": true,\n",
      "        \"description\": \"Printer pr001\"\n",
      "    }\n",
      "}\n"
     ]
    }
   ],
   "source": [
    "my_yaml = \"\"\"\n",
    "Gig1/0/1:\n",
    "  enabled: True\n",
    "  description: uplink\n",
    "\n",
    "Gig1/0/2:\n",
    "  enabled: True\n",
    "  description: Printer pr001\n",
    "\n",
    "\"\"\"\n",
    "print(yaml2json(my_yaml))"
   ]
  },
  {
   "cell_type": "markdown",
   "metadata": {},
   "source": [
    "... and sequences of sequences!"
   ]
  },
  {
   "cell_type": "code",
   "execution_count": 13,
   "metadata": {},
   "outputs": [
    {
     "name": "stdout",
     "output_type": "stream",
     "text": [
      "[\n",
      "    [\n",
      "        \"permit\",\n",
      "        \"ip\",\n",
      "        \"10.1.1.0 0.0.0.255\",\n",
      "        \"172.16.1.0 0.0.0.255\"\n",
      "    ],\n",
      "    [\n",
      "        \"permit\",\n",
      "        \"ip\",\n",
      "        \"10.1.2.0 0.0.0.255\",\n",
      "        \"172.16.1.0 0.0.0.255\",\n",
      "        \"eq www\"\n",
      "    ],\n",
      "    [\n",
      "        \"deny\",\n",
      "        \"ip\",\n",
      "        \"any\",\n",
      "        \"any\"\n",
      "    ]\n",
      "]\n"
     ]
    }
   ],
   "source": [
    "my_yaml = \"\"\"\n",
    "-\n",
    "  - permit\n",
    "  - ip\n",
    "  - 10.1.1.0 0.0.0.255\n",
    "  - 172.16.1.0 0.0.0.255\n",
    "-\n",
    "  - permit\n",
    "  - ip\n",
    "  - 10.1.2.0 0.0.0.255\n",
    "  - 172.16.1.0 0.0.0.255\n",
    "  - eq www\n",
    "-\n",
    "  - deny\n",
    "  - ip\n",
    "  - any\n",
    "  - any\n",
    "\"\"\"\n",
    "print(yaml2json(my_yaml))"
   ]
  },
  {
   "cell_type": "markdown",
   "metadata": {},
   "source": [
    "This is just a short introduction and covers only the tip of the iceberg. For more detailed information please check out [the YAML website](https://yaml.org/)."
   ]
  },
  {
   "cell_type": "markdown",
   "metadata": {},
   "source": [
    "### Jinja2\n",
    "\n",
    "With the string manipulation methods you already know it is easy to render some text. Especially the `f-String` or `format` function are handy, but when it comes to longer texts we need a better solution. Jinja2 is a template engine for python. It makes it easy to render all kind of texts like web pages, reports or configuration files. First we need to install the library via `pip`:"
   ]
  },
  {
   "cell_type": "code",
   "execution_count": null,
   "metadata": {},
   "outputs": [],
   "source": [
    "!pip install jinja2"
   ]
  },
  {
   "cell_type": "code",
   "execution_count": 15,
   "metadata": {},
   "outputs": [
    {
     "data": {
      "text/plain": [
       "'My name is Max and I like Margherita  pizza'"
      ]
     },
     "execution_count": 15,
     "metadata": {},
     "output_type": "execute_result"
    }
   ],
   "source": [
    "import jinja2\n",
    "\n",
    "template = jinja2.Template(\"My name is {{ name }} and I like {{ pizza }} pizza\")\n",
    "template.render(name=\"Max\", pizza=\"Margherita \")"
   ]
  },
  {
   "cell_type": "markdown",
   "metadata": {},
   "source": [
    "This basic example could be easily done with an `f-string` but jinja2 can do much more. The delimiter `{{ ... }}` is used for an expression to access a variable and print it to the template output. Statements are surrounded by `{% ... %}` and are used for example for special control structure statements. Comments can be written by using `{# ... #}`."
   ]
  },
  {
   "cell_type": "code",
   "execution_count": 16,
   "metadata": {},
   "outputs": [
    {
     "name": "stdout",
     "output_type": "stream",
     "text": [
      "\n",
      "Dear John,\n",
      "\n",
      "I need the following list from the store:\n",
      "\n",
      "  - Apple\n",
      "\n",
      "  - Pear\n",
      "\n",
      "  - Salad\n",
      "\n",
      "  - Beer\n",
      "\n",
      "  - More beer\n",
      "\n",
      "\n",
      "All the best!\n"
     ]
    }
   ],
   "source": [
    "from jinja2 import Template\n",
    "\n",
    "template_raw = \"\"\"\n",
    "Dear {{ name }},\n",
    "\n",
    "I need the following list from the store:\n",
    "{% for item in shopping_list %}\n",
    "  - {{ item }}\n",
    "{% endfor %}\n",
    "\n",
    "All the best!\n",
    "\"\"\"\n",
    "template = Template(template_raw)\n",
    "groceries = [\"Apple\", \"Pear\", \"Salad\", \"Beer\", \"More beer\"]\n",
    "text = template.render(name=\"John\", shopping_list=groceries)\n",
    "print(text)"
   ]
  },
  {
   "cell_type": "markdown",
   "metadata": {},
   "source": [
    "Jinja2 is really powerful and we cover only the basics here. Please take a look at the official [Template Designer Documentation](https://jinja.palletsprojects.com/en/2.11.x/templates/) for more information."
   ]
  },
  {
   "cell_type": "markdown",
   "metadata": {},
   "source": [
    "## Exercises"
   ]
  },
  {
   "cell_type": "markdown",
   "metadata": {},
   "source": [
    "### Exercise 1: JSON to YAML\n",
    "Write a yaml file `exercise1.yaml` equal to the following JSON.\n",
    "\n",
    "```JSON\n",
    "{\n",
    "  \"names\": [\n",
    "    \"Emilia\",\n",
    "    \"Kit\",\n",
    "    \"Maisie\",\n",
    "    \"Peter\",\n",
    "    \"Sophie\",\n",
    "    \"Jason\"\n",
    "  ],\n",
    "  \"numbers\": [\n",
    "    1,\n",
    "    2,\n",
    "    1.5,\n",
    "    2.0\n",
    "  ],\n",
    "  \"boolean\": true\n",
    "}\n",
    "```"
   ]
  },
  {
   "cell_type": "code",
   "execution_count": null,
   "metadata": {},
   "outputs": [],
   "source": [
    "%%writefile exercise1.yaml\n",
    "# Todo: write the yaml file"
   ]
  },
  {
   "cell_type": "code",
   "execution_count": null,
   "metadata": {},
   "outputs": [],
   "source": [
    "import yaml\n",
    "\n",
    "with open(\"exercise1.yaml\") as f:\n",
    "    data = yaml.safe_load(f.read())\n",
    "\n",
    "assert data[\"names\"] == [\"Emilia\", \"Kit\", \"Maisie\", \"Peter\", \"Sophie\", \"Jason\"]\n",
    "assert data[\"numbers\"] == [1, 2, 1.5, 2.0]\n",
    "assert isinstance(data[\"numbers\"][3], float)\n",
    "assert data[\"boolean\"] == True\n",
    "print(\"Data are okay\")"
   ]
  },
  {
   "cell_type": "markdown",
   "metadata": {},
   "source": [
    "### Exercise 2: Song-Template\n",
    "Write a template to match the following output:\n",
    "\n",
    "```\n",
    "Old MacDonald had a farm, E I E I O,\n",
    "And on his farm he had a cow, E I E I O.\n",
    "With a moo moo here and a moo moo there,\n",
    "Here a moo, there a moo, everywhere a moo moo.\n",
    "Old MacDonald had a farm, E I E I O.\n",
    "\n",
    "Old MacDonald had a farm, E I E I O,\n",
    "And on his farm he had a pig, E I E I O.\n",
    "With a oink oink here and a oink oink there,\n",
    "Here a oink, there a oink, everywhere a oink oink.\n",
    "Old MacDonald had a farm, E I E I O.\n",
    "\n",
    "Old MacDonald had a farm, E I E I O,\n",
    "And on his farm he had a duck, E I E I O.\n",
    "With a quack quack here and a quack quack there,\n",
    "Here a quack, there a quack, everywhere a quack quack.\n",
    "Old MacDonald had a farm, E I E I O.\n",
    "```"
   ]
  },
  {
   "cell_type": "code",
   "execution_count": null,
   "metadata": {},
   "outputs": [],
   "source": [
    "from jinja2 import Template\n",
    "\n",
    "template_raw = \"\"\"\n",
    "{# Todo: write the template #}\n",
    "\"\"\"\n",
    "\n",
    "animals = {\"cow\": \"moo\", \"pig\": \"oink\", \"duck\": \"quack\"}\n",
    "text = Template(template_raw).render(animals=animals)\n",
    "\n",
    "print(text)"
   ]
  },
  {
   "cell_type": "markdown",
   "metadata": {},
   "source": [
    "### Exercise 3: Train Connections\n",
    "Write a python script to render train connections. The script should take the arguments `-s` (`--start`) and `-e` (`--end`). Use the open data api to get the data:\n",
    "\n",
    "https://transport.opendata.ch/docs.html#connections \n",
    "\n",
    "Please install the `requests` library via `pip` to make the API calls to the link above.\n",
    "\n",
    "```\n",
    "$ train_connections.py -s Rapperswil -e Herisau\n",
    "\n",
    "Connections\n",
    "===========\n",
    "\n",
    "From: Rapperswil\t\tTo: Herisau\n",
    "2020-07-20T05:33:00+0200\tPlatform: 5\n",
    "\n",
    "From: Rapperswil\t\tTo: Herisau\n",
    "2020-07-20T06:03:00+0200\tPlatform: 2\n",
    "\n",
    "From: Rapperswil\t\tTo: Herisau\n",
    "2020-07-20T06:33:00+0200\tPlatform: 5\n",
    "\n",
    "From: Rapperswil\t\tTo: Herisau\n",
    "2020-07-20T07:03:00+0200\tPlatform: 2\n",
    "```"
   ]
  },
  {
   "cell_type": "code",
   "execution_count": null,
   "metadata": {},
   "outputs": [],
   "source": [
    "%%writefile train_connections.py\n",
    "import requests\n",
    "# todo: imports\n",
    "\n",
    "TEMPLATE = \"\"\"\n",
    "{# ToDo: write template #}\n",
    "\"\"\"\n",
    "def main(start, end):\n",
    "    try:\n",
    "        response = requests.get(f\"https://transport.opendata.ch/v1/connections?from={start}&to={end}\")\n",
    "        response.raise_for_status()\n",
    "    except requests.exceptions.RequestException as e:\n",
    "        print(f\"Error {e}\")\n",
    "        exit(1)\n",
    "    \n",
    "    data = response.json()\n",
    "    # ToDo: render template and print\n",
    "\n",
    "if __name__ == \"__main__\":\n",
    "    # ToDo: Create an ArgumentParser and start main"
   ]
  },
  {
   "cell_type": "code",
   "execution_count": null,
   "metadata": {},
   "outputs": [],
   "source": [
    "%run train_connections.py -s Rapperswil -e Herisau"
   ]
  }
 ],
 "metadata": {
  "kernelspec": {
   "display_name": "Python 3 (ipykernel)",
   "language": "python",
   "name": "python3"
  },
  "language_info": {
   "codemirror_mode": {
    "name": "ipython",
    "version": 3
   },
   "file_extension": ".py",
   "mimetype": "text/x-python",
   "name": "python",
   "nbconvert_exporter": "python",
   "pygments_lexer": "ipython3",
   "version": "3.8.10"
  }
 },
 "nbformat": 4,
 "nbformat_minor": 4
}
