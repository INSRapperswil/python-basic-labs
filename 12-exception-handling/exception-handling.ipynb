{
 "cells": [
  {
   "cell_type": "markdown",
   "metadata": {},
   "source": [
    "# Debugging Part 1: Exception Handling\n",
    "\n",
    "## Introduction\n",
    "\n",
    "This and the two following notebooks are about tools and techniques for finding the root cause of bugs in your program. There are several possibilities to gather information depending on how you want the program to behave in case of a possible error:\n",
    "\n",
    "1. **Abort** the program or part of the code: raise **exceptions** and assertions (this notebook).\n",
    "2. **Continue** running the program: **log** information\n",
    "3. **Halt** the program: **debug** your code\n",
    "\n",
    "This notebook covers parts of [chapter 11](https://automatetheboringstuff.com/2e/chapter11/) of the book.\n",
    "\n",
    "You can find more information about exception handling in the Python documentation: [Errors and Exceptions](https://docs.python.org/3/tutorial/errors.html)."
   ]
  },
  {
   "cell_type": "markdown",
   "metadata": {},
   "source": [
    "## Summary\n",
    "\n",
    "### Control Structures for Exception Handling\n",
    "\n",
    "The minimal control structure syntax for handling exceptions has already been covered in the third chapter:\n",
    "\n",
    "```python\n",
    "def spam(divideBy):\n",
    "   try:\n",
    "     return 42 / divideBy\n",
    "   except ZeroDivisionError:\n",
    "     print('Error: Invalid argument.')\n",
    "```\n",
    "\n",
    "The full control structure syntax for handling exception consists of a `try` block, one or more `except` blocks and an optional `else` and `finally` block. The code in the `try` block gets executed and if an exception occurs, the block with the specified exception type gets executed. If an exception occurs and no block for the exception type is given, the exception is raised in the next higher function. If no exception is raised the `else` block gets executed. The `finally` block gets executed regardless of whether an exception is raised.\n",
    "\n",
    "```python\n",
    "try:\n",
    "    # try something\n",
    "except ZeroDivisionError as e:\n",
    "    # handle exceptions of type ZeroDivisionError\n",
    "except (RuntimeError, TypeError, NameError) as e:\n",
    "    # handle exceptions of types RuntimeError, TypeError or NameError\n",
    "except Exception as e:\n",
    "    # handle all other exception types\n",
    "else:\n",
    "    # run some code in case NO exception occurred\n",
    "finally:\n",
    "    # run some code regardless of whether an exception occurred or not\n",
    "```\n",
    "\n",
    "### Raising Exceptions\n",
    "\n",
    "Raising exceptions is done using the `raise` keyword:\n",
    "\n",
    "```python\n",
    "raise Exception('This is the error message.')\n",
    "```\n",
    "\n",
    "It is also possible to re-raise an exception:\n",
    "\n",
    "```python\n",
    "try:\n",
    "    # some code\n",
    "except ZeroDivisionError as e:\n",
    "    # some code\n",
    "    raise e\n",
    "```\n",
    "\n",
    "### Tracebacks\n",
    "\n",
    "Details about the exception and where it occurred in the code is stored in the traceback. The traceback contains the call stack (which functions called which function) including the files and line numbers:\n",
    "\n",
    "```\n",
    "Traceback (most recent call last):\n",
    "  File \"/path/to/example.py\", line 4, in <module>\n",
    "    greet('Chad')\n",
    "  File \"/path/to/example.py\", line 2, in greet\n",
    "    print('Hello, ' + someon)\n",
    "NameError: name 'someon' is not defined\n",
    "```\n",
    "\n",
    "Tracebacks are typically logged to stderr or shown at the console (not handled programmatically).\n",
    "\n",
    "### Assertions\n",
    "\n",
    "Assertions are a shorthand for raising an `AssertionError` (exception) by using the `assert` keyword. The exception is only raised if the condition following the `assert` statement does not hold.\n",
    "\n",
    "```python\n",
    "assert 1 == 0\n",
    "```\n",
    "\n",
    "Assertions are intended to be used for developing and/or testing and not for the end user. Therefore it's not handled with a `try`-statement."
   ]
  },
  {
   "cell_type": "markdown",
   "metadata": {},
   "source": [
    "## Exercises"
   ]
  },
  {
   "cell_type": "markdown",
   "metadata": {},
   "source": [
    "### Exercise 1: Raising and Catching Exceptions\n",
    "Raise an exception in the function containing a message. Catch the exception and print the message."
   ]
  },
  {
   "cell_type": "code",
   "execution_count": null,
   "metadata": {},
   "outputs": [],
   "source": [
    "def my_function():\n",
    "    # todo: raise an exception\n",
    "    pass\n",
    "\n",
    "\n",
    "# todo: catch the exception\n",
    "my_function()"
   ]
  },
  {
   "cell_type": "markdown",
   "metadata": {},
   "source": [
    "### Exercise 2: Catching Specific Exceptions\n",
    "In the inner function, make sure (assert) that the given value is a dictionary. Then increment the 'counter' item of the dictionary.\n",
    "\n",
    "The assert statements in the given code below all trigger a different exception type when the inner function is called. Handle them all in the outer function and return a corresponding string - the one that is expected in the assert statements: \n",
    "- `value is not a dictionary`\n",
    "- `value has no \"counter\" key`\n",
    "- `value[\"counter\"] is not an integer`"
   ]
  },
  {
   "cell_type": "code",
   "execution_count": null,
   "metadata": {},
   "outputs": [],
   "source": [
    "def inner_function(value):\n",
    "    # todo: check/assert that value is a dict\n",
    "    # todo: increment 'counter' value\n",
    "    return value\n",
    "\n",
    "\n",
    "def outer_function(value):\n",
    "    # todo: handle exceptions\n",
    "    return inner_function(value)\n",
    "\n",
    "\n",
    "assert outer_function(None) == \"value is not a dictionary\"\n",
    "assert outer_function({}) == 'value has no \"counter\" key'\n",
    "assert outer_function({\"counter\": None}) == 'value[\"counter\"] is not an integer'\n",
    "assert outer_function({\"counter\": 1}) == {\"counter\": 2}"
   ]
  },
  {
   "cell_type": "markdown",
   "metadata": {},
   "source": [
    "### Exercise 3: Re-Raising Exceptions\n",
    "Use your solution from above.\n",
    "In the inner function, raise an `OverflowError` if the counter is greater than 10 and a `RuntimeError` if the counter is less than 0.\n",
    "\n",
    "In the outer function, re-raise a general exception for all unhandled exception types."
   ]
  },
  {
   "cell_type": "code",
   "execution_count": null,
   "metadata": {},
   "outputs": [],
   "source": [
    "def inner_function(value):\n",
    "    # todo: check/assert that value is a dict\n",
    "    # todo: raise a RuntimeError if counter < 0\n",
    "    # todo: raise a OverflowError if counter > 10\n",
    "    # todo: increment 'counter' value\n",
    "    return value\n",
    "\n",
    "\n",
    "def outer_function(value):\n",
    "    # todo: handle or re-raise exceptions\n",
    "    return inner_function(value)\n",
    "\n",
    "\n",
    "assert outer_function(None) == \"value is not a dictionary\"\n",
    "assert outer_function({}) == 'value has no \"counter\" key'\n",
    "assert outer_function({\"counter\": None}) == 'value[\"counter\"] is not an integer'\n",
    "assert outer_function({\"counter\": 1}) == {\"counter\": 2}\n",
    "\n",
    "try:\n",
    "    outer_function({\"counter\": -1})\n",
    "except:\n",
    "    pass\n",
    "\n",
    "try:\n",
    "    assert outer_function({\"counter\": 10})\n",
    "except:\n",
    "    pass"
   ]
  },
  {
   "cell_type": "markdown",
   "metadata": {},
   "source": [
    "### Exercise 4: else-Blocks\n",
    "Change the following function so that `value + 2` is returned if the divisor is zero. Only use try/except/else, no if!"
   ]
  },
  {
   "cell_type": "code",
   "execution_count": null,
   "metadata": {},
   "outputs": [],
   "source": [
    "def normalize(value, divisor):\n",
    "    # todo: if divisor is zero, just return value + 2\n",
    "    return (value + 2) / divisor + 3\n",
    "\n",
    "\n",
    "assert normalize(10, 2) == 9\n",
    "assert normalize(10, 0) == 12"
   ]
  },
  {
   "cell_type": "markdown",
   "metadata": {},
   "source": [
    "### Exercise 5: Expecting Exceptions in pytest\n",
    "Pytest allows to check if a block of code raises an exception by using [`pytest.raises` together with a `with` statement](https://docs.pytest.org/en/latest/reference.html#pytest-raises).\n",
    "\n",
    "First install pytest with Jupyter magic and restart the kernel, then add two tests for `division(10, 2)` and `division(10, 0)`"
   ]
  },
  {
   "cell_type": "code",
   "execution_count": null,
   "metadata": {},
   "outputs": [],
   "source": [
    "# run this cell to install pytest with jupyter magic\n",
    "%pip install pytest ipytest\n",
    "import ipytest\n",
    "\n",
    "ipytest.autoconfig(addopts=[\"--color=yes\"])"
   ]
  },
  {
   "cell_type": "code",
   "execution_count": null,
   "metadata": {},
   "outputs": [],
   "source": [
    "def division(numerator, divisor):\n",
    "    return numerator / divisor\n",
    "\n",
    "\n",
    "# todo: test that division(10, 2) equals 5\n",
    "# todo: test that division(10, 0) throws a ZeroDivisionError"
   ]
  },
  {
   "cell_type": "markdown",
   "metadata": {},
   "source": [
    "### Exercise 6: Parsing a Messy File\n",
    "The file `data.txt` contains some messy data which we want to parse and convert to a list of dictionaries."
   ]
  },
  {
   "cell_type": "code",
   "execution_count": null,
   "metadata": {},
   "outputs": [],
   "source": [
    "!cat data.txt"
   ]
  },
  {
   "cell_type": "markdown",
   "metadata": {},
   "source": [
    "The first line is the header: All the field names are separated by a comma. Each field name has a type hint attached, e.g. `Number|int`. In the resulting dictionary, the values should be of the correct type - in the example given, the key `Number` should have a value of type `int`.\n",
    "\n",
    "Catch missing type hints, missing entries, wrong types etc. with try/except statements. For the header line, use `str` if no (valid) type hint is given. For the data lines, use `None` if no valid data is given.\n",
    "\n",
    "There are various ways how to solve this - to get you started, we provide you with some initial code that tracks the two fields (the name and type) using two lists. Feel free to implement a totally different solution though!\n",
    "\n",
    "Note: You can use python types like a function. If you define `real_type = str` and then call `real_type(42)`, the result will be the string `\"42\"`. Nice, isn't it?!\n",
    "\n",
    "The resulting data should look like this:\n",
    "\n",
    "```\n",
    "{'Final': 49.0,\n",
    " 'First name': 'Aloysius',\n",
    " 'Grade': 'D-',\n",
    " 'Last name': 'Alfalfa',\n",
    " 'Number': 1,\n",
    " 'SSN': '123-45-6789',\n",
    " 'Test1': 40.0,\n",
    " 'Test2': 90.0,\n",
    " 'Test3': 100.0,\n",
    " 'Test4': 83.0}\n",
    "{'Final': 48.0,\n",
    " 'First name': 'University',\n",
    " 'Grade': 'D+',\n",
    " 'Last name': 'Alfred',\n",
    " 'Number': 2,\n",
    " 'SSN': '123-12-1234',\n",
    " 'Test1': 41.0,\n",
    " 'Test2': 97.0,\n",
    " 'Test3': 96.0,\n",
    " 'Test4': 97.0}\n",
    " ...\n",
    "```"
   ]
  },
  {
   "cell_type": "code",
   "execution_count": null,
   "metadata": {},
   "outputs": [],
   "source": [
    "def parse_header(line):\n",
    "    \"\"\"Parses a header line with type hints. Defaults to str.\"\"\"\n",
    "\n",
    "    # Create a lookup dictionary which maps the type strings to actual types.\n",
    "    types = {\"float\": float, \"int\": int, \"str\": str}\n",
    "\n",
    "    # we use two lists to track the header info: one for the cell name and one\n",
    "    # for the cell type. Lists are sequential and thus ordered, so at the same index\n",
    "    # we find the type that corresponds to a name and vice versa\n",
    "    cell_names = []\n",
    "    cell_type = []\n",
    "\n",
    "    cells = line.strip().split(\",\")\n",
    "    for cell in cells:\n",
    "        # todo: parse and catch\n",
    "    return cell_names, cell_type\n",
    "\n",
    "\n",
    "def parse_line(line, names, types):\n",
    "    \"\"\"Parses a data line. Defaults to None.\"\"\"\n",
    "    result = {}\n",
    "\n",
    "    # turn the line that is a long string into distinct cells\n",
    "    cells = line.strip().split(\",\")\n",
    "    for cell, name, real_type in zip(cells, names, types):\n",
    "        # todo: parse line and catch exceptions\n",
    "    return result\n",
    "    \n",
    "# todo: open file, parse header, then parse each line using the result from parsing the header"
   ]
  }
 ],
 "metadata": {
  "kernelspec": {
   "display_name": ".venv",
   "language": "python",
   "name": ".venv"
  },
  "language_info": {
   "codemirror_mode": {
    "name": "ipython",
    "version": 3
   },
   "file_extension": ".py",
   "mimetype": "text/x-python",
   "name": "python",
   "nbconvert_exporter": "python",
   "pygments_lexer": "ipython3",
   "version": "3.8.10"
  }
 },
 "nbformat": 4,
 "nbformat_minor": 4
}
