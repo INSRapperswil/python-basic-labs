{
 "cells": [
  {
   "cell_type": "markdown",
   "metadata": {},
   "source": [
    "# Lists"
   ]
  },
  {
   "cell_type": "markdown",
   "metadata": {},
   "source": [
    "## Introduction\n",
    "\n",
    "Next to strings and integers, there are other data types. One important data type to mention is the _list_. It is a collection of items, where an item can be any data type, even another list.\n",
    "\n",
    "This notebook covers the [fourth chapter](https://automatetheboringstuff.com/2e/chapter4/) of the book.\n",
    "\n",
    "You can find more information about lists in the Python documentation:\n",
    "* [More on Lists](https://docs.python.org/3/tutorial/datastructures.html#more-on-lists)"
   ]
  },
  {
   "cell_type": "markdown",
   "metadata": {},
   "source": [
    "## Summary"
   ]
  },
  {
   "cell_type": "markdown",
   "metadata": {},
   "source": [
    "### Why Lists\n",
    "A list is a sequence of items. The main advantage in lists is that you don't have to know how many items the list will hold while writing the program. If you create some software that stores books of a library, you might not know in advance how many books will be stored. Instead of creating variables for each book, you can simply use a list."
   ]
  },
  {
   "cell_type": "markdown",
   "metadata": {},
   "source": [
    "### Basics\n",
    "To define a list, you write the items comma-separated and enclose them in square brackets."
   ]
  },
  {
   "cell_type": "code",
   "execution_count": 2,
   "metadata": {},
   "outputs": [],
   "source": [
    "wizards = [\"hermione\", \"ron\", \"harry\", \"hagrid\", \"snape\"]"
   ]
  },
  {
   "cell_type": "markdown",
   "metadata": {},
   "source": [
    "You can also use functions to create lists for you, for example the `range` function."
   ]
  },
  {
   "cell_type": "code",
   "execution_count": 2,
   "metadata": {},
   "outputs": [
    {
     "name": "stdout",
     "output_type": "stream",
     "text": [
      "[0, 1, 2, 3, 4, 5, 6, 7, 8, 9, 10]\n"
     ]
    }
   ],
   "source": [
    "numbers = list(range(11))\n",
    "print(numbers)"
   ]
  },
  {
   "cell_type": "markdown",
   "metadata": {},
   "source": [
    "To access an item in the list, you specify the _index_ of the list. Index-counting starts at zero!"
   ]
  },
  {
   "cell_type": "code",
   "execution_count": 5,
   "metadata": {},
   "outputs": [
    {
     "name": "stdout",
     "output_type": "stream",
     "text": [
      "hermione\n"
     ]
    }
   ],
   "source": [
    "hermione = wizards[0]\n",
    "print(hermione)"
   ]
  },
  {
   "cell_type": "markdown",
   "metadata": {},
   "source": [
    "You can address items in reverse, too. If you want to do that, the last item is addressed with `[-1]`, the second last with `[-2]`, and so on."
   ]
  },
  {
   "cell_type": "code",
   "execution_count": 6,
   "metadata": {},
   "outputs": [
    {
     "name": "stdout",
     "output_type": "stream",
     "text": [
      "hermione\n"
     ]
    }
   ],
   "source": [
    "hermione = wizards[-5]\n",
    "print(hermione)"
   ]
  },
  {
   "cell_type": "markdown",
   "metadata": {},
   "source": [
    "You get an `IndexError` if you point to an element that does not exist in the list."
   ]
  },
  {
   "cell_type": "markdown",
   "metadata": {},
   "source": [
    "### Slices\n",
    "Instead of getting just one item of a list by using indices, you can also use slices to get multiple items of a list at once. To get the first two items of a list, you would write"
   ]
  },
  {
   "cell_type": "code",
   "execution_count": null,
   "metadata": {},
   "outputs": [],
   "source": [
    "two_wizards = wizards[0:2]\n",
    "print(two_wizards)"
   ]
  },
  {
   "cell_type": "markdown",
   "metadata": {},
   "source": [
    "To address a slice, you need to use the colon sign. The index before the colon points to the start of the slice, the second index points to the last index of the slice *not including the item it's pointing to.* You can leave indices out and just write something like `[:2]`. This is just shorthand. If you leave out the first index, it will be interpreted as a zero. Leaving out the second one, results in the length of the list."
   ]
  },
  {
   "cell_type": "code",
   "execution_count": null,
   "metadata": {},
   "outputs": [],
   "source": [
    "# This:\n",
    "all_wizards = wizards[:]\n",
    "\n",
    "# is the same as:\n",
    "all_wizards = wizards[0 : len(wizards)]\n",
    "\n",
    "print(all_wizards)"
   ]
  },
  {
   "cell_type": "markdown",
   "metadata": {},
   "source": [
    "### List Manipulation"
   ]
  },
  {
   "cell_type": "code",
   "execution_count": null,
   "metadata": {},
   "outputs": [],
   "source": [
    "concatenated_list = [\"A\", \"B\"] + [\"C\", \"D\"]\n",
    "print(concatenated_list)\n",
    "\n",
    "replicated_list = 3 * [1, 2, 3]\n",
    "print(replicated_list)\n",
    "\n",
    "del concatenated_list[2]  # or: del concatenated_list[2]\n",
    "print(concatenated_list)"
   ]
  },
  {
   "cell_type": "markdown",
   "metadata": {},
   "source": [
    "### List Processing\n",
    "#### `in` and `not in`\n",
    "Check if an item is part of the list or not with `in`:"
   ]
  },
  {
   "cell_type": "code",
   "execution_count": null,
   "metadata": {},
   "outputs": [],
   "source": [
    "is_wizard = \"joe\" in wizards\n",
    "print(is_wizard)\n",
    "\n",
    "is_wizard = \"ron\" in wizards\n",
    "print(is_wizard)"
   ]
  },
  {
   "cell_type": "markdown",
   "metadata": {},
   "source": [
    "#### Misuse List for Coherent Properties\n",
    "You can store data that belongs to an object in a list. This is called _unpacking_, which is also referred as the _Multiple Assignment Trick_. This is an example:"
   ]
  },
  {
   "cell_type": "code",
   "execution_count": null,
   "metadata": {},
   "outputs": [],
   "source": [
    "harry = [\"black hair\", \"green eyes\", \"scar\"]\n",
    "ron = [\"red hair\", \"blue eyes\", \"freckles\"]\n",
    "\n",
    "hair, eyes, feature = harry\n",
    "print(hair, eyes, feature)\n",
    "\n",
    "hair, eyes, feature = ron\n",
    "print(hair, eyes, feature)"
   ]
  },
  {
   "cell_type": "markdown",
   "metadata": {},
   "source": [
    "#### Loops\n",
    "You'll often loop through a list. Example:"
   ]
  },
  {
   "cell_type": "code",
   "execution_count": 6,
   "metadata": {},
   "outputs": [
    {
     "name": "stdout",
     "output_type": "stream",
     "text": [
      "hermione\n",
      "ron\n",
      "harry\n",
      "hagrid\n",
      "snape\n"
     ]
    }
   ],
   "source": [
    "for wizard in wizards:\n",
    "    print(wizard)"
   ]
  },
  {
   "cell_type": "markdown",
   "metadata": {},
   "source": [
    "To get the index of an item within a loop, you can put an enumerate function on top of the list."
   ]
  },
  {
   "cell_type": "code",
   "execution_count": 5,
   "metadata": {},
   "outputs": [
    {
     "name": "stdout",
     "output_type": "stream",
     "text": [
      "0\n",
      "1\n",
      "2\n",
      "3\n",
      "4\n"
     ]
    }
   ],
   "source": [
    "for index, wizard in enumerate(wizards):\n",
    "    print(index)"
   ]
  },
  {
   "cell_type": "markdown",
   "metadata": {},
   "source": [
    "### List Comprehension\n",
    "Loops are nice, but sometimes your code can be shortened. For example, to write every string in capitals in a list, you can use _list comprehension_."
   ]
  },
  {
   "cell_type": "code",
   "execution_count": 9,
   "metadata": {},
   "outputs": [
    {
     "name": "stdout",
     "output_type": "stream",
     "text": [
      "['HERMOINE', 'RON', 'HARRY', 'HAGRID', 'SNAPE']\n"
     ]
    }
   ],
   "source": [
    "wizards_cap = [w.upper() for w in wizards]\n",
    "print(wizards_cap)"
   ]
  },
  {
   "cell_type": "markdown",
   "metadata": {},
   "source": [
    "The syntax is the following:\n",
    "```python\n",
    "result = [ EXPRESSION for item in list if condition ]\n",
    "```"
   ]
  },
  {
   "cell_type": "markdown",
   "metadata": {},
   "source": [
    "As you can see, you can also add a condition to the list comprehension. See the example below:"
   ]
  },
  {
   "cell_type": "code",
   "execution_count": 4,
   "metadata": {},
   "outputs": [
    {
     "name": "stdout",
     "output_type": "stream",
     "text": [
      "['HERMOINE', 'HARRY', 'HAGRID']\n"
     ]
    }
   ],
   "source": [
    "h_wizards_cap = [w.upper() for w in wizards if w.startswith(\"h\")]\n",
    "print(h_wizards_cap)"
   ]
  },
  {
   "cell_type": "markdown",
   "metadata": {},
   "source": [
    "#### Methods On Lists"
   ]
  },
  {
   "cell_type": "code",
   "execution_count": null,
   "metadata": {},
   "outputs": [],
   "source": [
    "# Get the index of an element in a list\n",
    "harry_index = wizards.index(\"harry\")\n",
    "print(harry_index)\n",
    "\n",
    "# Add item at the end of a list\n",
    "wizards.append(\"dumbledore\")\n",
    "print(wizards)\n",
    "\n",
    "# Insert item at specific index of a list\n",
    "wizards.insert(3, \"ginny\")\n",
    "print(wizards)\n",
    "\n",
    "# Remove an item from a list\n",
    "wizards.remove(\"harry\")\n",
    "print(wizards)\n",
    "\n",
    "# Sort items in a list\n",
    "wizards.sort()\n",
    "print(wizards)\n",
    "wizards.sort(reverse=True)\n",
    "print(wizards)"
   ]
  },
  {
   "cell_type": "markdown",
   "metadata": {},
   "source": [
    "### Values and References\n",
    "The most important theory to take from this chapter is that there is a difference between variables storing a value and variables storing a reference. Numbers for example get stored stored in the variable as a value. This is not the same for lists. A list variable contains a reference to a list. Have a look at this example:"
   ]
  },
  {
   "cell_type": "code",
   "execution_count": 7,
   "metadata": {},
   "outputs": [
    {
     "name": "stdout",
     "output_type": "stream",
     "text": [
      "12 11\n",
      "['Transformation', 'Potions', 'Flying'] ['Transformation', 'Potions', 'Flying']\n"
     ]
    }
   ],
   "source": [
    "age_harry = 11\n",
    "age_ron = age_harry\n",
    "age_harry = 12\n",
    "print(age_harry, age_ron)\n",
    "\n",
    "subjects_harry = [\"Transformation\", \"Potions\", \"Divination\"]\n",
    "subjects_ron = subjects_harry\n",
    "subjects_harry[2] = \"Flying\"\n",
    "print(subjects_harry, subjects_ron)"
   ]
  },
  {
   "cell_type": "markdown",
   "metadata": {},
   "source": [
    "As you can see, changing an item in the `subjects_harry` list leads to a change in the list of ron as well. This is because you're operating on the same list, you're just working with two different references to the same list. Use the copy-modules `copy()` or `deepcopy()` methods to copy a list instead of creating a new reference."
   ]
  },
  {
   "cell_type": "markdown",
   "metadata": {},
   "source": [
    "### Tuples"
   ]
  },
  {
   "cell_type": "code",
   "execution_count": null,
   "metadata": {},
   "outputs": [],
   "source": [
    "subjects1 = [\"Transformation\", \"Potions\", \"Divination\"]  # This is a list\n",
    "subjects1[2] = \"Flying\"\n",
    "\n",
    "subjects2 = (\"Transformation\", \"Potions\", \"Divination\")  # This is a tuple\n",
    "subjects2[2] = \"Flying\"\n",
    "\n",
    "print(subjects1, subjects2)"
   ]
  },
  {
   "cell_type": "markdown",
   "metadata": {},
   "source": [
    "Run the code above. As you can see, lists can be modified but tuples cannot. The _immutability_ of tuples leads to performance gains. So when you need a sequence of items but you know that this sequence will never change, make use of tuples instead of lists."
   ]
  },
  {
   "cell_type": "markdown",
   "metadata": {},
   "source": [
    "## Exercises\n",
    "\n",
    "### Exercise 1: Reversing Lists\n",
    "Complete the following code. The printed result should be the reversed list. Do not use the list's built-in `reverse()` method. But you can make use of a for-loop."
   ]
  },
  {
   "cell_type": "code",
   "execution_count": null,
   "metadata": {},
   "outputs": [],
   "source": [
    "def reverse(list):\n",
    "    # create a temporary list\n",
    "    # loop through the arguments list\n",
    "        # insert item at the beginning of the temp list\n",
    "    # your temporary list now contains all the items in reversed order\n",
    "\n",
    "fruits = ['apple', 'pear', 'cherry', 'lemon', 'mango']\n",
    "print(reverse(fruits))"
   ]
  },
  {
   "cell_type": "markdown",
   "metadata": {},
   "source": [
    "### Exercise 2: Sorting Lists\n",
    "Write a program that accepts multiple words from a user and prints them out sorted alphabetically. The input should stop when the user enters just an `x`. Do you need a for- or a while-loop?"
   ]
  },
  {
   "cell_type": "code",
   "execution_count": null,
   "metadata": {},
   "outputs": [],
   "source": [
    "words = []\n",
    "\n",
    "# complete here\n",
    "\n",
    "print(words)"
   ]
  },
  {
   "cell_type": "markdown",
   "metadata": {},
   "source": [
    "### Exercise 3: Drink-Generator\n",
    "In this exercise you're going to write a tool that is useful for your next houseparty. The user is able to enter a name of a drink whereon the tool prints the ingredients. Use functions, lists and tuples. Print a message when the user wants to know about a drink that is not available. Hint for an elegant solution: The index in `drinks` is related to the corresponding index in `ingredients`. In this case, `zip()` from the standard library can be used - [here's a tutorial on zip()](https://realpython.com/python-zip-function/)."
   ]
  },
  {
   "cell_type": "code",
   "execution_count": null,
   "metadata": {},
   "outputs": [],
   "source": [
    "drinks = [\n",
    "    'caipirinha',\n",
    "    'mojito',\n",
    "    'gin tonic',\n",
    "    'vodka martini'\n",
    "]\n",
    "\n",
    "ingredients = [\n",
    "    ('cachaca', 'sugar', 'lime'),\n",
    "    ('white rum', 'sugar cane juice', 'lime juice', 'soda water', 'mint'),\n",
    "    ('gin', 'tonic water', 'ice'),\n",
    "    ('vodka', 'vermouth', 'ice', 'olives')\n",
    "]\n",
    "\n",
    "def print_ingredients(drink):\n",
    "    # complete here\n",
    "        \n",
    "asked_ingredients = input(\"What drink do you want to create?\")\n",
    "print_ingredients(asked_ingredients)"
   ]
  },
  {
   "cell_type": "markdown",
   "metadata": {},
   "source": [
    "### Exercise 4: Drink-Generator Revisited\n",
    "This exercise is a little bit trickier. Rewrite (or write from scratch) the tool from above. But instead of entering the name of a drink, the user enters three ingredients and gets the name of the drink he or she can make out of these ingredients."
   ]
  },
  {
   "cell_type": "code",
   "execution_count": null,
   "metadata": {},
   "outputs": [],
   "source": [
    "drinks = [\n",
    "    'caipirinha',\n",
    "    'mojito',\n",
    "    'gin tonic',\n",
    "    'vodka martini'\n",
    "]\n",
    "\n",
    "ingredients = [\n",
    "    ('cachaca', 'sugar', 'lime'),\n",
    "    ('white rum', 'sugar cane juice', 'lime juice', 'soda water', 'mint'),\n",
    "    ('gin', 'tonic water', 'ice'),\n",
    "    ('vodka', 'vermouth', 'ice', 'olives')\n",
    "]\n",
    "\n",
    "def find_drink(available_ingredients):\n",
    "    # complete here\n",
    "\n",
    "available = []\n",
    "for i in range(1, 4):\n",
    "    available.append(input(f\"Enter the available ingredient number {i}:\"))\n",
    "    \n",
    "print(find_drink(available))"
   ]
  }
 ],
 "metadata": {
  "kernelspec": {
   "display_name": "Python 3 (ipykernel)",
   "language": "python",
   "name": "python3"
  },
  "language_info": {
   "codemirror_mode": {
    "name": "ipython",
    "version": 3
   },
   "file_extension": ".py",
   "mimetype": "text/x-python",
   "name": "python",
   "nbconvert_exporter": "python",
   "pygments_lexer": "ipython3",
   "version": "3.8.10"
  }
 },
 "nbformat": 4,
 "nbformat_minor": 4
}
