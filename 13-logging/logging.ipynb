{
 "cells": [
  {
   "cell_type": "markdown",
   "metadata": {},
   "source": [
    "# Debugging Part 2: Logging\n",
    "\n",
    "## Introduction\n",
    "\n",
    "This, the previous and the following notebook are about tools and techniques for finding the root cause of bugs in your program. There are several possibilities to gather information depending on how you want the program to behave in case of a possible error:\n",
    "\n",
    "1. **Abort** the program or part of the code: raise **exceptions** and assertions\n",
    "2. **Continue** running the program: **log** information (this notebook)\n",
    "3. **Halt** the program: **debug** your code\n",
    "\n",
    "This notebook covers parts of [chapter 11](https://automatetheboringstuff.com/2e/chapter11/) of the book.\n",
    "\n",
    "You can find more information about logging in the Python documentation: [Logging HOWTO](https://docs.python.org/3/howto/logging.html)."
   ]
  },
  {
   "cell_type": "markdown",
   "metadata": {},
   "source": [
    "## Summary\n",
    "\n",
    "### Getting a Logger\n",
    "\n",
    "Logging is done by creating and using a `Logger` instance from the `logging` module:\n",
    "\n",
    "```python\n",
    "import logging\n",
    "logger = logging.getLogger()\n",
    "logger.debug('Something happened')\n",
    "```\n",
    "\n",
    "### Named Loggers and the Root Logger\n",
    "\n",
    "It is possible to use different `Logger` instances with different names to easily distinguish between different parts of your code:\n",
    "\n",
    "```python\n",
    "logger_a = logging.getLogger('Module A')\n",
    "logger_b = logging.getLogger('Module B')\n",
    "logger_a.warning('Something happened')\n",
    "logger_b.warning('Something happened')\n",
    "```\n",
    "\n",
    "Which results in:\n",
    "\n",
    "```\n",
    "WARNING:Module A:Something happened\n",
    "WARNING:Module B:Something happened\n",
    "```\n",
    "\n",
    "A common pattern is to use the magic variable `__name__` (module name).\n",
    "\n",
    "If no name is given, `getLogger` returns the root logger. The root logger is also accessible directly:\n",
    "\n",
    "```python\n",
    "logging.warning('Something happened')\n",
    "```\n",
    "\n",
    "It's easier to use the root logger directly for short scripts. Use named loggers if you have a lot of code with different modules!\n",
    "\n",
    "### Log Levels\n",
    "\n",
    "There are five different log levels:\n",
    "\n",
    "| Level      | Numeric value | Function             |\n",
    "| ---------- | ------------- | -------------------- |\n",
    "| `CRITICAL` | 50            | `critical(msg, ...)` |\n",
    "| `ERROR`    | 40            | `error(msg, ...)`    |\n",
    "| `WARNING`  | 30            | `warning(msg, ...)`  |\n",
    "| `INFO`     | 20            | `info(msg, ...)`     |\n",
    "| `DEBUG`    | 10            | `debug(msg, ...)`    |\n",
    "\n",
    "The default/root log level is `WARNING` and can be changed with `setLevel`:\n",
    "\n",
    "```python\n",
    "logger = logging.getLogger()\n",
    "logger.setLevel(logging.DEBUG)\n",
    "logger.debug('Debug')\n",
    "```\n",
    "\n",
    "### Logging to a File\n",
    "\n",
    "Logging to a file can be done by using a custom `Handler`:\n",
    "\n",
    "```python\n",
    "logger = logging.getLogger()\n",
    "file_handler = logging.FileHandler('my.log')\n",
    "logger.addHandler(file_handler)\n",
    "```\n",
    "\n",
    "It's also possible to set the filename for the root logger directly using `basicConfig`:\n",
    "\n",
    "```python\n",
    "logging.basicConfig(filename='my.log')\n",
    "```\n",
    "\n",
    "### Log Format\n",
    "\n",
    "The format of the log can be changed by using custom `Handler` and `Formatter`:\n",
    "\n",
    "```python\n",
    "logger = logging.getLogger()\n",
    "file_handler = logging.FileHandler('my.log')\n",
    "formatter = logging.Formatter('%(asctime)s - %(name)s - %(levelname)s - %(message)s')\n",
    "file_handler.setFormatter(formatter)\n",
    "logger.addHandler(file_handler)\n",
    "```\n",
    "\n",
    "Possible options are listed in the Python documentation: [LogRecord attributes](https://docs.python.org/3/library/logging.html#logrecord-attributes).\n",
    "\n",
    "It's also possible to set the format of the root logger directly using `basicConfig`:\n",
    "\n",
    "```python\n",
    "from logging import basicConfig\n",
    "basicConfig(format='%(asctime)s - %(levelname)s - %(message)s')\n",
    "```\n",
    "\n"
   ]
  },
  {
   "cell_type": "markdown",
   "metadata": {},
   "source": [
    "## Exercises\n",
    "\n",
    "**Note that the Python interpreter keeps running in the background between executing cells when using Juypter. This means that if you add a handler to the root logger, it will stay there and calling the cell a second time adds a second handler (which results in duplicated output). To start a fresh try, restart the Juypter kernel!**"
   ]
  },
  {
   "cell_type": "markdown",
   "metadata": {},
   "source": [
    "### Exercise 1: Logging\n",
    "Get the root logger, set the level to `DEBUG` and log a debug message, a warning and an error."
   ]
  },
  {
   "cell_type": "code",
   "execution_count": null,
   "metadata": {},
   "outputs": [],
   "source": [
    "import logging\n",
    "\n",
    "logging.basicConfig()  # dummy config required for nice jupyter output\n",
    "\n",
    "# todo: get the root logger\n",
    "# todo: set the logger to DEBUG\n",
    "# todo: log a debug message\n",
    "# todo: log a warning\n",
    "# todo: log an error"
   ]
  },
  {
   "cell_type": "markdown",
   "metadata": {},
   "source": [
    "Next, get the root logger, set the level to `DEBUG` and add a debug log message in the function call containing the value of any type. If the value is a dictionary, only log the values and not the keys. Use a try/except statement."
   ]
  },
  {
   "cell_type": "code",
   "execution_count": 1,
   "metadata": {},
   "outputs": [],
   "source": [
    "import logging\n",
    "\n",
    "logging.basicConfig()  # dummy config required for nice jupyter output\n",
    "\n",
    "# todo: setup logger\n",
    "\n",
    "\n",
    "def my_function(value):\n",
    "    # todo: log value\n",
    "    pass\n",
    "\n",
    "\n",
    "my_function(1)  # DEBUG:root:Value(s): 1\n",
    "my_function(\"1\")  # DEBUG:root:Value(s): 1\n",
    "my_function([1, 2, 3])  # DEBUG:root:Value(s): [1, 2, 3]\n",
    "my_function({\"a\": 1, \"b\": 2})  # DEBUG:root:Value(s): [1, 2]"
   ]
  },
  {
   "cell_type": "markdown",
   "metadata": {},
   "source": [
    "### Exercise 2: Logging with Different Loggers\n",
    "Create a logger in/for each function and log the values in the function with the different loggers as debug messages."
   ]
  },
  {
   "cell_type": "code",
   "execution_count": null,
   "metadata": {},
   "outputs": [],
   "source": [
    "import logging\n",
    "\n",
    "logging.basicConfig()  # dummy config required for nice jupyter output\n",
    "\n",
    "\n",
    "def first_function(value):\n",
    "    # todo: add a debug log message to the first logger\n",
    "    pass\n",
    "\n",
    "\n",
    "def second_function(value):\n",
    "    # todo: add a debug log message to the second logger\n",
    "    pass\n",
    "\n",
    "\n",
    "first_function(1)  # DEBUG:First:first_function called with 1\n",
    "second_function(1)  # DEBUG:Second:second_function called with 1\n",
    "second_function(2)  # DEBUG:Second:second_function called with 2"
   ]
  },
  {
   "cell_type": "markdown",
   "metadata": {},
   "source": [
    "### Exercise 3: Logging to a File\n",
    "Get the root logger, set the level to `DEBUG` and add a file handler."
   ]
  },
  {
   "cell_type": "code",
   "execution_count": null,
   "metadata": {},
   "outputs": [],
   "source": [
    "import logging\n",
    "from pathlib import Path\n",
    "\n",
    "# delete log file if exists\n",
    "log_file = Path('my.log')\n",
    "if log_file.exists():\n",
    "    log_file.unlink()\n",
    "\n",
    "logging.basicConfig()  # dummy config required for nice jupyter output\n",
    "\n",
    "# todo: get the root logger\n",
    "# todo: set level\n",
    "# todo: add handler\n",
    "\n",
    "logger.debug('This is a debug message')\n",
    "\n",
    "# !cat my.log # content of file should be: DEBUG:root:This is a debug message"
   ]
  },
  {
   "cell_type": "markdown",
   "metadata": {},
   "source": [
    "### Exercise 4: Change the Format\n",
    "Get the root logger, set the level to `DEBUG` and add a stream handler with the format `{date/time} {level} {logger}: {message} ({filename}:{linenumber})`. The correct names for formatting the output can be [found in the documentation](https://docs.python.org/3/library/logging.html#logrecord-attributes).\n",
    "\n",
    "Note: [Stream Handlers](https://docs.python.org/3/library/logging.handlers.html#streamhandler) allow logging to a stream such as the console. This is the same as using the default config, but allows additional provision of a custom format."
   ]
  },
  {
   "cell_type": "code",
   "execution_count": null,
   "metadata": {},
   "outputs": [],
   "source": [
    "import logging\n",
    "\n",
    "logging.basicConfig()  # dummy config required for nice jupyter output\n",
    "\n",
    "logger = logging.getLogger()\n",
    "# todo: get root logger\n",
    "# todo: set level\n",
    "# todo: add stream handler\n",
    "\n",
    "logger.debug(\"This is a debug message\")\n",
    "# expected: 2020-06-04 14:55:12,815 DEBUG root: This is a debug message (<ipython-input-1-65c74ee123d6>:11)"
   ]
  },
  {
   "cell_type": "markdown",
   "metadata": {},
   "source": [
    "### Exercise 5: Logging Exceptions\n",
    "It's also possible to log exceptions with `exception` within an `except`-Block. This creates an `error` and includes the traceback.\n",
    "\n",
    "Log a ZeroDivisionError."
   ]
  },
  {
   "cell_type": "code",
   "execution_count": null,
   "metadata": {},
   "outputs": [],
   "source": [
    "# todo: log an exception"
   ]
  },
  {
   "cell_type": "markdown",
   "metadata": {},
   "source": [
    "### Exercise 6: Transform a Log File\n",
    "The file `log.txt` contains some log messages which we want to parse, filter by level and write to another file:"
   ]
  },
  {
   "cell_type": "code",
   "execution_count": 1,
   "metadata": {},
   "outputs": [
    {
     "name": "stdout",
     "output_type": "stream",
     "text": [
      "03/22 08:51:06 WARNING:.....mailslot_create: setsockopt(MCAST_ADD) failed - EDC8116I Address not available.\n",
      "03/22 08:51:06 INFO   :....mailbox_register: mailbox allocated for rsvp-udp\n",
      "03/22 08:51:06 TRACE  :..entity_initialize: interface 129.1.1.1, entity for rsvp allocated and initialized\n",
      "03/22 08:51:06 INFO   :.....mailslot_create: creating mailslot for RSVP\n",
      "03/22 08:51:06 INFO   :....mailbox_register: mailbox allocated for rsvp\n",
      "03/22 08:51:06 INFO   :.....mailslot_create: creating mailslot for RSVP via UDP\n",
      "03/22 08:51:06 WARNING:.....mailslot_create: setsockopt(MCAST_ADD) failed - EDC8116I Address not available.\n",
      "03/22 08:51:06 INFO   :....mailbox_register: mailbox allocated for rsvp-udp\n",
      "03/22 08:51:06 TRACE  :..entity_initialize: interface 9.37.65.139, entity for rsvp allocated and initialized\n",
      "03/22 08:51:06 INFO   :.....mailslot_create: creating mailslot for RSVP\n"
     ]
    }
   ],
   "source": [
    "!head log.txt"
   ]
  },
  {
   "cell_type": "markdown",
   "metadata": {},
   "source": [
    "Parse each line using a regex to get the level and the message. The regex is of the format: Any character, any of the log level words, optional whitespaces, a colon, the actual log message. Use the following mapping for the levels:\n",
    "\n",
    "STRING|LEVEL\n",
    "------|-----\n",
    "'WARNING'|logging.WARNING\n",
    "'INFO'|logging.INFO\n",
    "'TRACE'|logging.DEBUG\n",
    "'EVENT'|logging.DEBUG\n",
    "\n",
    "Write log entries with level `INFO` or more in the format `{message} [{level}]` to an output file:\n",
    "\n",
    "```\n",
    ".....mailslot_create: setsockopt(MCAST_ADD) failed - EDC8116I Address not available. [WARNING]\n",
    "....mailbox_register: mailbox allocated for rsvp-udp [INFO]\n",
    ".....mailslot_create: creating mailslot for RSVP [INFO]\n",
    "....mailbox_register: mailbox allocated for rsvp [INFO]\n",
    ".....mailslot_create: creating mailslot for RSVP via UDP [INFO]\n",
    "```\n",
    "\n",
    "Log parsing errors to a different logger!"
   ]
  },
  {
   "cell_type": "code",
   "execution_count": null,
   "metadata": {},
   "outputs": [],
   "source": [
    "# todo transform logs"
   ]
  }
 ],
 "metadata": {
  "kernelspec": {
   "display_name": "Python 3 (ipykernel)",
   "language": "python",
   "name": "python3"
  },
  "language_info": {
   "codemirror_mode": {
    "name": "ipython",
    "version": 3
   },
   "file_extension": ".py",
   "mimetype": "text/x-python",
   "name": "python",
   "nbconvert_exporter": "python",
   "pygments_lexer": "ipython3",
   "version": "3.8.10"
  }
 },
 "nbformat": 4,
 "nbformat_minor": 4
}
