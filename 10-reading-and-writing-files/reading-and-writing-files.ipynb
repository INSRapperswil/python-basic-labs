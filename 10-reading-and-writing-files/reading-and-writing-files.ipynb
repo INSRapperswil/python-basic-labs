{
 "cells": [
  {
   "cell_type": "markdown",
   "metadata": {},
   "source": [
    "# Reading and Writing Files\n",
    "## Introduction\n",
    "\n",
    "This chapter is about reading files from the file system and writing to them. So you can finally store data and reuse it!\n",
    "\n",
    "This notebook covers the [ninth chapter](https://automatetheboringstuff.com/2e/chapter9/) of the book.\n",
    "\n",
    "Another good way to learn file handling (specific to file creation and writing to files): [W3C Schools: Python File Open](https://www.w3schools.com/python/python_file_handling.asp)"
   ]
  },
  {
   "cell_type": "markdown",
   "metadata": {},
   "source": [
    "## Summary\n",
    "\n",
    "### Path Management\n",
    "\n",
    "* Root-Folder (Anchor)\n",
    "  * Folder-1 (Parent is the Root-Folder)\n",
    "    * Folder-2 (Parent is Folder-1)\n",
    "      * Folder-3 (Parent is Folder-2)\n",
    "        * Filename.Extension\n",
    "        \n",
    "From the point of view of the file, all folders above it are the _parent_. The filename is also called _stem_ and the extension is the _suffix_.\n",
    "\n",
    "#### Windows\n",
    "In Windows, _backslashes_ are used to address files: `Root-Folder\\Folder-1\\Folder-2\\Folder-3\\Filename.Extension`. An example would be `C:\\Users\\harry\\school\\potions.xlsx`. The `C:` points to the drive, for example a hard disk or a USB-Stick. `.xlsx` is the file extension.\n",
    "\n",
    "#### Unix-based Systems\n",
    "On Linux and MacOS, _slashes_ are used to address files `/Folder-1/Folder-2/Folder-3/Filename.Extension`. The path starts with a slash because the first slash indicates the root folder. An example would be `/home/harry/school/potions.xlsx`.\n",
    "\n",
    "#### Paths in Python\n",
    "You don't have to worry about the OS your Python app is running on. If you work with paths, use the `Path` class from the `pathlib` module:"
   ]
  },
  {
   "cell_type": "code",
   "execution_count": null,
   "metadata": {},
   "outputs": [],
   "source": [
    "from pathlib import Path\n",
    "\n",
    "path = Path(\"home\", \"harry\", \"school\")\n",
    "\n",
    "filepath = path / \"potions\" / \"polyjuice.xlsx\""
   ]
  },
  {
   "cell_type": "markdown",
   "metadata": {},
   "source": [
    "Depending on the operating system the code is run on, you'll either get a `WindowsPath`- or a `PosixPath`- object. You can join paths with a slash, thanks to slash-overloading (see the last line in the code above). This method automatically applies the correct separators between the folder names. Note that the first or the second operator must be a Path-object when you use the slash to join paths.\n",
    "\n",
    "To get the different parts of a filepath, make use of the following attributes:"
   ]
  },
  {
   "cell_type": "code",
   "execution_count": null,
   "metadata": {},
   "outputs": [],
   "source": [
    "filepath.anchor  # '/'\n",
    "filepath.parent  # PosixPath('/home/harry/school/potions')\n",
    "filepath.parents  # ['/home/harry/school/potions', '/home/harry/school', '/home/harry', '/home', '/']\n",
    "filepath.stem  # 'polyjuice'\n",
    "filepath.suffix  # '.xlsx'\n",
    "filepath.drive  # '', under Windows this could be 'C:'\n",
    "\n",
    "import os\n",
    "\n",
    "os.path.basename(filepath)  # 'polyjuice.xlsx'\n",
    "os.path.dirname(filepath)  # '/home/harry/school/potions'\n",
    "os.path.split(filepath)  # ('/home/harry/school/potions', 'polyjuice.xlsx')"
   ]
  },
  {
   "cell_type": "markdown",
   "metadata": {},
   "source": [
    "You can retrieve the home directory path with `Path.home()`."
   ]
  },
  {
   "cell_type": "markdown",
   "metadata": {},
   "source": [
    "#### Absolute and Relative Paths\n",
    "\n",
    "Absolute and relative paths work the same as they do in a terminal. If you started Python in the `/home/harry/school/potions` directory, you can switch to any other directory with"
   ]
  },
  {
   "cell_type": "code",
   "execution_count": null,
   "metadata": {},
   "outputs": [],
   "source": [
    "os.chdir(\"../../quidditch/players\")"
   ]
  },
  {
   "cell_type": "markdown",
   "metadata": {},
   "source": [
    "This means up two directory hierarchies and then change into the `quidditch` directory and finally into the `players` folder. This example uses a _relative path_. `..` is just a shorthand for the parent directory and the single dot `.` is a shorthand for the current directory. It also works by passing the _absolute path_:"
   ]
  },
  {
   "cell_type": "code",
   "execution_count": null,
   "metadata": {},
   "outputs": [],
   "source": [
    "os.chdir(\"/home/harry/quidditch/players\")  # (Absolute Path)"
   ]
  },
  {
   "cell_type": "markdown",
   "metadata": {},
   "source": [
    "An absolute path starts with the root directory, meaning with `/` on Unix platforms and with the drive letter on Windows platforms. You can check if a path is absolute or not with the `.is_absolute()`-method on the path object."
   ]
  },
  {
   "cell_type": "markdown",
   "metadata": {},
   "source": [
    "#### Create Folders\n",
    "There are two ways to create a directory with Python:"
   ]
  },
  {
   "cell_type": "code",
   "execution_count": null,
   "metadata": {},
   "outputs": [],
   "source": [
    "# Way 1\n",
    "import os\n",
    "\n",
    "os.makedirs(\n",
    "    \"/home/harry/school/transformation/cats\"\n",
    ")  # Creates a `transformation` folder with a `cats` folder in it\n",
    "\n",
    "# Way 2\n",
    "from pathlib import Path\n",
    "\n",
    "Path(\"/home/harry/school/transformation\").mkdir()  # Creates a `transformation` folder\n",
    "\n",
    "Path(\"/home/harry/school/divination/essays/november\").mkdir(\n",
    "    parents=True\n",
    ")  # Creates a `divination` folder with an `essays` folder with a `november` folder in it"
   ]
  },
  {
   "cell_type": "markdown",
   "metadata": {},
   "source": [
    "#### Gathering Information\n",
    "Get the filesize and directory contents with the `os` module."
   ]
  },
  {
   "cell_type": "code",
   "execution_count": null,
   "metadata": {},
   "outputs": [],
   "source": [
    "import os\n",
    "\n",
    "os.path.getsize(\"/home/harry/school/potions/polyjuice.xlsx\")\n",
    "# 653364 (bytes)\n",
    "\n",
    "os.listdir(\"/home/harry/school/potions\")\n",
    "# ['felix-felicis.xlsx', 'love-potion.xlsx', 'polyjuice.pptx', 'polyjuice.xlsx']"
   ]
  },
  {
   "cell_type": "markdown",
   "metadata": {},
   "source": [
    "#### Path Validity\n",
    "If you are working with paths on a system, you'll always have to make sure that the path actually exists. Otherwise, you'll run into errors. The following methods on the path object can help you with that:"
   ]
  },
  {
   "cell_type": "code",
   "execution_count": null,
   "metadata": {},
   "outputs": [],
   "source": [
    "filepath.exists()  # Checks whether the path exists or not\n",
    "filepath.is_file()  # Checks if the filepath points to a file or not\n",
    "filepath.is_dir()  # Checks whether the path points to a directory or not"
   ]
  },
  {
   "cell_type": "markdown",
   "metadata": {},
   "source": [
    "### Reading and Writing Files\n",
    "Reading and writing files is not that trivial. But fortunately Python has simplified this a lot. The main difficulty is to ensure that when Python writes to a file, no other application should be able to write to that same file. This could cause collisions and it is important to avoid them.\n",
    "\n",
    "So when you create, modify or read a file, you have to reserve it and indicate in which mode you want to open it. The modes we're looking at in this chapter are the following:\n",
    "  * _r_ read\n",
    "  * _w_ write\n",
    "  * _a_ append\n",
    "  \n",
    "To reserve a file, use the `open(...)` function. It returns a file handler."
   ]
  },
  {
   "cell_type": "code",
   "execution_count": null,
   "metadata": {},
   "outputs": [],
   "source": [
    "path = Path.home() / \"todo.txt\"\n",
    "file = open(\n",
    "    path, \"r\"\n",
    ")  # The second argument indicates that you want to read the file. If you write to it, you'll get an error."
   ]
  },
  {
   "cell_type": "markdown",
   "metadata": {},
   "source": [
    "To unblock the file after you used it, use the `close()` method on the file handler."
   ]
  },
  {
   "cell_type": "markdown",
   "metadata": {},
   "source": [
    "> You can use the `with`-block when opening files. If you do that, you don't need any close-call, because that will then be done automatically. It is not mentioned in the book, but it is best practice to use the with-block!"
   ]
  },
  {
   "cell_type": "code",
   "execution_count": null,
   "metadata": {},
   "outputs": [],
   "source": [
    "with open(path, \"r\") as file:\n",
    "    file.read()\n",
    "\n",
    "# file.close() gets called automatically"
   ]
  },
  {
   "cell_type": "markdown",
   "metadata": {},
   "source": [
    "#### Read a File\n",
    "A pointer is set on the file at the very beginning. To read the contents of the file, use the `read()` method on the file handler."
   ]
  },
  {
   "cell_type": "code",
   "execution_count": null,
   "metadata": {},
   "outputs": [],
   "source": [
    "file.read()\n",
    "# 'Homework\\n\\n- Essay on mandrakes\\n- Divination chart\\n- Train cup transfiguration\\n'"
   ]
  },
  {
   "cell_type": "markdown",
   "metadata": {},
   "source": [
    "You can see the `\\n` newline-characters which are invisible in the original file:\n",
    "```\n",
    "Homework\n",
    "\n",
    "- Essay on mandrakes\n",
    "- Divination chart\n",
    "- Train cup transfiguration\n",
    "```\n",
    "\n",
    "Based on these newlines, you can also read the file line-by-line:"
   ]
  },
  {
   "cell_type": "code",
   "execution_count": null,
   "metadata": {},
   "outputs": [],
   "source": [
    "file.seek(0)  # Resets the file-read-pointer to the beginning again\n",
    "\n",
    "file.readlines()\n",
    "# ['Homework\\n', '\\n', '- Essay on mandrakes\\n', '- Divination chart\\n', '- Train cup transfiguration\\n']"
   ]
  },
  {
   "cell_type": "markdown",
   "metadata": {},
   "source": [
    "#### Write to a File\n",
    "In order to write to a file, you have two possibilities. First, lets add a todo by opening the file in the _append_ mode:"
   ]
  },
  {
   "cell_type": "code",
   "execution_count": null,
   "metadata": {},
   "outputs": [],
   "source": [
    "with open(Path.home() / \"todo.txt\", \"a\") as file:\n",
    "    file.write(\"- Study hippogriffs\")"
   ]
  },
  {
   "cell_type": "markdown",
   "metadata": {},
   "source": [
    "On line two, you write a string to the file. This will just append it to the already existing content because you opened the file in the append-mode. But you can also overwrite a file by opening it in _w_-mode. A more common reason to open a file in the write-mode is to create one. This works the same as appending to a file, but the file does not need to exist yet:"
   ]
  },
  {
   "cell_type": "code",
   "execution_count": null,
   "metadata": {},
   "outputs": [],
   "source": [
    "with open(Path.home() / \"newfile.txt\", \"w\") as file:\n",
    "    file.write(\"content of the new file\")"
   ]
  },
  {
   "cell_type": "markdown",
   "metadata": {},
   "source": [
    "![The Newly Created File](images/newfile.png)"
   ]
  },
  {
   "cell_type": "markdown",
   "metadata": {},
   "source": [
    "#### Persist Application Data\n",
    "##### Shelve Module\n",
    "You can also store information data like variables, lists, and so on in a file. The file will be binary, so it is only readable by your Python program. To do so, you can use the `shelve` module and store your data as you would in a dictionary."
   ]
  },
  {
   "cell_type": "code",
   "execution_count": 1,
   "metadata": {},
   "outputs": [
    {
     "name": "stdout",
     "output_type": "stream",
     "text": [
      "['hermione', 'ron', 'harry', 'hagrid', 'snape']\n"
     ]
    }
   ],
   "source": [
    "import shelve\n",
    "\n",
    "wizards = [\"hermione\", \"ron\", \"harry\", \"hagrid\", \"snape\"]\n",
    "\n",
    "with shelve.open(\n",
    "    \"programdata\"\n",
    ") as shelf:  # This creates a file in your current working directory\n",
    "    shelf[\"wizards\"] = wizards  # Add the wizards to the shelf dictionary\n",
    "\n",
    "with shelve.open(\"programdata\") as shelf:\n",
    "    loaded_wizards = shelf[\"wizards\"]\n",
    "    print(loaded_wizards)"
   ]
  },
  {
   "cell_type": "markdown",
   "metadata": {},
   "source": [
    "##### Manually\n",
    "With the `pprint` module's `pformat()` function, a list is stringified as it would be written in Python code. You can therefore create a Python module out of your code. This works as follows:"
   ]
  },
  {
   "cell_type": "code",
   "execution_count": 2,
   "metadata": {},
   "outputs": [
    {
     "name": "stdout",
     "output_type": "stream",
     "text": [
      "['hermione', 'ron', 'harry', 'hagrid', 'snape']\n"
     ]
    }
   ],
   "source": [
    "import pprint\n",
    "\n",
    "wizards = [\"hermione\", \"ron\", \"harry\", \"hagrid\", \"snape\"]\n",
    "\n",
    "with open(\"hogwarts.py\", \"w\") as file:\n",
    "    file.write(f\"wizards={pprint.pformat(wizards)}\\n\")\n",
    "\n",
    "import hogwarts\n",
    "\n",
    "print(hogwarts.wizards)"
   ]
  },
  {
   "cell_type": "markdown",
   "metadata": {},
   "source": [
    "## Exercises"
   ]
  },
  {
   "cell_type": "markdown",
   "metadata": {},
   "source": [
    "### Exercise 1: List Files\n",
    "Create a program that lists files of a given folder with its filesize. The file extension should not be printed."
   ]
  },
  {
   "cell_type": "code",
   "execution_count": null,
   "metadata": {},
   "outputs": [],
   "source": [
    "# implement here"
   ]
  },
  {
   "cell_type": "markdown",
   "metadata": {},
   "source": [
    "### Exercise 2: Grocery List\n",
    "Create a tool that asks for items which will be added to a grocery list. When finished (when the user inputs `done`), the list should be available as a `groceries.txt` file."
   ]
  },
  {
   "cell_type": "code",
   "execution_count": null,
   "metadata": {},
   "outputs": [],
   "source": [
    "# implement here"
   ]
  },
  {
   "cell_type": "markdown",
   "metadata": {},
   "source": [
    "### Exercise 3: Save Battleships\n",
    "Remember the battleships game from the dictionaries chapter? It can be enhanced a little bit further. When the user types in `save`, the state of the game should be saved (use the `shelve` module) and the game ends (use `raise KeyboardInterrupt` in Jupyter notebooks for that). If the user starts the game again and a data file is available, the game should continue at the same stage. Then, the state file should be deleted. Work with this code or your own:"
   ]
  },
  {
   "cell_type": "code",
   "execution_count": null,
   "metadata": {},
   "outputs": [],
   "source": [
    "ships = {\n",
    "    \"A1\": False,\n",
    "    \"A2\": False,\n",
    "    \"A3\": False,\n",
    "    \"A4\": False,\n",
    "    \"B1\": True,\n",
    "    \"B2\": True,\n",
    "    \"B3\": False,\n",
    "    \"B4\": False,\n",
    "    \"C1\": False,\n",
    "    \"C2\": False,\n",
    "    \"C3\": False,\n",
    "    \"C4\": True,\n",
    "    \"D1\": False,\n",
    "    \"D2\": False,\n",
    "    \"D3\": False,\n",
    "    \"D4\": False,\n",
    "}\n",
    "\n",
    "win = False\n",
    "failed_hits = 0\n",
    "\n",
    "while not win:\n",
    "    cell = input(\"On which cell do you want to set off the bomb?\")\n",
    "    hit = ships.get(cell, False)\n",
    "    if hit:\n",
    "        print(\"You hit a ship!\")\n",
    "        ships[cell] = False\n",
    "        failed_hits = 0\n",
    "    else:\n",
    "        failed_hits += 1\n",
    "        if failed_hits >= 3:\n",
    "            break\n",
    "    win = True not in ships.values()\n",
    "\n",
    "if win:\n",
    "    print(\"You won.\")\n",
    "else:\n",
    "    print(\"You lost.\")"
   ]
  }
 ],
 "metadata": {
  "kernelspec": {
   "display_name": "Python 3 (ipykernel)",
   "language": "python",
   "name": "python3"
  },
  "language_info": {
   "codemirror_mode": {
    "name": "ipython",
    "version": 3
   },
   "file_extension": ".py",
   "mimetype": "text/x-python",
   "name": "python",
   "nbconvert_exporter": "python",
   "pygments_lexer": "ipython3",
   "version": "3.8.10"
  }
 },
 "nbformat": 4,
 "nbformat_minor": 4
}
