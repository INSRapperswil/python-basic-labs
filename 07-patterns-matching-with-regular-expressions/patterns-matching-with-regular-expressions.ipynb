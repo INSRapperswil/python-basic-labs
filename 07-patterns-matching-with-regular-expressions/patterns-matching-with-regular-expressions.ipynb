{
 "cells": [
  {
   "cell_type": "markdown",
   "metadata": {},
   "source": [
    "# Pattern Matching With Regular Expressions\n",
    "\n",
    "## Introduction\n",
    "\n",
    "This notebook is about finding and replacing text by using regular expressions (regex). Writing regexes requires some practice and may be scary at first - try to build up a regex step-by-step and don't shy away from using one of the websites listed below!\n",
    "\n",
    "This notebook covers [chapter 7](https://automatetheboringstuff.com/2e/chapter7/) of the book.\n",
    "\n",
    "You can find more information about regular expressions in the [Python Regular Expression HOWTO](https://docs.python.org/3/howto/regex.html). There are also many websites that allow you to help writing and testing regex expressions:\n",
    "* [RegEx Pal](https://www.regexpal.com/)\n",
    "* [RegExr](https://regexr.com/)\n",
    "* [regex101](https://regex101.com/)\n"
   ]
  },
  {
   "cell_type": "markdown",
   "metadata": {},
   "source": [
    "## Summary\n",
    "\n",
    "### Creating a Regex Pattern Object\n",
    "\n",
    "Creating a new regex `Pattern` object is done by using the `compile` function of the `re` module.\n",
    "\n",
    "```python\n",
    "import re\n",
    "phone_number_regex = re.compile(r'\\+\\d{9,15}')\n",
    "```\n",
    "\n",
    "### Matching\n",
    "\n",
    "Finding a pattern is done by using the method `search` of the regex `Pattern` object. This returns either a `Match` object if the pattern has been found in the given string or else `None`.\n",
    "\n",
    "```python\n",
    "phone_number_regex.search('My number is +41552221838')\n",
    "# <re.Match object; span=(13, 25), match='+41552221838'>\n",
    "```\n",
    "\n",
    "Finding all patterns is done by using the `findall` method of the regex `Pattern` object. `findall` returns a list of strings, not `Match` objects.\n",
    "\n",
    "```python\n",
    "phone_number_regex.findall('My phone number is +41552221838, my fax number is +41552224270')\n",
    "# ['+41552221838', '+41552224270']\n",
    "```\n",
    "\n",
    "These functions can also be used directly using the module level functions.\n",
    "\n",
    "```python\n",
    "re.search(r'\\+\\d{9,15}', 'My number is +41552221838')\n",
    "re.findall(r'\\+\\d{9,15}', 'My phone number is +41552221838, my fax number is +41552224270')\n",
    "```\n",
    "\n",
    "### Replacing\n",
    "\n",
    "Replacing patterns or parts of patterns is done using the `sub` method of the regex `Pattern` object.\n",
    "\n",
    "```python\n",
    "phone_number_regex.sub('CENSORED', 'My number is +41552221838')\n",
    "# 'My number is CENSORED'\n",
    "```\n",
    "\n",
    "`sub` can be called at the module level, too.\n",
    "\n",
    "```python\n",
    "re.sub(r'\\+\\d{9,15}', 'CENSORED', 'My number is +41552221838')\n",
    "# 'My number is CENSORED'\n",
    "```\n",
    "\n",
    "### Flags\n",
    "\n",
    "The regex functions and methods take an optional argument `flags` which allows to modify how they behave.\n",
    "\n",
    "- `IGNORECASE`: Perform case-insensitive matching\n",
    "- `DOTALL`: The `.` also matches newlines.\n",
    "- `VERBOSE`: Whitespaces in the pattern are ignored.\n",
    "\n",
    "The full list of flags is available at the [Python Documentation](https://docs.python.org/3/library/re.html).\n",
    "\n",
    "Multiple flags can be passed using `|`:\n",
    "\n",
    "```python\n",
    "re.compile('foo', re.IGNORECASE | re.DOTALL | re.VERBOSE)\n",
    "```\n",
    "\n",
    "### Groups\n",
    "\n",
    "You can extract different parts (groups) of the pattern using brackets in the expression  and reference them using backslash plus group number:\n",
    "\n",
    "```python\n",
    "re.search(r'\\+41(\\d{2})(\\d{7})', 'My number is +41552221838').groups()\n",
    "# ('55', '2221838')\n",
    "re.sub(r'\\+41(\\d{2})(\\d{7})', r'0\\1*******', 'My number is +41552221838')\n",
    "# 'My number is 055*******'\n",
    "```\n",
    "\n",
    "### Cheat Sheet\n",
    "\n",
    "| Expression | Description                                                  |\n",
    "| ---------- | ------------------------------------------------------------ |\n",
    "| ?          | matches zero or one of the preceding group                   |\n",
    "| *          | matches zero or more of the preceding group                  |\n",
    "| +          | matches one or more of the preceding group                   |\n",
    "| {n}        | matches exactly *n* of the preceding group                   |\n",
    "| {n,}       | matches *n* or more of the preceding group                   |\n",
    "| {,m}       | matches 0 to *m* of the preceding group                      |\n",
    "| {n, m}     | matches at least *n* and at most *m* of the preceding group  |\n",
    "| ^spam      | means the string must begin with *spam*                      |\n",
    "| spam$      | means the string must end with *spam*                        |\n",
    "| .          | matches any character, except newline characters.            |\n",
    "| \\d         | matches a digit                                              |\n",
    "| \\w         | matches a word                                               |\n",
    "| \\s         | matches a whitespace character                               |\n",
    "| \\b         | matches a word boundary                                      |\n",
    "| [abc]      | matches any character between the brackets (such as *a*, *b*, or *c*) |\n",
    "| [a-z]      | matches any character between the brackets (such as *a*, *b*, ... *z*) |\n",
    "| [^abc]     | matches any character that isn’t between the brackets.       |\n",
    "| ab\\|cd     | matches *ab* or *cd*                                         |\n",
    "| \\          | escapes special characters                                   |\n",
    "| ()         | capture group                                                |\n",
    "| \\1         | back reference to capture group 1                            |"
   ]
  },
  {
   "cell_type": "markdown",
   "metadata": {},
   "source": [
    "## Exercises"
   ]
  },
  {
   "cell_type": "markdown",
   "metadata": {},
   "source": [
    "### Exercise 1: Matching Patterns\n",
    "Use regex and the following sentence\n",
    "\n",
    "    My dog is 12 years old, has brown fur and eats 2kg of meat every day. I like my dog.\n",
    "\n",
    "To find and print:\n",
    "- the numbers (12, 2)\n",
    "- the weight (2kg)\n",
    "- the numbers without units (12)\n",
    "- the words years and day (years, day)\n",
    "- the words starting with a capital letter (My)\n",
    "- the colored fur, no matter what color (brown fur)\n",
    "- the sentences"
   ]
  },
  {
   "cell_type": "code",
   "execution_count": 174,
   "metadata": {},
   "outputs": [],
   "source": [
    "import re\n",
    "\n",
    "text = \"My dog is 12 years old, has brown fur and eats 2kg of meat every day. I like my dog.\"\n",
    "\n",
    "# todo: find and print all the things"
   ]
  },
  {
   "cell_type": "markdown",
   "metadata": {},
   "source": [
    "Now return the verbs: (is, eats, like). Try to use a regex statement, such that:\n",
    "- Trailing `s` doesn't matter - e.g. `count` or `counts` are found\n",
    "- The word boundary will be considered - e.g. `eat` and `eats` are found, but not `meat`"
   ]
  },
  {
   "cell_type": "code",
   "execution_count": null,
   "metadata": {},
   "outputs": [],
   "source": [
    "# todo: find the verbs"
   ]
  },
  {
   "cell_type": "markdown",
   "metadata": {},
   "source": [
    "### Exercise 2: Replacing Patterns\n",
    "Censor all numbers with `*`, nobody needs to know how old my dog is and how much he eats! The text should look like this:\n",
    "\n",
    "    My dog is ** years old, has brown fur and eats *kg of meat every day. I like my dog."
   ]
  },
  {
   "cell_type": "code",
   "execution_count": null,
   "metadata": {},
   "outputs": [],
   "source": [
    "# todo: replace the numbers"
   ]
  },
  {
   "cell_type": "markdown",
   "metadata": {},
   "source": [
    "Now make the dog younger and greedy. Replace all numbers with `1`. The text should look like this:\n",
    "\n",
    "    My dog is 1 years old, has brown fur and eats 1kg of meat every day. I like my dog."
   ]
  },
  {
   "cell_type": "code",
   "execution_count": null,
   "metadata": {},
   "outputs": [],
   "source": [
    "# todo: fix the numbers"
   ]
  },
  {
   "cell_type": "markdown",
   "metadata": {},
   "source": [
    "Now instead of censoring, add a `0` to all numbers! The text should look like this:\n",
    "\n",
    "    My dog is 120 years old, has brown fur and eats 20kg of meat every day. I like my dog.\n",
    "\n",
    "This is a bit tricky, since adding the zero right after the back reference leads to an error: it looks for the 10th group! Instead of using the `\\1` back reference syntax, it's also possible to use the `\\g<number>` syntax!"
   ]
  },
  {
   "cell_type": "code",
   "execution_count": null,
   "metadata": {},
   "outputs": [],
   "source": [
    "# todo: increase the numbers"
   ]
  },
  {
   "cell_type": "markdown",
   "metadata": {},
   "source": [
    "### Exercise 3: Using Flags\n",
    "\n",
    "Replace all instances of `my` to `Peter's`, because the dog is not actually mine! The text should look like this:\n",
    "\n",
    "    Peter's dog is 12 years old, has brown fur and eats 2kg of meat every day. I like Peter's dog."
   ]
  },
  {
   "cell_type": "code",
   "execution_count": null,
   "metadata": {},
   "outputs": [],
   "source": [
    "# todo: give the dog to Peter"
   ]
  },
  {
   "cell_type": "markdown",
   "metadata": {},
   "source": [
    "### Exercise 4: Analysing Code Lines"
   ]
  },
  {
   "cell_type": "markdown",
   "metadata": {},
   "source": [
    "Let's evaluate some python code line by line!\n",
    "\n",
    "```python\n",
    "#  This is my script, it does something.\n",
    "def add(a, b):\n",
    "    # add both arguments\n",
    "    return a + b\n",
    "\n",
    "a = 1\n",
    "b   = 2\n",
    "print(add(a, b))\n",
    "\n",
    "```\n",
    "\n",
    "Create a dictionary with the line numbers as keys and the following values:\n",
    "- \"Comment: {comment}\" if the line is a comment\n",
    "- \"Assignment: {variable} becomes {value}\" if the line is a variable assignment\n",
    "- \"Function definition: {function name} with parameters [{parameter list}]\" if the line is a function definition\n",
    "- \"Unknown\" in all other cases\n",
    "\n",
    "Your dictionary should look like this:\n",
    "\n",
    "```python\n",
    "{0: 'Unknown',\n",
    " 1: 'Comment: This is my script, it does something.',\n",
    " 2: 'Function definition: add with parameters [a, b]',\n",
    " 3: 'Comment: add both arguments',\n",
    " 4: 'Assignment: result becomes a + b',\n",
    " 5: 'Unknown',\n",
    " 6: 'Unknown',\n",
    " 7: 'Assignment: a becomes 1',\n",
    " 8: 'Assignment: b becomes 2',\n",
    " 9: 'Unknown'}\n",
    "```\n",
    "\n",
    "Don't despair if you struggle with the solution and just see how far you get - remember, regexes require practice!"
   ]
  },
  {
   "cell_type": "code",
   "execution_count": null,
   "metadata": {},
   "outputs": [],
   "source": [
    "code = \"\"\"\n",
    "#  This is my script, it does something.\n",
    "def add(a, b):\n",
    "    #add both arguments\n",
    "    result = a + b\n",
    "    return result\n",
    "\n",
    "a = 1\n",
    "b   = 2\n",
    "print(add(a, b))\n",
    "\"\"\"\n",
    "\n",
    "lines = {}\n",
    "\n",
    "# todo: evaluate all the lines\n",
    "\n",
    "from pprint import pprint\n",
    "\n",
    "pprint(lines)"
   ]
  }
 ],
 "metadata": {
  "kernelspec": {
   "display_name": "Python 3 (ipykernel)",
   "language": "python",
   "name": "python3"
  },
  "language_info": {
   "codemirror_mode": {
    "name": "ipython",
    "version": 3
   },
   "file_extension": ".py",
   "mimetype": "text/x-python",
   "name": "python",
   "nbconvert_exporter": "python",
   "pygments_lexer": "ipython3",
   "version": "3.8.10"
  }
 },
 "nbformat": 4,
 "nbformat_minor": 4
}
