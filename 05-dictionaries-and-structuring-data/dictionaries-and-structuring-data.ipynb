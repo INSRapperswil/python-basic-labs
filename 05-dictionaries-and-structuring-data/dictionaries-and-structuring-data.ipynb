{
 "cells": [
  {
   "cell_type": "markdown",
   "metadata": {},
   "source": [
    "# Dictionaries and Structuring Data"
   ]
  },
  {
   "cell_type": "markdown",
   "metadata": {},
   "source": [
    "## Introduction\n",
    "\n",
    "The last exercise was a little bit tedious. This is because the data structures for drinks and ingredients were not linked. There are better data structures to store a recipe to a recipe name.\n",
    "\n",
    "This notebook covers the [fifth chapter](https://automatetheboringstuff.com/2e/chapter5/) of the book. \n",
    "\n",
    "You can find more information about dictionaries and structuring data in the Python documentation:\n",
    "* [Sets](https://docs.python.org/3/tutorial/datastructures.html#sets)\n",
    "* [Dictionaries](https://docs.python.org/3/tutorial/datastructures.html#dictionaries)"
   ]
  },
  {
   "cell_type": "markdown",
   "metadata": {},
   "source": [
    "## Summary"
   ]
  },
  {
   "cell_type": "markdown",
   "metadata": {},
   "source": [
    "### Dictionaries\n",
    "Reconsider the example where we assigned some characteristics to a person. Now, in dictionary-form:"
   ]
  },
  {
   "cell_type": "code",
   "execution_count": 10,
   "metadata": {},
   "outputs": [
    {
     "name": "stdout",
     "output_type": "stream",
     "text": [
      "Harry has green eyes.\n"
     ]
    }
   ],
   "source": [
    "harry = {\"hair\": \"black\", \"eyes\": \"green\", \"feature\": \"scar\"}\n",
    "eyecolor = harry[\"eyes\"]\n",
    "\n",
    "print(f\"Harry has {eyecolor} eyes.\")"
   ]
  },
  {
   "cell_type": "markdown",
   "metadata": {},
   "source": [
    "As you can see, dictionaries are similar to lists, but the indices are not numbers but strings. In fact, they can be anything. Curly braces open and close a dictionary. It can be modified later, so it is mutable. But, unlike lists, it cannot be sliced as the items are _not ordered!_\n",
    "\n",
    "To change or to add an element to the dictionary, you can do it the same way you would with a list:"
   ]
  },
  {
   "cell_type": "code",
   "execution_count": 14,
   "metadata": {},
   "outputs": [
    {
     "name": "stdout",
     "output_type": "stream",
     "text": [
      "Harry has grey-green eyes.\n",
      "Harry drinks fire whiskey for breakfast.\n"
     ]
    }
   ],
   "source": [
    "# Modify\n",
    "harry[\"eyes\"] = \"grey-green\"\n",
    "print(f\"Harry has {harry['eyes']} eyes.\")\n",
    "\n",
    "# Add\n",
    "harry[\"favorite_drink\"] = \"fire whiskey\"\n",
    "print(f\"Harry drinks {harry['favorite_drink']} for breakfast.\")"
   ]
  },
  {
   "cell_type": "markdown",
   "metadata": {},
   "source": [
    "#### Keys, Values, Items\n",
    "Have a look at the following methods by running the code. Study the output."
   ]
  },
  {
   "cell_type": "code",
   "execution_count": 3,
   "metadata": {},
   "outputs": [
    {
     "name": "stdout",
     "output_type": "stream",
     "text": [
      "dict_keys(['hair', 'eyes', 'feature'])\n",
      "dict_values(['black', 'green', 'scar'])\n",
      "dict_items([('hair', 'black'), ('eyes', 'green'), ('feature', 'scar')])\n"
     ]
    }
   ],
   "source": [
    "print(harry.keys())\n",
    "print(harry.values())\n",
    "print(harry.items())"
   ]
  },
  {
   "cell_type": "markdown",
   "metadata": {},
   "source": [
    "- `dict.keys()`: Returns all the keys in the dictionary.\n",
    "- `dict.values()`: Returns all the values in the dictionary.\n",
    "- `dict.items()`: Returns all the items in (key, value)-tuples."
   ]
  },
  {
   "cell_type": "markdown",
   "metadata": {},
   "source": [
    "#### `get()` and `setdefault()`\n",
    "An error is raised if you access an unavailable item. There are multiple ways to avoid such an error."
   ]
  },
  {
   "cell_type": "code",
   "execution_count": null,
   "metadata": {},
   "outputs": [],
   "source": [
    "# Check for the key:\n",
    "if \"size\" in harry.keys():\n",
    "    print(harry[\"size\"])\n",
    "else:\n",
    "    print(\"unknown\")\n",
    "\n",
    "# Use get():\n",
    "size = harry.get(\"size\", \"unknown\")\n",
    "print(size)"
   ]
  },
  {
   "cell_type": "markdown",
   "metadata": {},
   "source": [
    "The `get()`-method can have a default value as the second argument which will be returned if the key does not exist. The `get()`-method simplifies accessing data.\n",
    "\n",
    "On the other hand, the `setdefault()`-method simplifies data insertion. To not overwrite data when you insert a new key-value-pair, use this method. The item only gets created if there is not already an item with the same key."
   ]
  },
  {
   "cell_type": "code",
   "execution_count": 11,
   "metadata": {},
   "outputs": [
    {
     "data": {
      "text/plain": [
       "178"
      ]
     },
     "execution_count": 11,
     "metadata": {},
     "output_type": "execute_result"
    }
   ],
   "source": [
    "harry.setdefault(\"size\", 178)"
   ]
  },
  {
   "cell_type": "markdown",
   "metadata": {},
   "source": [
    "#### Delete Items\n",
    "To delete an element, just use the `pop` method or `del` function."
   ]
  },
  {
   "cell_type": "code",
   "execution_count": 12,
   "metadata": {},
   "outputs": [
    {
     "data": {
      "text/plain": [
       "{'eyes': 'green', 'feature': 'scar'}"
      ]
     },
     "execution_count": 12,
     "metadata": {},
     "output_type": "execute_result"
    }
   ],
   "source": [
    "harry.pop(\"hair\")\n",
    "del harry[\"size\"]\n",
    "harry"
   ]
  },
  {
   "cell_type": "markdown",
   "metadata": {},
   "source": [
    "### Sets\n",
    "Another type of data structure is a _set_. A set is an _unordered, immutable_ collection of _unique_ elements."
   ]
  },
  {
   "cell_type": "code",
   "execution_count": 1,
   "metadata": {},
   "outputs": [
    {
     "data": {
      "text/plain": [
       "{'Dark Noise', 'Elephant Shunned', 'More', 'Packard', 'The Space in Between'}"
      ]
     },
     "execution_count": 1,
     "metadata": {},
     "output_type": "execute_result"
    }
   ],
   "source": [
    "set_list = {\n",
    "    \"Dark Noise\",\n",
    "    \"Elephant Shunned\",\n",
    "    \"Elephant Shunned\",\n",
    "    \"More\",\n",
    "    \"Packard\",\n",
    "    \"The Space in Between\",\n",
    "}\n",
    "set_list"
   ]
  },
  {
   "cell_type": "markdown",
   "metadata": {},
   "source": [
    "Because the elements are not always ordered in the same way (unordered), you cannot access single items via the index. But you can get the length of the set, combine two sets with each other (union) and even loop through a set, albeit you'll get an unordered loop."
   ]
  },
  {
   "cell_type": "code",
   "execution_count": 2,
   "metadata": {},
   "outputs": [
    {
     "name": "stdout",
     "output_type": "stream",
     "text": [
      "Playing 8 tracks in total.\n",
      "Now playing: The Six Degrees Theory\n",
      "Now playing: 404 Not Found\n",
      "Now playing: The Space in Between\n",
      "Now playing: Our Broken Mind Embassy\n",
      "Now playing: Packard\n",
      "Now playing: Dark Noise\n",
      "Now playing: More\n",
      "Now playing: Elephant Shunned\n"
     ]
    }
   ],
   "source": [
    "more_songs = {\"404 Not Found\", \"The Six Degrees Theory\", \"Our Broken Mind Embassy\"}\n",
    "\n",
    "complete_set = set_list | more_songs  # union\n",
    "\n",
    "print(f\"Playing {len(complete_set)} tracks in total.\")\n",
    "\n",
    "for track in complete_set:\n",
    "    print(f\"Now playing: {track}\")"
   ]
  },
  {
   "cell_type": "markdown",
   "metadata": {},
   "source": [
    "### Dictionary Comprehension\n",
    "Yes, dictionary comprehensions exist and they are very useful, too. The syntax is a little bit more complicated, as there are two values you can change in one line:\n",
    "```python\n",
    "new_dict = {key:value for (key, value) in old_dict.items() if condition}\n",
    "```\n",
    "The difference to list comprehension is, that you can manipulate a key and a value and the expression is framed with curly braces. The `key:value` part are the return values for the particular keys and values. In practice, it might look a little bit complicated. The following example changes the keys and the values of a list, if a condition evaluates to true."
   ]
  },
  {
   "cell_type": "code",
   "execution_count": 5,
   "metadata": {},
   "outputs": [
    {
     "name": "stdout",
     "output_type": "stream",
     "text": [
      "{'Track 2': 'The Space in Between by Jan Blomqvist', 'Track 3': 'The Six Degrees Theory by Jan Blomqvist'}\n"
     ]
    }
   ],
   "source": [
    "playlist = {\n",
    "    \"Song 1\": \"Elephant Shunned\",\n",
    "    \"Song 2\": \"The Space in Between\",\n",
    "    \"Song 3\": \"The Six Degrees Theory\",\n",
    "    \"Song 4\": \"Our Broken Mind Embassy\",\n",
    "}\n",
    "\n",
    "corrected_playlist = {\n",
    "    nr.replace(\"Song\", \"Track\"): f\"{name} by Jan Blomqvist\"\n",
    "    for (nr, name) in playlist.items()\n",
    "    if name.startswith(\"T\")\n",
    "}\n",
    "\n",
    "print(corrected_playlist)"
   ]
  },
  {
   "cell_type": "markdown",
   "metadata": {},
   "source": [
    "## Exercises\n",
    "### Exercise 1: Drink-Generator with Dicts\n",
    "Rewrite the drink-generator, but this time, use a dictionary instead of lists. Hint: Sets are a really nice feature to check if some items are a part of a larger group of items - if they are a subset. [Check out this tutorial](https://realpython.com/python-sets/) to learn more about sets and set operations in detail."
   ]
  },
  {
   "cell_type": "code",
   "execution_count": null,
   "metadata": {},
   "outputs": [],
   "source": [
    "# implement here\n",
    "# (you can copy the code from the solutions of the previous chapter)"
   ]
  },
  {
   "cell_type": "markdown",
   "metadata": {},
   "source": [
    "### Exercise 2: Get and Set\n",
    "Implement the `get()` and the `setdefault()` method. Do not use the dictionaries methods."
   ]
  },
  {
   "cell_type": "code",
   "execution_count": null,
   "metadata": {},
   "outputs": [],
   "source": [
    "# implement here\n",
    "\n",
    "harry = {\"hair\": \"black\", \"eyes\": \"green\", \"feature\": \"scar\"}\n",
    "print(get(harry, \"eyes\", \"blue\"))\n",
    "print(get(harry, \"size\", 0))\n",
    "\n",
    "setdefault(harry, \"size\", 178)\n",
    "print(get(harry, \"size\", 0))"
   ]
  },
  {
   "cell_type": "markdown",
   "metadata": {},
   "source": [
    "### Exercise 3: Value or Reference\n",
    "With a small piece of code, find out whether dictionary variables are of value or reference type."
   ]
  },
  {
   "cell_type": "code",
   "execution_count": null,
   "metadata": {},
   "outputs": [],
   "source": [
    "# implement here\n",
    "\n",
    "if: # implement here\n",
    "    print('reference type')\n",
    "else:\n",
    "    print('value type')"
   ]
  },
  {
   "cell_type": "markdown",
   "metadata": {},
   "source": [
    "### Exercise 4: Battleships\n",
    "Implement a simple version of battleships. Your field consists of four-by-four cells (A1 to D4). Represent the field and the ships in a dictionary (the key might be a position and the value a boolean whether there is a ship at this spot or not). Then, write a loop which asks the user where he or she wants to set off a bomb. If a ship is hit, the player wins."
   ]
  },
  {
   "cell_type": "code",
   "execution_count": null,
   "metadata": {},
   "outputs": [],
   "source": [
    "# implement here"
   ]
  },
  {
   "cell_type": "markdown",
   "metadata": {},
   "source": [
    "### Exercise 5: Battleships Enhanced\n",
    "Enhance the game a little further. Make sure that the player only wins when all ships are hit. Also, when the player fails to hit three ships in a row, he or she loses the game."
   ]
  },
  {
   "cell_type": "code",
   "execution_count": null,
   "metadata": {},
   "outputs": [],
   "source": [
    "# implement here"
   ]
  }
 ],
 "metadata": {
  "kernelspec": {
   "display_name": "Python 3 (ipykernel)",
   "language": "python",
   "name": "python3"
  },
  "language_info": {
   "codemirror_mode": {
    "name": "ipython",
    "version": 3
   },
   "file_extension": ".py",
   "mimetype": "text/x-python",
   "name": "python",
   "nbconvert_exporter": "python",
   "pygments_lexer": "ipython3",
   "version": "3.8.10"
  }
 },
 "nbformat": 4,
 "nbformat_minor": 4
}
