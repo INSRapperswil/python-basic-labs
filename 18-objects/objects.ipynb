{
 "cells": [
  {
   "cell_type": "markdown",
   "metadata": {},
   "source": [
    "# Objects\n",
    "\n",
    "## Introduction\n",
    "\n",
    "This notebook is about object-oriented programming (OOP) with python: using classes and objects. Unfortunately, this topic is not covered in the book, but there are a lot of good resources online: \n",
    "* [Programiz: OOP Programming](https://www.programiz.com/python-programming/object-oriented-programming)\n",
    "* [Real Python: OOP in Python 3](https://realpython.com/python3-object-oriented-programming/)\n",
    "* [Python's documentation on classes](https://docs.python.org/3/tutorial/classes.html.)\n",
    "\n",
    "Be sure to have a look at one of these two! If you need more information on properties, be sure to check out [Programiz: Properties in Python](https://www.programiz.com/python-programming/property). OOP is one of the big concepts in programming and you will encounter it in many other programming languages as well.\n",
    "\n",
    "Important to know, but not covered in this lab - we mention it here since it's a python-specific feature: Sometimes you need objects just as a \"data container\". In this case, you do not need to write a fully-fledged, regular class as introduced here, but can rely on a dataclass instead. Dataclasses are a feature introduced in Python 3.7 and allow you to quickly write a class. If you want to know more, read up on [Real Python's tutorial on dataclasses](https://realpython.com/python-data-classes/)."
   ]
  },
  {
   "cell_type": "markdown",
   "metadata": {},
   "source": [
    "## Summary\n",
    "\n",
    "Object-oriented programming allows us to logically bundle a bunch of data (variables) and methods for manipulating this data together. The class is like a blueprint for its objects and defines the methods and which type of data (which variables) the objects have. Creating an actual object (with specific data) from a class is called instantiation, objects are also called instances.\n",
    "\n",
    "### Basics\n",
    "\n",
    "Classes are defined using the `class` keyword and instantiated by calling the class. Just to spell it out: `my_object` is therefore an object and an instance of the class `MyClass`.\n",
    "\n",
    "```python\n",
    "class MyClass:\n",
    "    pass\n",
    "\n",
    "my_object = MyClass()\n",
    "```\n",
    "\n",
    "### Methods\n",
    "\n",
    "Methods within classes have a mandatory argument `self` which points to the instance of the class. Methods of instances can be inspected using `dir()`. Think of those methods as \"things to do that are related to the object\".\n",
    "\n",
    "```python\n",
    "class MyClass:\n",
    "    \n",
    "    def my_method(self, value):\n",
    "        return f'{self} value'\n",
    "\n",
    "my_object = MyClass()\n",
    "my_object.my_method(10)  # '<__main__.MyClass object at 0x7f7626f8f1d0> value'\n",
    "```\n",
    "\n",
    "### Variables\n",
    "\n",
    "Variables can be assigned directly to the instance using the `.`-Operator. Variables are normally passed (or initialized) in the constructor, which is simply a function with the name `__init__`. Variables of instances can be inspected using `vars()`.\n",
    "\n",
    "```python\n",
    "class MyClass:\n",
    "    \n",
    "    def __init__(self, value):\n",
    "        self.value = value\n",
    "        self.default = 10\n",
    "\n",
    "my_object = MyClass(10)\n",
    "my_object.value  # 10\n",
    "```\n",
    "\n",
    "### Properties\n",
    "\n",
    "Properties are a special kind of methods which can be accessed like variables.\n",
    "\n",
    "```python\n",
    "class MyClass:\n",
    "    \n",
    "    def __init__(self, value):\n",
    "        self.internal_value = value\n",
    "   \n",
    "    @property\n",
    "    def value(self):\n",
    "        return self.internal_value + 1\n",
    "    \n",
    "    @value.setter\n",
    "    def value(self, value):\n",
    "        self.internal_value = value - 1\n",
    "     \n",
    "    @value.deleter\n",
    "    def value(self):\n",
    "        self.internal_value = 0\n",
    "\n",
    "my_object = MyClass(10)\n",
    "my_object.value  # 11\n",
    "my_object.value = 12\n",
    "del my_object.value\n",
    "```\n",
    "\n",
    "### Class Methods and Variables\n",
    "\n",
    "It's also possible to define methods and variables which are the same for every instance of the class. Class-methods require the `classmethod` decorator and have the first mandatory argument `cls` (instead of `self`), which points to the class itself. Class-variables are directly defined in the class and are shared between all instances and the class itself.\n",
    "\n",
    "```python\n",
    "class MyClass:\n",
    "    my_class_variable = 10\n",
    "\n",
    "    @classmethod\n",
    "    def my_class_method(cls):\n",
    "        return cls.my_class_variable\n",
    "\n",
    "MyClass.my_class_variable  # 10\n",
    "MyClass.my_class_method()  # 10\n",
    "\n",
    "my_object = MyClass()\n",
    "my_object.my_class_variable  # 10\n",
    "my_object.my_class_method()  # 10\n",
    "\n",
    "MyClass.my_class_variable = 11\n",
    "my_object.my_class_method()  # 11\n",
    "```\n",
    "\n",
    "### Static Methods\n",
    "\n",
    "Static methods do not require any mandatory arguments or instances.\n",
    "\n",
    "```python\n",
    "class MyClass:\n",
    "    \n",
    "    @staticmethod\n",
    "    def my_static_method():\n",
    "        return 10\n",
    "\n",
    "MyClass.my_static_method()  # 10\n",
    "\n",
    "my_object = MyClass()\n",
    "my_object.my_static_method()  # 10\n",
    "```\n",
    "\n",
    "### Inheritance, Overriding and Polymophism\n",
    "\n",
    "Classes can *inherit* from other classes: Child classes have all the methods the parent class provides. To inherit from another class, the parent class is added in brackets after the class name. \n",
    "\n",
    "```python\n",
    "class Parent:\n",
    "    \n",
    "    def my_function(self):\n",
    "        return 1\n",
    "   \n",
    "class Child(Parent):\n",
    "\n",
    "    pass\n",
    "\n",
    "parent = Parent()\n",
    "child = Child()\n",
    "parent.my_function()  # 1\n",
    "child.my_function()   # 1\n",
    "```\n",
    "\n",
    "Methods can be *overridden* by just defining the method again: The function call resolves to the class lowest in the hierarchy.\n",
    "\n",
    "```python\n",
    "class Parent:\n",
    "    \n",
    "    def my_function(self):\n",
    "        return 1\n",
    "   \n",
    "class Child(Parent):\n",
    "\n",
    "    def my_function(self):\n",
    "        return 2\n",
    "\n",
    "parent = Parent()\n",
    "child = Child()\n",
    "parent.my_function()  # 1\n",
    "child.my_function()   # 2\n",
    "```\n",
    "\n",
    "A method of the parent class can be accessed in the child class by using the `super` keyword.\n",
    "\n",
    "```python\n",
    "class Parent:\n",
    "    \n",
    "    def my_function(self):\n",
    "        return 1\n",
    "   \n",
    "class Child(Parent):\n",
    "\n",
    "    def my_function(self):\n",
    "        return super().my_function() + 2\n",
    "\n",
    "parent = Parent()\n",
    "child = Child()\n",
    "parent.my_function()  # 1\n",
    "child.my_function()   # 3\n",
    "```\n",
    "\n",
    "Method overriding allows *polymorphism*: A parent class can use the different implementations of the same method of its children:\n",
    "\n",
    "```python\n",
    "class Parent:\n",
    "    \n",
    "    def my_function(self):\n",
    "        return 1\n",
    "    \n",
    "    def my_other_function(self):\n",
    "        return self.my_function()\n",
    "   \n",
    "class ChildA(Parent):\n",
    "\n",
    "    def my_function(self):\n",
    "        return 2\n",
    "\n",
    "class ChildB(Parent):\n",
    "\n",
    "    def my_function(self):\n",
    "        return 3\n",
    "\n",
    "parent = Parent()\n",
    "child_a = ChildA()\n",
    "child_b = ChildB()\n",
    "parent.my_other_function()    # 1\n",
    "child_a.my_other_function()   # 2\n",
    "child_b.my_other_function()   # 3\n",
    "```"
   ]
  },
  {
   "cell_type": "markdown",
   "metadata": {},
   "source": [
    "## Example"
   ]
  },
  {
   "cell_type": "code",
   "execution_count": 1,
   "metadata": {},
   "outputs": [],
   "source": [
    "class Animal:\n",
    "    def __init__(self, name):\n",
    "        self.name = name\n",
    "\n",
    "    def speak(self):\n",
    "        return \"Hi!\"\n",
    "\n",
    "    def say_hi(self):\n",
    "        return f\"{self.speak()} My name is {self.name}!\"\n",
    "\n",
    "    @classmethod\n",
    "    def identify(cls):\n",
    "        return f\"I am a {cls.__name__}\"\n",
    "\n",
    "\n",
    "class Cat(Animal):\n",
    "    def speak(self):\n",
    "        return \"Meow!\"\n",
    "\n",
    "\n",
    "class Dog(Animal):\n",
    "    def bark(self):\n",
    "        return \"Woof!\"\n",
    "\n",
    "    def speak(self):\n",
    "        return self.bark()\n",
    "\n",
    "\n",
    "class AngryDog(Dog):\n",
    "    anger_level = 3\n",
    "\n",
    "    def bark(self):\n",
    "        return \" \".join(self.anger_level * [super().bark()])\n",
    "\n",
    "    def say_hi(self):\n",
    "        return f\"{super().say_hi()} {self.bark()}\""
   ]
  },
  {
   "cell_type": "markdown",
   "metadata": {},
   "source": [
    "Let's create some objects:"
   ]
  },
  {
   "cell_type": "code",
   "execution_count": 2,
   "metadata": {},
   "outputs": [],
   "source": [
    "lucky = Animal(\"Lucky\")\n",
    "kitty = Cat(\"Kitty\")\n",
    "smokey = Cat(\"Smokey\")\n",
    "charlie = Dog(\"Charlie\")\n",
    "oscar = AngryDog(\"Oscar\")"
   ]
  },
  {
   "cell_type": "markdown",
   "metadata": {},
   "source": [
    "Cats and dogs have their own `speak` method. Angry dogs bark more often."
   ]
  },
  {
   "cell_type": "code",
   "execution_count": 3,
   "metadata": {},
   "outputs": [
    {
     "name": "stdout",
     "output_type": "stream",
     "text": [
      "Hi!\n",
      "Meow!\n",
      "Meow!\n",
      "Woof!\n",
      "Woof! Woof! Woof!\n"
     ]
    }
   ],
   "source": [
    "print(lucky.speak())\n",
    "print(kitty.speak())\n",
    "print(smokey.speak())\n",
    "print(charlie.speak())\n",
    "print(oscar.speak())"
   ]
  },
  {
   "cell_type": "markdown",
   "metadata": {},
   "source": [
    "Let's make angry dogs a bit less angry."
   ]
  },
  {
   "cell_type": "code",
   "execution_count": 4,
   "metadata": {},
   "outputs": [
    {
     "name": "stdout",
     "output_type": "stream",
     "text": [
      "Woof! Woof!\n"
     ]
    }
   ],
   "source": [
    "AngryDog.anger_level = 2\n",
    "print(oscar.speak())"
   ]
  },
  {
   "cell_type": "markdown",
   "metadata": {},
   "source": [
    "Each class says 'hi' differently due to polymorphism:"
   ]
  },
  {
   "cell_type": "code",
   "execution_count": 5,
   "metadata": {},
   "outputs": [
    {
     "name": "stdout",
     "output_type": "stream",
     "text": [
      "Hi! My name is Lucky!\n",
      "Meow! My name is Kitty!\n",
      "Meow! My name is Smokey!\n",
      "Woof! My name is Charlie!\n",
      "Woof! Woof! My name is Oscar! Woof! Woof!\n"
     ]
    }
   ],
   "source": [
    "print(lucky.say_hi())\n",
    "print(kitty.say_hi())\n",
    "print(smokey.say_hi())\n",
    "print(charlie.say_hi())\n",
    "print(oscar.say_hi())"
   ]
  },
  {
   "cell_type": "markdown",
   "metadata": {},
   "source": [
    "`identify` returns details about the concrete class."
   ]
  },
  {
   "cell_type": "code",
   "execution_count": 6,
   "metadata": {},
   "outputs": [
    {
     "name": "stdout",
     "output_type": "stream",
     "text": [
      "I am a Cat\n",
      "I am a Cat\n",
      "I am a Cat\n",
      "I am a Dog\n",
      "I am a Dog\n",
      "I am a AngryDog\n"
     ]
    }
   ],
   "source": [
    "print(Cat.identify())\n",
    "print(kitty.identify())\n",
    "print(smokey.identify())\n",
    "print(Dog.identify())\n",
    "print(charlie.identify())\n",
    "print(oscar.identify())"
   ]
  },
  {
   "cell_type": "markdown",
   "metadata": {},
   "source": [
    "Let's inspect an object!"
   ]
  },
  {
   "cell_type": "code",
   "execution_count": 7,
   "metadata": {},
   "outputs": [
    {
     "name": "stdout",
     "output_type": "stream",
     "text": [
      "{'name': 'Kitty'}\n",
      "['__class__',\n",
      " '__delattr__',\n",
      " '__dict__',\n",
      " '__dir__',\n",
      " '__doc__',\n",
      " '__eq__',\n",
      " '__format__',\n",
      " '__ge__',\n",
      " '__getattribute__',\n",
      " '__gt__',\n",
      " '__hash__',\n",
      " '__init__',\n",
      " '__init_subclass__',\n",
      " '__le__',\n",
      " '__lt__',\n",
      " '__module__',\n",
      " '__ne__',\n",
      " '__new__',\n",
      " '__reduce__',\n",
      " '__reduce_ex__',\n",
      " '__repr__',\n",
      " '__setattr__',\n",
      " '__sizeof__',\n",
      " '__str__',\n",
      " '__subclasshook__',\n",
      " '__weakref__',\n",
      " 'identify',\n",
      " 'name',\n",
      " 'say_hi',\n",
      " 'speak']\n"
     ]
    }
   ],
   "source": [
    "from pprint import pprint\n",
    "\n",
    "pprint(vars(kitty))\n",
    "pprint(dir(kitty))"
   ]
  },
  {
   "cell_type": "markdown",
   "metadata": {},
   "source": [
    "## Exercises"
   ]
  },
  {
   "cell_type": "markdown",
   "metadata": {},
   "source": [
    "### Exercise 1: Defining Classes\n",
    "Define a class for representing a range, defined with a `mean` (Durchschnitt), a `span` (Messspanne) and a `minimum` and `maximum`. The last two values are calculated like this:\n",
    "\n",
    "\\begin{align}\n",
    "minimum = mean - {span \\over 2} \\\\\n",
    "maximum = mean - {span \\over 2} \\\\\n",
    "\\end{align}\n",
    "\n",
    "Add the missing pieces to the class definition and make sure the cell runs without an assertion error!"
   ]
  },
  {
   "cell_type": "code",
   "execution_count": null,
   "metadata": {},
   "outputs": [],
   "source": [
    "class Range:\n",
    "    \"\"\"An integer range [minimum, maximum]\"\"\"\n",
    "\n",
    "    # todo: define the constructor which takes and saves a 'mean' and a 'span' argument\n",
    "\n",
    "    # define a 'minimum' method which returns the mean - span/2\n",
    "\n",
    "    # define a 'maximum' method which returns the mean + span/2\n",
    "\n",
    "\n",
    "range = Range(mean=5.0, span=2.0)\n",
    "assert range.minimum() == 4.0\n",
    "assert range.maximum() == 6.0"
   ]
  },
  {
   "cell_type": "markdown",
   "metadata": {},
   "source": [
    "Rewrite your class so that `minimum` and `maximum` are properties."
   ]
  },
  {
   "cell_type": "code",
   "execution_count": null,
   "metadata": {},
   "outputs": [],
   "source": [
    "class Range:\n",
    "    \"\"\"An integer range [mean-span/2, mean+span/2]\"\"\"\n",
    "\n",
    "    # todo: define the constructor which takes and saves a 'mean' and a 'span' argument\n",
    "\n",
    "    # define a 'minimum' property which returns the mean - span/2\n",
    "\n",
    "    # define a 'maximum' property which returns the mean + span/2\n",
    "\n",
    "\n",
    "range = Range(mean=5.0, span=2.0)\n",
    "assert range.minimum == 4.0\n",
    "assert range.maximum == 6.0"
   ]
  },
  {
   "cell_type": "markdown",
   "metadata": {},
   "source": [
    "### Exercise 2: Inheritance\n",
    "![Hierarchy](hierarchy.png)\n",
    "\n",
    "Now lets create a parent class `Range` and two child classes `MeanRange` and `SpanRange`:\n",
    "\n",
    "* `MeanRange` is the same as above: The constructor takes a `mean` and a `span` argument. \n",
    "* `SpanRange` takes a `minimum` and a `maximum` and calculates the `mean` and `span` (as properties) instead.\n",
    "\n",
    "Add the missing pieces of code and make sure no assertion error occurs when running the cell."
   ]
  },
  {
   "cell_type": "code",
   "execution_count": null,
   "metadata": {},
   "outputs": [],
   "source": [
    "class Range:\n",
    "    @property\n",
    "    def quartile(self):\n",
    "        return self.minimum, self.minimum + (self.maximum - self.minimum) / 4.0\n",
    "\n",
    "class MeanRange(Range):\n",
    "    # todo: add constructor\n",
    "    # todo: add minimum method\n",
    "    # todo: add maximum method\n",
    "\n",
    "class SpanRange(Range):\n",
    "    # todo: add constructor\n",
    "    # todo: add mean method\n",
    "    # todo: add span method\n",
    "    \n",
    "range = MeanRange(mean=5.0, span=2.0)\n",
    "assert range.minimum == 4.0\n",
    "assert range.maximum == 6.0\n",
    "assert range.mean == 5.0\n",
    "assert range.span == 2.0\n",
    "assert range.quartile == (4.0, 4.5)\n",
    "\n",
    "range = SpanRange(minimum=4.0, maximum=6.0)\n",
    "assert range.minimum == 4.0\n",
    "assert range.maximum == 6.0\n",
    "assert range.mean == 5.0\n",
    "assert range.span == 2.0\n",
    "assert range.quartile == (4.0, 4.5)"
   ]
  },
  {
   "cell_type": "markdown",
   "metadata": {},
   "source": [
    "Classes can have a `__str__` method which is called whenever an object is printed. Modify the `Range` so that it prints '[minimum, maximum]'!"
   ]
  },
  {
   "cell_type": "code",
   "execution_count": null,
   "metadata": {},
   "outputs": [],
   "source": [
    "# todo: modify Range\n",
    "\n",
    "range = MeanRange(mean=5.0, span=2.0)\n",
    "assert str(range) == \"[4.0, 6.0]\"\n",
    "range = SpanRange(minimum=4.0, maximum=6.0)\n",
    "assert str(range) == \"[4.0, 6.0]\""
   ]
  },
  {
   "cell_type": "markdown",
   "metadata": {},
   "source": [
    "### Exercise 3: Defining Your Own Exceptions\n",
    "Defining custom exceptions is done by inheriting from the `Exception` class:\n",
    "\n",
    "```python\n",
    "class MyException(Exception):\n",
    "    pass\n",
    "```\n",
    "\n",
    "Implement a custom exception `UnderflowError`. Fill in the missing code pieces: results to the addition that are `>10` raise an `OverflowError` (built-in in python) and results `<0` raise an `UnderflowError`. Make sure to take the same base class for your own exception as `OverflowError`. Information about the built-in exceptions is available in the Python Documentation: [Built-in Exceptions](https://docs.python.org/3/library/exceptions.html)."
   ]
  },
  {
   "cell_type": "code",
   "execution_count": null,
   "metadata": {},
   "outputs": [],
   "source": [
    "!pip install pytest"
   ]
  },
  {
   "cell_type": "code",
   "execution_count": null,
   "metadata": {},
   "outputs": [],
   "source": [
    "from pytest import raises\n",
    "\n",
    "# todo: define UnderflowError\n",
    "\n",
    "\n",
    "def add(value_a, value_b):\n",
    "    # todo: raise exceptions\n",
    "    result = value_a + value_b\n",
    "    return result\n",
    "\n",
    "\n",
    "assert add(1, 2) == 3\n",
    "with raises(OverflowError):\n",
    "    add(1, 10)\n",
    "with raises(UnderflowError):\n",
    "    add(1, -10)\n",
    "assert OverflowError.__bases__ == UnderflowError.__bases__"
   ]
  },
  {
   "cell_type": "markdown",
   "metadata": {},
   "source": [
    "### Exercise 4: Duck Typing\n",
    "> \"If it walks like a duck and it quacks like a duck, then it must be a duck\"\n",
    "\n",
    "Duck typing is commonly used in Python together with objects and exception handling: If you don't know if an object has a method, just try it and deal with the exception in case it did not! You can read more about duck typing [on Wikipedia](https://en.wikipedia.org/wiki/Duck_typing).\n",
    "\n",
    "Complete the following code snippet (inspired by the Wikipedia page on Duck Typing) with exception handling so that no exception occurs and the following is printed:\n",
    "\n",
    "```\n",
    "Duck flying\n",
    "Sparrow flying\n",
    "I cannot fly!\n",
    "```"
   ]
  },
  {
   "cell_type": "code",
   "execution_count": null,
   "metadata": {},
   "outputs": [],
   "source": [
    "class Duck:\n",
    "    def fly(self):\n",
    "        print(\"Duck flying\")\n",
    "\n",
    "\n",
    "class Sparrow:\n",
    "    def fly(self):\n",
    "        print(\"Sparrow flying\")\n",
    "\n",
    "\n",
    "class Whale:\n",
    "    def swim(self):\n",
    "        print(\"Whale swimming\")\n",
    "\n",
    "\n",
    "for animal in Duck(), Sparrow(), Whale():\n",
    "    # add exception handling\n",
    "    animal.fly()"
   ]
  },
  {
   "cell_type": "markdown",
   "metadata": {},
   "source": [
    "Alternatively, it's also possible to check if an object has the expected attribute with `hasattr(instance, attribute_name)`. Modify the code above to use `hasattr` instead of exception handling."
   ]
  },
  {
   "cell_type": "code",
   "execution_count": null,
   "metadata": {},
   "outputs": [],
   "source": [
    "# todo: Use hasattr"
   ]
  },
  {
   "cell_type": "markdown",
   "metadata": {},
   "source": [
    "Alternatively, you can check if an object is an instance of a given class using `isinstance(object, class)`. Modify the code so that `Duck` and `Sparrow` inherit from a common `Bird` class and check for that class!"
   ]
  },
  {
   "cell_type": "code",
   "execution_count": null,
   "metadata": {},
   "outputs": [],
   "source": [
    "# todo: Use isinstance"
   ]
  },
  {
   "cell_type": "markdown",
   "metadata": {},
   "source": [
    "### Exercise 5: Serializing a Dictionary\n",
    "\n",
    "Let's create some classes to save and load a list of dictionaries to a file!\n",
    "\n",
    "Implement two classes `CsvSerializer` and `JsonSerializer` whose constructors take a list of dictionaries. Try to use a base class which implements common methods. Add a `save` and `load` method which saves/loads the list of dictionaries to a CSV/JSON file.\n",
    "\n",
    "Use duck typing to convert strings to floats or integers if needed.\n",
    "\n",
    "Make sure the following cell runs without exceptions!"
   ]
  },
  {
   "cell_type": "code",
   "execution_count": null,
   "metadata": {},
   "outputs": [],
   "source": [
    "# todo: implement JsonSerializer\n",
    "# todo: implement CsvSerializer\n",
    "\n",
    "people = [\n",
    "    {\"first_name\": \"John\", \"last_name\": \"Doe\", \"age\": 40, \"height\": 1.85, \"sex\": \"m\"},\n",
    "    {\"first_name\": \"Jane\", \"last_name\": \"Doe\", \"age\": 43, \"height\": 1.67, \"sex\": \"f\"},\n",
    "]\n",
    "\n",
    "serializer = JsonSerializer(people)\n",
    "serializer.save(\"people.json\")\n",
    "\n",
    "deserializer = JsonSerializer()\n",
    "deserializer.load(\"people.json\")\n",
    "assert deserializer.data == people\n",
    "\n",
    "serializer = CsvSerializer(people)\n",
    "serializer.save(\"people.csv\")\n",
    "\n",
    "deserializer = CsvSerializer()\n",
    "deserializer.load(\"people.csv\")\n",
    "assert deserializer.data == people"
   ]
  }
 ],
 "metadata": {
  "kernelspec": {
   "display_name": "Python 3 (ipykernel)",
   "language": "python",
   "name": "python3"
  },
  "language_info": {
   "codemirror_mode": {
    "name": "ipython",
    "version": 3
   },
   "file_extension": ".py",
   "mimetype": "text/x-python",
   "name": "python",
   "nbconvert_exporter": "python",
   "pygments_lexer": "ipython3",
   "version": "3.8.10"
  }
 },
 "nbformat": 4,
 "nbformat_minor": 4
}
