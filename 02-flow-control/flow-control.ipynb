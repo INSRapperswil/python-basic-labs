{
 "cells": [
  {
   "cell_type": "markdown",
   "metadata": {},
   "source": [
    "# Flow Control and the Import System\n",
    "\n",
    "## Introduction\n",
    "\n",
    "This notebook is about executing code conditionally and importing modules.\n",
    "\n",
    "This notebook covers the [second chapter](https://automatetheboringstuff.com/2e/chapter2/) of the book.\n",
    "\n",
    "You can find more information about flow control and modules in the Python documentation:\n",
    "\n",
    "- [Python Tutorial: Control Flow](https://docs.python.org/3/tutorial/controlflow.html)\n",
    "- [Python Tutorial: Modules](https://docs.python.org/3/tutorial/modules.html)"
   ]
  },
  {
   "cell_type": "markdown",
   "metadata": {},
   "source": [
    "## Summary\n",
    "\n",
    "### Flow Control\n",
    "\n",
    "Flow control allows you to execute parts of code based on conditions. Flow control structures consist of a keyword (`if`, `while` and `for`), an expression, a `:` and a block of indented code. For example:\n",
    "\n",
    "```\n",
    "for expression:\n",
    "    block of code\n",
    "    block of code continues\n",
    "this line is not part of the \"for\" anymore\n",
    "```\n",
    "\n",
    "Forgetting the colon (`:`) is a common mistake, even among experienced Python programmers. If you get a `SyntaxError` at the end of the expression line, this is most likely why.\n",
    "\n",
    "If you need to cover a block of code but don't want to execute some real code (or want to code that block later), use the `pass` keyword which does exactly this: nothing.\n",
    "\n",
    "#### if\n",
    "\n",
    "Blocks inside `if` structures are executed if the condition is `True`. Checking additional conditions is possible using one or more `elif` statements. Running a block of code if no condition matches is done using the `else` statement.\n",
    "\n",
    "```python\n",
    "if condition:\n",
    "    pass\n",
    "elif condition:\n",
    "    pass\n",
    "elif condition:\n",
    "    pass\n",
    "else:\n",
    "    pass\n",
    "```\n",
    "\n",
    "#### while\n",
    "\n",
    "Blocks inside `while` structures are executed / repeated as long as the condition is `True`. It's possible to leave a while block using the `break` keyword or to skip to the start of the next repetition using the `continue` statement. Some examples:\n",
    "\n",
    "```python\n",
    "while condition:\n",
    "    pass\n",
    "```\n",
    "\n",
    "```python\n",
    "while True:  # endless looping\n",
    "    ...\n",
    "    if some_other_condition:\n",
    "        break  # stop the loop\n",
    "```\n",
    "\n",
    "```python\n",
    "while condition:\n",
    "    ...\n",
    "    if condition:\n",
    "        continue  # jump to the next step of the loop\n",
    "\n",
    "    # code here isn't executed if the \"continue\" was run\n",
    "    ...\n",
    "```\n",
    "\n",
    "#### for\n",
    "\n",
    "Blocks inside `for` structures are executed / repeated a specific number of times. You can use `break` and `continue` in the same way they work with `while`.\n",
    "\n",
    "```python\n",
    "for statement:\n",
    "    ...\n",
    "```\n",
    "\n",
    "### Import system\n",
    "\n",
    "In bigger projects, you typically split up your code into multiple files. Those are called Python *modules*. \n",
    "Python comes with many such modules included. These included modules are called the Python [Standard Library](https://docs.python.org/3/library/index.html) because they are available with every Python installation, without having to be downloaded/installed separately. If you want to see what you can find in the standard library, check the [Brief Tour of the Standard Library](https://docs.python.org/3/tutorial/stdlib.html).\n",
    "\n",
    "Modules must be imported using the `import` keyword before they can be used. Assuming you had a `utils.py` with a function `annoy_user` in it, you could import the entire module and use the function by specifying the imported module name before it:\n",
    "\n",
    "```python\n",
    "import utils\n",
    "\n",
    "utils.annoy_user()\n",
    "```\n",
    "\n",
    "...or just import the functions, objects etc. you need, then use them directly:\n",
    "\n",
    "```python\n",
    "from utils import annoy_user\n",
    "\n",
    "annoy_user()\n",
    "```\n",
    "\n",
    "It's also possible to import everything from a module using `*` (not recommended):\n",
    "\n",
    "```python\n",
    "from utils import *  # we don't know what we'll get\n",
    "\n",
    "annoy_user()\n",
    "```\n",
    "\n",
    "Sometimes, we want to give the imported modules, functions etc. a new name. This is useful when importing things which would otherwise cause a naming confict:\n",
    "\n",
    "```python\n",
    "from utils import annoy_user as notify_user\n",
    "```\n",
    "\n",
    "If you have many different files, you'd typically split them up further, into different folders. Python calls those *packages*. Note, however, that the same term \"package\" is used for two different things: Folders containing modules, as well as for installable third-party Python projects.\n",
    "\n",
    "To become a Python package, a folder needs to contain an (usually empty) file called `__init__.py`. When importing, modules and submodules are separated using dots (`.`).\n",
    "\n",
    "Assuming our `utils.py` module became too big, it could be split up into the following file structure:\n",
    "\n",
    "- `utils/__init__.py` (empty)\n",
    "- `utils/annoy.py` (contains `annoy_user`)\n",
    "- `utils/format.py` (contains `format_duration`)\n",
    "\n",
    "We could then import the module and use the full path again:\n",
    "\n",
    "```python\n",
    "import utils.annoy\n",
    "\n",
    "utils.annoy.annoy_user()\n",
    "```\n",
    "\n",
    "or import modules from inside packages:\n",
    "\n",
    "```python\n",
    "from utils import annoy\n",
    "\n",
    "annoy.annoy_user()\n",
    "```\n",
    "\n",
    "or, finally, import the function from inside the module:\n",
    "\n",
    "```python\n",
    "from utils.annoy import annoy_user\n",
    "\n",
    "annoy_user()\n",
    "```"
   ]
  },
  {
   "cell_type": "markdown",
   "metadata": {},
   "source": [
    "## Exercises"
   ]
  },
  {
   "cell_type": "markdown",
   "metadata": {},
   "source": [
    "### Exercise 1: Importing Modules\n",
    "\n",
    "Use the [math library](https://docs.python.org/3/library/math.html) to round up / down `10.3` and `10.6`."
   ]
  },
  {
   "cell_type": "code",
   "execution_count": null,
   "metadata": {},
   "outputs": [],
   "source": [
    "# todo round up / down"
   ]
  },
  {
   "cell_type": "markdown",
   "metadata": {},
   "source": [
    "Use the [random libary](https://docs.python.org/3/library/random.html) to generate:\n",
    "- a random float between 1.0 and 2.0 (exclusive)\n",
    "- a random integer between 10 and 15"
   ]
  },
  {
   "cell_type": "code",
   "execution_count": null,
   "metadata": {},
   "outputs": [],
   "source": [
    "# todo: create random numbers"
   ]
  },
  {
   "cell_type": "markdown",
   "metadata": {},
   "source": [
    "### Exercise 2: `if`\n",
    "\n",
    "Use `if` statements to print a different text based on a given birth year.\n",
    "\n",
    "- For years before 1883, print \"Too old\".\n",
    "- For years between 1883 and 1900 (both inclusive), print \"Lost generation\"\n",
    "- Between 1901 and 1927, print \"Greatest generation\"\n",
    "- Between 1928 and 1945, print \"Silent generation\"\n",
    "- Between 1946 and 1964, print \"Baby Boomers\"\n",
    "- Between 1965 and 1980, print \"Generation X\"\n",
    "- Between 1981 and 1996, print \"Millenials\"\n",
    "- Between 1997 and 2012, print \"Generation Z\"\n",
    "- Between 2013 and 2021, print \"Generation Alpha\"\n",
    "- For years after 2021, print \"Too young\"\n",
    "\n",
    "Note that you can simplify conditions like `if year >= 1997 and year <= 2012:` by writing `if 1997 <= year <= 2012:` instead."
   ]
  },
  {
   "cell_type": "code",
   "execution_count": null,
   "metadata": {},
   "outputs": [],
   "source": [
    "year = 1993\n",
    "# todo: print correct text"
   ]
  },
  {
   "cell_type": "markdown",
   "metadata": {},
   "source": [
    "### Exercise 3: `while`\n",
    "Create a `while` loop halving `x` in every loop as long as `x` is greater than one."
   ]
  },
  {
   "cell_type": "code",
   "execution_count": null,
   "metadata": {},
   "outputs": [],
   "source": [
    "x = 20\n",
    "# todo: create while loop"
   ]
  },
  {
   "cell_type": "markdown",
   "metadata": {},
   "source": [
    "### Exercise 4: `for`\n",
    "Create a `for` loop which iterates over the the numbers 1...100 and prints it if it's between 5 and 10. Use `continue` and `break` to avoid computation overhead."
   ]
  },
  {
   "cell_type": "code",
   "execution_count": null,
   "metadata": {},
   "outputs": [],
   "source": [
    "# todo: create for loop"
   ]
  },
  {
   "cell_type": "markdown",
   "metadata": {},
   "source": [
    "It's also possible to loop over the characters of a string! Print the ASCII value of each character of `Hello World!`."
   ]
  },
  {
   "cell_type": "code",
   "execution_count": null,
   "metadata": {},
   "outputs": [],
   "source": [
    "# todo: create for loop"
   ]
  },
  {
   "cell_type": "markdown",
   "metadata": {},
   "source": [
    "Use a `for` loop to calculate the [factorial](https://en.wikipedia.org/wiki/Factorial) of `x`. A factorial is the sum of all numbers from 1 to a given number *x*. The factorial of *x* (written *x!*) is defined as $1 \\cdot{} 2 \\cdot{} \\ldots{} \\cdot{} x-1 \\cdot{} x$. For example, if $x = 5$, the factorial would be $1 \\cdot{} 2 \\cdot{} 3 \\cdot{} 4 \\cdot{} 5 = 120$.\n",
    "\n",
    "If the result becomes greater than `10'000`, stop the calculation.\n",
    "\n",
    "Thus, your cell should return:\n",
    "\n",
    "- `120` for x = 5\n",
    "- `20! is too big` for x = 20"
   ]
  },
  {
   "cell_type": "code",
   "execution_count": null,
   "metadata": {},
   "outputs": [],
   "source": [
    "x = 5\n",
    "# todo: calculate with for loop"
   ]
  },
  {
   "cell_type": "markdown",
   "metadata": {},
   "source": [
    "### Exercise 5: Countdowns\n",
    "\n",
    "Print countdowns from 10..0 using:\n",
    "1. `for` and `range`\n",
    "2. `for` and `range` with negative step size\n",
    "3. `for` and `range` together with `reversed`\n",
    "4. `while`\n",
    "\n",
    "Here are is the Python documentation of `range` and `reversed`:\n",
    "\n",
    "- [range](https://docs.python.org/3/library/stdtypes.html#range)\n",
    "- [reversed](https://docs.python.org/3/library/functions.html#reversed)\n"
   ]
  },
  {
   "cell_type": "code",
   "execution_count": null,
   "metadata": {},
   "outputs": [],
   "source": [
    "# 1. todo: for / range"
   ]
  },
  {
   "cell_type": "code",
   "execution_count": null,
   "metadata": {},
   "outputs": [],
   "source": [
    "# 2. todo: for / range with negative step"
   ]
  },
  {
   "cell_type": "code",
   "execution_count": null,
   "metadata": {},
   "outputs": [],
   "source": [
    "# 3. todo: for / range with reversed"
   ]
  },
  {
   "cell_type": "code",
   "execution_count": null,
   "metadata": {},
   "outputs": [],
   "source": [
    "# 4. todo: while"
   ]
  },
  {
   "cell_type": "markdown",
   "metadata": {},
   "source": [
    "### Exercise 6: It's Raining Outside\n",
    "\n",
    "Remember the flowchart from the book which tells you what to do if it is raining?\n",
    "\n",
    "![Flowchart](flowchart.png)\n",
    "\n",
    "Let's implement this with a `while` structure and two variables:\n",
    "- `remaining_raining_minutes`: An integer indicating how much long it will rain. If `0`, it's not raining at all. Subtract `1` each time you need to wait.\n",
    "- `have_umbrella`: A boolean indicating if we have an umbrella or not.\n",
    "\n",
    "The cell should output the following if it's raining for 5 minutes and we don't have an umbrella:\n",
    "```\n",
    "Waiting a while\n",
    "Waiting a while\n",
    "Waiting a while\n",
    "Waiting a while\n",
    "Waiting a while\n",
    "Go outside\n",
    "```\n",
    "\n",
    "The cell should output the following if it's raining for 5 minutes and we have an umbrella:\n",
    "```\n",
    "Go outside\n",
    "```"
   ]
  },
  {
   "cell_type": "code",
   "execution_count": null,
   "metadata": {},
   "outputs": [],
   "source": [
    "remaining_raining_minutes = 5\n",
    "have_umbrella = False\n",
    "\n",
    "# todo: create while loop"
   ]
  },
  {
   "cell_type": "markdown",
   "metadata": {},
   "source": [
    "### Exercise 7: Working with Types\n",
    "It's also possible to iterate over a list of variables or values using `for x in [1, 2, ...]:`.\n",
    "\n",
    "Evaluate the given values in a for loop and:\n",
    "- Print the length, if the value is a string\n",
    "- Print the ASCII value, if the value is a character (a string of length one)\n",
    "- Print the hexadecimal value, if the value is an integer\n",
    "- Print the rounded value (one decimal point), if the value is a float\n",
    "- Print a question mark in all other cases\n",
    "\n",
    "Use built-in functions and don't forget to convert your types to strings before concatenating them!\n",
    "\n",
    "Your cell should output the following:\n",
    "```\n",
    "Hello World! is a string of length 12\n",
    "100 is an integer with a hex value of 0x64\n",
    "20.1 is a float with a rounded value of 20.1\n",
    "d is a character with an ASCII value of 100\n",
    "[] is ?\n",
    "None is ?\n",
    "```"
   ]
  },
  {
   "cell_type": "code",
   "execution_count": null,
   "metadata": {},
   "outputs": [],
   "source": [
    "for value in [\"Hello World!\", 100, 20.1, \"d\", [], None]:\n",
    "    pass  # todo: print different information depending on the type of the value"
   ]
  }
 ],
 "metadata": {
  "kernelspec": {
   "display_name": "Python 3",
   "language": "python",
   "name": "python3"
  },
  "language_info": {
   "codemirror_mode": {
    "name": "ipython",
    "version": 3
   },
   "file_extension": ".py",
   "mimetype": "text/x-python",
   "name": "python",
   "nbconvert_exporter": "python",
   "pygments_lexer": "ipython3",
   "version": "3.9.6"
  }
 },
 "nbformat": 4,
 "nbformat_minor": 4
}
