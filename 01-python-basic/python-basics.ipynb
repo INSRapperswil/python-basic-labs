{
 "cells": [
  {
   "cell_type": "markdown",
   "metadata": {},
   "source": [
    "# Python Basics\n",
    "\n",
    "## Introduction\n",
    "\n",
    "This notebook covers some basics of the Python programming language: Invoking the interpreter, operators, variables, types and calling functions.\n",
    "\n",
    "This notebook covers the [first](https://automatetheboringstuff.com/2e/chapter1/) (and parts of the [second](https://automatetheboringstuff.com/2e/chapter2/)) chapter of the book.\n",
    "\n",
    "Please note: There are several ways how to print strings and variable values together. The book introduces so-called \"f-strings\" rather late, but we prefer to use them much sooner (as in: from the beginning and in this lesson). They are described in the summary below.\n",
    "\n",
    "You can find more information in the Python documentation:\n",
    "\n",
    "- [Invoking the shell](https://docs.python.org/3/tutorial/interpreter.html)\n",
    "- [Types and operators](https://docs.python.org/3/library/stdtypes.html)\n",
    "- [Expressions](https://docs.python.org/3/reference/expressions.html)\n"
   ]
  },
  {
   "cell_type": "markdown",
   "metadata": {},
   "source": [
    "## Summary\n",
    "\n",
    "### Invoking the Shell\n",
    "\n",
    "Entering the interactive interpreter is done by running `python` (or `python3`) in the command line:\n",
    "\n",
    "```\n",
    "$ python\n",
    "Python 3.7.3 (default, Jun 17 2019, 15:02:19) \n",
    "[GCC 7.4.0] on linux\n",
    "Type \"help\", \"copyright\", \"credits\" or \"license\" for more information.\n",
    ">>> \n",
    "```\n",
    "\n",
    "You can then enter Python code at the `>>>` prompt and get the result back:\n",
    "\n",
    "```\n",
    ">>> 23 + 42\n",
    "65\n",
    "```\n",
    "\n",
    "This Jupyter Notebook works similarly: Notebooks notebooks execute all lines in\n",
    "a cell if the cell is run with Ctrl + Enter.\n",
    "\n",
    "### Variables\n",
    "\n",
    "Variables store values. You can define and reference these values by a name, e.g. `my_variable`:\n",
    "\n",
    "```python\n",
    "my_variable = 10\n",
    "my_variable + 5\n",
    "```\n",
    "\n",
    "### Types\n",
    "\n",
    "Variables may be of different types. The type of the variables is determined when assigning a value: `x = 10` results in `x` being an integer.\n",
    "\n",
    "| Type           | Description                       | Example      |\n",
    "| -------------- | --------------------------------- | ------------ |\n",
    "| Integer        | Whole numbers                     | 10           |\n",
    "| Floating Point | Decimal numbers                   | 10.2         |\n",
    "| String         | Text                              | \"Hi there!\"  |\n",
    "| Boolean        | \"truthy\" values                   | True / False |\n",
    "| None           | Special value for null / no value | None         |\n",
    "\n",
    "### Operators\n",
    "\n",
    "#### Mathematical Operators\n",
    "\n",
    "Mathematical operators take two numbers and return a number.\n",
    "\n",
    "| Operator | Description               | Types                    | Example   |\n",
    "| -------- | ------------------------- | ------------------------ | --------- |\n",
    "| +        | Addition                  | Integer, Float, String   | 10 + 1.2  |\n",
    "| -        | Subtraction               | Integer, Float           | 10 - 1.2  |\n",
    "| *        | Multiplication            | Integer, Float, (String) | 10 * 1.2  |\n",
    "| /        | Division                  | Integer, Float           | 10 / 1.2  |\n",
    "| //       | Quotient / Floor Division | Integer, Float           | 10 // 1.2 |\n",
    "| %        | Remainder                 | Integer, Float           | 10 % 1.2  |\n",
    "| **       | Power                     | Integer, Float           | 10 ** 1.2 |\n",
    "\n",
    "#### Logical Operators\n",
    "\n",
    "Logical operators take one or two boolean values and return a boolean value.\n",
    "\n",
    "| Operator | Description | Types   | Example        |\n",
    "| -------- | ----------- | ------- | -------------- |\n",
    "| and      | Logical AND | Boolean | True and False |\n",
    "| or       | Logical OR  | Boolean | True or False  |\n",
    "| not      | Logical NOT | Boolean | not True       |\n",
    "\n",
    "#### Comparison Operators\n",
    "\n",
    "Comparison operators compare two values and return a boolean value.\n",
    "\n",
    "| Operator | Description           | Types                  | Example           |\n",
    "| -------- | --------------------- | ---------------------- | ----------------- |\n",
    "| ==       | Equal                 | Integer, Float, String | 10 == 1.2         |\n",
    "| is       | Equal                 | Boolean, None          | True is False     |\n",
    "| !=       | Not equal             | Integer, Float, String | 10 != 1.2         |\n",
    "| is not   | Not equal             | Boolean, None          | True is not False |\n",
    "| <        | Less than             | Integer, Float         | 10 < 1.2          |\n",
    "| <=       | Less or equal than    | Integer, Float         | 10 <= 1.2         |\n",
    "| >        | Greater than          | Integer, Float         | 10 > 1.2          |\n",
    "| >=       | Greater or equal than | Integer, Float         | 10 >= 1.2         |\n",
    "\n",
    "### Executing Files\n",
    "\n",
    "Executing files - interpreting line by line by the Python interpreter - is done by passing the filename to `python` (or `python3`) in the command line:\n",
    "\n",
    "```bash\n",
    "python myscript.py\n",
    "```\n",
    "\n",
    "In Jupyter, you can start a cell with `%%writefile filename.py` (a so-called \"magic\" or \"magic command\") to write the content of the cell to a file instead of executing it:\n",
    "\n",
    "```python\n",
    "%%writefile myscript.py\n",
    "# this line gets written into the given file\n",
    "# and so does this one\n",
    "```\n",
    "\n",
    "Such a file can then be run using the `%run` magic:\n",
    "\n",
    "```python\n",
    "%run myscript.py\n",
    "```\n",
    "\n",
    "### Comments\n",
    "\n",
    "Comments are lines or parts of lines that are not interpreted by Python. Comments are defined using the hash character (`#`) - everything after a `#` is ignored:\n",
    "\n",
    "```python\n",
    "# let's define a variable\n",
    "my_variable = 10 # this is an integer\n",
    "```\n",
    "\n",
    "### Calling Functions\n",
    "\n",
    "Calling functions is done by adding parentheses after the function name. Arguments are placed inside the parentheses:\n",
    "\n",
    "```python\n",
    "abs(-10)  # = 10\n",
    "```\n",
    "\n",
    "A list of built-in functions [can be found in the Python docs](https://docs.python.org/3/library/functions.html).\n",
    "\n",
    "\n",
    "### Using Objects\n",
    "\n",
    "All variables are objects of some kind (a type or a class). More complex types such as timestamps cannot be created using a direct assignment (`x = 1`), they need to be _constructed_ first by calling the type or class. You can do this with simple types as well:\n",
    "\n",
    "```Python\n",
    "start_date = datetime(2021, 9, 16)\n",
    "score = int(258)  # same as score = 258\n",
    "```\n",
    "\n",
    "Objects have their own set of functions (which are called methods in this case) which can be accessed by using a period. The method name comes **after** the variable name:\n",
    "\n",
    "```Python\n",
    "start_date.strftime(\"%Y-%m-%d\")    # '2021-09-16'\n",
    "score.to_bytes(2, byteorder=\"little\")  # b'\\x02\\x01'\n",
    "```\n",
    "\n",
    "### Print variables and strings\n",
    "\n",
    "There are several ways to print strings and variable values together, of which two are used throughout this course and the book: Using a plus sign and f-strings. The plus sign concatenates strings and variables:\n",
    "```Python\n",
    "hermione = \"Hermione\"\n",
    "harry = \"Harry Potter\"\n",
    "print('It is good to meet you, ' + hermione + ' and ' + harry)\n",
    "```\n",
    "This will print `It is good to meet you, Hermione and Harry Potter`. \n",
    "\n",
    "To create an f-string, prepend an `f` before a string. In the string, you can put variables in curly brackets: `{variablename}`. You can even execute functions within the curly brackets - however, functions are covered in a later lab, so just take notice of this fact here.\n",
    "\n",
    "```Python\n",
    "hermione = \"Hermione\"\n",
    "harry = \"Harry Potter\"\n",
    "print(f'It is good to meet you, {hermione} and {harry}')  # note the f at the beginning!\n",
    "```\n",
    "\n",
    "The output is the same: `It is good to meet you, Hermione and Harry Potter`. However, f-strings are much easier to read and should be preferred over the plus sign."
   ]
  },
  {
   "cell_type": "markdown",
   "metadata": {},
   "source": [
    "## Exercises"
   ]
  },
  {
   "cell_type": "markdown",
   "metadata": {},
   "source": [
    "### Exercise 1: Python as a Calculator\n",
    "Use python to calculate:\n",
    "\n",
    "\\begin{align}\n",
    "27774556 + 1200034 - 232344 \\tag{1} \\\\\n",
    "(2 ^ 7) - 1 \\tag{2} \\\\\n",
    "7000 \\over 8002 \\tag{3} \\\\\n",
    "7000 \\mod 8003 \\tag{4} \\\\\n",
    "False \\space AND \\space False \\tag{5} \\\\\n",
    "False \\space OR \\space NOT \\space True \\tag{6} \\\\\n",
    "7 \\leq 4.5 \\tag{7} \\\\\n",
    "(4 + 1 \\gt 6) = True \\tag{8} \\\\\n",
    "\\end{align}"
   ]
  },
  {
   "cell_type": "code",
   "execution_count": null,
   "metadata": {},
   "outputs": [],
   "source": [
    "# todo: calculate (1-8)"
   ]
  },
  {
   "cell_type": "markdown",
   "metadata": {},
   "source": [
    "### Exercise 2: Using Variables\n",
    "Define the following variables:\n",
    "\\begin{align}\n",
    "a = 120 \\tag{1} \\\\\n",
    "b = 110 \\tag{2} \\\\\n",
    "c = a - b \\tag{3} \\\\\n",
    "d = a + b \\tag{4} \\\\\n",
    "e = {c \\over d} \\tag{5}  \\\\\n",
    "\\end{align}\n",
    "\n",
    "Jupyter prints the last statement (if it's not a variable assignment). To print the contents of a variable anywhere in your cell use the `print` function."
   ]
  },
  {
   "cell_type": "code",
   "execution_count": null,
   "metadata": {},
   "outputs": [],
   "source": [
    "# todo: define a, b, c, d, e\n",
    "print(e)"
   ]
  },
  {
   "cell_type": "markdown",
   "metadata": {},
   "source": [
    "Defined variables stay until the Jupyter Kernel is restarted! Now calculate e<sup>2</sup> in the next cell:"
   ]
  },
  {
   "cell_type": "code",
   "execution_count": null,
   "metadata": {},
   "outputs": [],
   "source": [
    "# todo: calculate"
   ]
  },
  {
   "cell_type": "markdown",
   "metadata": {},
   "source": [
    "### Exercise 4: Using Built-In Functions\n",
    "Have a look at the [built-in functions in the Python Documentation](https://docs.python.org/3/library/functions.html). \n"
   ]
  },
  {
   "cell_type": "markdown",
   "metadata": {},
   "source": [
    "#### a) Mathematical Functions\n",
    "\n",
    "- What are the absolute values and the rounded values of `-2.7` and `3.4`?\n",
    "- Which one is the bigger (maximum)?\n",
    "- Which one the smaller (minimum)?\n",
    "\n",
    "Use the `print` function to show the results."
   ]
  },
  {
   "cell_type": "code",
   "execution_count": null,
   "metadata": {},
   "outputs": [],
   "source": [
    "# todo: calculate"
   ]
  },
  {
   "cell_type": "markdown",
   "metadata": {},
   "source": [
    "#### b) Type-related Functions\n",
    "\n",
    "There are also functions to get the type of a variable or value and to convert between the different types.\n",
    "- What are the types of `-2.7`, `True` and `'1'`?\n",
    "- How are they converted to a Boolean, Float, String and Integer? \n",
    "- You can check if a variable or value is of a certain type by using `isinstance`. Check if `-2.7` is a `float`."
   ]
  },
  {
   "cell_type": "code",
   "execution_count": null,
   "metadata": {},
   "outputs": [],
   "source": [
    "# todo: calculate"
   ]
  },
  {
   "cell_type": "markdown",
   "metadata": {},
   "source": [
    "#### c) String-related Functions\n",
    "- How many characters are in the string `Hello World!`\n",
    "- Most characters can be represented as an integer using the ASCII code (see [AsciiTable.com](https://www.asciitable.com/) for an example). What is the ASCII value of `a`? What character is ASCII value `120`?"
   ]
  },
  {
   "cell_type": "code",
   "execution_count": null,
   "metadata": {},
   "outputs": [],
   "source": [
    "# todo: calculate"
   ]
  },
  {
   "cell_type": "markdown",
   "metadata": {},
   "source": [
    "#### d) Integer-Representations\n",
    "\n",
    "Integers can be defined in binary, octal or hexadecimal by prefixing the value with `0b`, `0o` or `0x`. If no prefix is given, the value is assumed to be decimal. What is `10` in binary, octal and hexadecimal representation?"
   ]
  },
  {
   "cell_type": "code",
   "execution_count": null,
   "metadata": {},
   "outputs": [],
   "source": [
    "# todo: calculate"
   ]
  },
  {
   "cell_type": "markdown",
   "metadata": {},
   "source": [
    "#### Help!\n",
    "\n",
    "Use the built-in function `help` to get information about a built-in function or a module. Use it to find out, what the built-in function `locals` does!"
   ]
  },
  {
   "cell_type": "code",
   "execution_count": null,
   "metadata": {},
   "outputs": [],
   "source": [
    "# todo: get help about locals"
   ]
  },
  {
   "cell_type": "markdown",
   "metadata": {},
   "source": [
    "### Exercise 5: Executing Files\n",
    "Use a special Jupyter command to write a file named `myscript.py`, containing a single line of code which prints `Hello World!`."
   ]
  },
  {
   "cell_type": "code",
   "execution_count": null,
   "metadata": {},
   "outputs": [],
   "source": [
    "# todo: Add Jupyter command to write this cell to a file myscript.py (above this comment)\n",
    "# todo: Python code which prints \"Hello World!\""
   ]
  },
  {
   "cell_type": "code",
   "execution_count": null,
   "metadata": {},
   "outputs": [],
   "source": [
    "%run myscript.py"
   ]
  }
 ],
 "metadata": {
  "kernelspec": {
   "display_name": "Python 3",
   "language": "python",
   "name": "python3"
  },
  "language_info": {
   "codemirror_mode": {
    "name": "ipython",
    "version": 3
   },
   "file_extension": ".py",
   "mimetype": "text/x-python",
   "name": "python",
   "nbconvert_exporter": "python",
   "pygments_lexer": "ipython3",
   "version": "3.9.6"
  }
 },
 "nbformat": 4,
 "nbformat_minor": 4
}
