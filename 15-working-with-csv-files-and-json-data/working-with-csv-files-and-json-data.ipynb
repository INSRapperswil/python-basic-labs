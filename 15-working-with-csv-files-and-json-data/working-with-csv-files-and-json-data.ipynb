{
 "cells": [
  {
   "cell_type": "markdown",
   "metadata": {},
   "source": [
    "# Working With CSV Files and JSON Data\n",
    "## Introduction\n",
    "\n",
    "When it comes to APIs, JSON is a very common data exchange format. In this chapter you will learn how to read and write it. CSV is a very common format as well, since it allows us to serialize spreadsheet data. If you want to automate all your Excel-workflows, you're going to need CSV.\n",
    "\n",
    "This notebook covers [chapter 16](https://automatetheboringstuff.com/2e/chapter16/) of the book.\n",
    "\n",
    "More resources:\n",
    "* [Python `csv` module documentation](https://docs.python.org/3/library/csv.html)\n",
    "* [Programiz Python JSON tutorial](https://www.programiz.com/python-programming/json)"
   ]
  },
  {
   "cell_type": "markdown",
   "metadata": {},
   "source": [
    "## Summary\n",
    "### CSV\n",
    "#### Read\n",
    "Use the `csv` module to read CSV data."
   ]
  },
  {
   "cell_type": "code",
   "execution_count": null,
   "metadata": {},
   "outputs": [],
   "source": [
    "import csv\n",
    "\n",
    "with open(\"example.csv\") as file:\n",
    "    reader = csv.reader(file)\n",
    "    data = list(reader)\n",
    "\n",
    "data"
   ]
  },
  {
   "cell_type": "markdown",
   "metadata": {},
   "source": [
    "As you can see, there is a little difference to the file reading you're used to. Instead of reading the file directly, you pass the file to the reader from the csv module. Then, you just convert it to a list and you get a list of lists. Access data with `data[row][column]`."
   ]
  },
  {
   "cell_type": "markdown",
   "metadata": {},
   "source": [
    "But the reader can also be used directly in a for-loop. This is probably a more common case. The current row number can get accessed with the `line_num` property."
   ]
  },
  {
   "cell_type": "code",
   "execution_count": null,
   "metadata": {},
   "outputs": [],
   "source": [
    "import csv\n",
    "\n",
    "with open(\"example.csv\") as file:\n",
    "    reader = csv.reader(file)\n",
    "    for row in reader:\n",
    "        print(f\"Line {reader.line_num}: {row}\")"
   ]
  },
  {
   "cell_type": "markdown",
   "metadata": {},
   "source": [
    "#### Write\n",
    "To write to a file, you can follow the same procedure as if you would read from a file. When creating/opening the file, you have to explicitly set `newline=''` on Windows."
   ]
  },
  {
   "cell_type": "code",
   "execution_count": null,
   "metadata": {},
   "outputs": [],
   "source": [
    "import csv\n",
    "\n",
    "with open(\"addresses.csv\", \"w\", newline=\"\") as file:\n",
    "    writer = csv.writer(file)\n",
    "    writer.writerow([\"Harry\", \"Potter\", \"4 Privet Drive\", \"Little Whinging\", \"Surrey\"])\n",
    "    writer.writerow([\"Ronald\", \"Weasley\", \"The Burrow\", \"Ottery St Catchpole\", \"Devon\"])"
   ]
  },
  {
   "cell_type": "markdown",
   "metadata": {},
   "source": [
    "You can pass some more arguments to the writer as well. You can for example set another delimiter and another line terminator: `csv.writer(file, delimiter='\\t', lineterminator='\\n\\n')`.\n",
    "\n",
    "When you open the file `addresses.csv` (run the code above first), you will see that the first line is interpreted as a header. This can be improved upon. Use the `DictWriter` instead of the normal `writer`. To write rows, you now have to pass a dictionary to the method. This makes your code much more readable."
   ]
  },
  {
   "cell_type": "code",
   "execution_count": null,
   "metadata": {},
   "outputs": [],
   "source": [
    "import csv\n",
    "\n",
    "with open(\"addresses.csv\", \"w\", newline=\"\") as file:\n",
    "    writer = csv.DictWriter(\n",
    "        file, [\"Firstname\", \"Surname\", \"Address\", \"Village\", \"County\"]\n",
    "    )\n",
    "    writer.writeheader()\n",
    "    writer.writerow(\n",
    "        {\n",
    "            \"Firstname\": \"Harry\",\n",
    "            \"Surname\": \"Potter\",\n",
    "            \"Address\": \"4 Privet Drive\",\n",
    "            \"Village\": \"Little Whinging\",\n",
    "            \"County\": \"Surrey\",\n",
    "        }\n",
    "    )\n",
    "    writer.writerow(\n",
    "        {\n",
    "            \"Firstname\": \"Ronald\",\n",
    "            \"Surname\": \"Weasley\",\n",
    "            \"Address\": \"The Burrow\",\n",
    "            \"Village\": \"Ottery St Catchpole\",\n",
    "            \"County\": \"Devon\",\n",
    "        }\n",
    "    )"
   ]
  },
  {
   "cell_type": "markdown",
   "metadata": {},
   "source": [
    "You also can use a `DictReader` to get more readable code when reading CSV files. The row is now a dictionary instead of a list."
   ]
  },
  {
   "cell_type": "code",
   "execution_count": null,
   "metadata": {},
   "outputs": [],
   "source": [
    "import csv\n",
    "\n",
    "with open(\"addresses.csv\") as file:\n",
    "    reader = csv.DictReader(file)\n",
    "    for row in reader:\n",
    "        print(f\"{row['Firstname']} {row['Surname']}\")"
   ]
  },
  {
   "cell_type": "markdown",
   "metadata": {},
   "source": [
    "You can even give a name to your columns. This is useful when there is no header row."
   ]
  },
  {
   "cell_type": "code",
   "execution_count": null,
   "metadata": {},
   "outputs": [],
   "source": [
    "import csv\n",
    "\n",
    "with open(\"example.csv\") as file:\n",
    "    reader = csv.DictReader(file, [\"date\", \"fruit\", \"amount\"])\n",
    "    for row in reader:\n",
    "        print(f\"On {row['date']} they ate {row['amount']} {row['fruit']}.\")"
   ]
  },
  {
   "cell_type": "markdown",
   "metadata": {},
   "source": [
    "### JSON\n",
    "Because most websites work with JSON data, you can automate a lot through their API. You can actually do a lot of cool stuff by using such an API! The following data types can be represented in JSON: strings, integers, floats, Booleans, lists, dictionaries, and `NoneType`.\n",
    "\n",
    "Here is an example for you in JSON format:\n",
    "```\n",
    "[\n",
    "  {\n",
    "    \"firstname\": \"Harry\",\n",
    "    \"surname\": \"Potter\",\n",
    "    \"county\": \"Surrey\"\n",
    "  },\n",
    "  {\n",
    "    \"firstname\": \"Ronald\",\n",
    "    \"surname\": \"Weasley\",\n",
    "    \"county\": \"Devon\"\n",
    "  }\n",
    "]\n",
    "```"
   ]
  },
  {
   "cell_type": "markdown",
   "metadata": {},
   "source": [
    "With the `json` module, converting JSON data into Python datatypes is very easy."
   ]
  },
  {
   "cell_type": "code",
   "execution_count": null,
   "metadata": {},
   "outputs": [],
   "source": [
    "import json\n",
    "\n",
    "jsonstring = '[{\"firstname\": \"Harry\", \"surname\": \"Potter\", \"county\": \"Surrey\"},{\"firstname\": \"Ronald\", \"surname\": \"Weasley\", \"county\": \"Devon\"}]'\n",
    "data = json.loads(jsonstring)  # load string\n",
    "\n",
    "data"
   ]
  },
  {
   "cell_type": "markdown",
   "metadata": {},
   "source": [
    "And this is how you write JSON data:"
   ]
  },
  {
   "cell_type": "code",
   "execution_count": null,
   "metadata": {},
   "outputs": [],
   "source": [
    "import json\n",
    "\n",
    "wizards = [\n",
    "    {\"firstname\": \"Harry\", \"surname\": \"Potter\", \"county\": \"Surrey\"},\n",
    "    {\"firstname\": \"Ronald\", \"surname\": \"Weasley\", \"county\": \"Devon\"},\n",
    "]\n",
    "\n",
    "jsonstring = json.dumps(wizards)  # dump string\n",
    "\n",
    "jsonstring"
   ]
  },
  {
   "cell_type": "markdown",
   "metadata": {},
   "source": [
    "## Exercises"
   ]
  },
  {
   "cell_type": "markdown",
   "metadata": {},
   "source": [
    "### Exercise 1: Robert De Niro\n",
    "Use the `DictReader` to read the file `deniro.csv`. The file contains the Rotten Tomato ratings of Robert De Niro's movies along with the year the movie came out. Print out all movies with a rating higher than 97 in the following format:\n",
    "```\n",
    "'1900' received a score of 47 in 1977.\n",
    "'New York,New York' received a score of 67 in 1977.\n",
    "'The Deer Hunter' received a score of 93 in 1978.\n",
    "'True Confessions' received a score of 75 in 1981.\n",
    "'The King of Comedy' received a score of 90 in 1983.\n",
    "```"
   ]
  },
  {
   "cell_type": "code",
   "execution_count": null,
   "metadata": {},
   "outputs": [],
   "source": [
    "# implement here"
   ]
  },
  {
   "cell_type": "markdown",
   "metadata": {},
   "source": [
    "### Exercise 2: Train Data\n",
    "Write a tool that prints out the next five trains leaving St.Gallen in the following way:\n",
    "```\n",
    "IR 3274 to Zürich HB at 15.37 on platform 3\n",
    "S4 11459 to Uznach at 15.39 on platform 5\n",
    "S5 11556 to Weinfelden at 15.40 on platform 7\n",
    "RE 5230 to Herisau at 15.45 on platform 5\n",
    "S1 11156 to Wil SG at 15.46 on platform 2\n",
    "```\n",
    "To get this output, you have to analyze the JSON data. Get an overview of the JSON data with this link: https://transport.opendata.ch/v1/stationboard?id=8506302&limit=5. Find out which fields you have to print to the screen. \n",
    "\n",
    "Print the time in a nice format with this code: `parser.parse(datetimestring).strftime('%H.%M')`. The `output` variable contains the JSON as string."
   ]
  },
  {
   "cell_type": "code",
   "execution_count": null,
   "metadata": {},
   "outputs": [],
   "source": [
    "from urllib.request import urlopen\n",
    "from dateutil import parser\n",
    "\n",
    "url = \"https://transport.opendata.ch/v1/stationboard?id=8506302&limit=5\"\n",
    "output = urlopen(url).read().decode()\n",
    "\n",
    "# implement here"
   ]
  },
  {
   "cell_type": "markdown",
   "metadata": {},
   "source": [
    "### Exercise 3: Train to CSV\n",
    "Export the train data to a CSV file with meaningful column names. As this is a technical file, the time should be inserted into the CSV in full ISO format (i.e. no need for you to change anything about the time/date)."
   ]
  },
  {
   "cell_type": "code",
   "execution_count": null,
   "metadata": {},
   "outputs": [],
   "source": [
    "# implement here"
   ]
  }
 ],
 "metadata": {
  "kernelspec": {
   "display_name": "Python 3 (ipykernel)",
   "language": "python",
   "name": "python3"
  },
  "language_info": {
   "codemirror_mode": {
    "name": "ipython",
    "version": 3
   },
   "file_extension": ".py",
   "mimetype": "text/x-python",
   "name": "python",
   "nbconvert_exporter": "python",
   "pygments_lexer": "ipython3",
   "version": "3.8.10"
  }
 },
 "nbformat": 4,
 "nbformat_minor": 4
}
