{
 "cells": [
  {
   "cell_type": "markdown",
   "metadata": {},
   "source": [
    "# Executing Scripts\n",
    "## Introduction\n",
    "\n",
    "This notebook is about creating command line interface (CLI) programs. The topic is not covered by the book but there are good tutorials available online, such as [Real Python's tutorial on argparse](https://realpython.com/command-line-interfaces-python-argparse/).\n",
    "\n",
    "You can find more information about creating CLI programs with the `argparse` library in the Python documentation: [Argparse Tutorial](https://docs.python.org/3/howto/argparse.html).\n",
    "\n",
    "There are other great libraries when working with command line arguments, such as [Click](https://click.palletsprojects.com), [Fire](https://github.com/google/python-fire) and [Plumbum](https://plumbum.readthedocs.io/en/latest/cli.html)."
   ]
  },
  {
   "cell_type": "markdown",
   "metadata": {},
   "source": [
    "## Summary\n",
    "\n",
    "The `argparse` module lets you parse and store arguments passed via the console:\n",
    "\n",
    "```python\n",
    "import argparse\n",
    "parser = argparse.ArgumentParser(description='Does something')\n",
    "arguments = parser.parse_args()\n",
    "```\n",
    "\n",
    "Add positional arguments with `add_argument`:\n",
    "\n",
    "```python\n",
    "parser.add_argument('verbosity')\n",
    "```\n",
    "\n",
    "Add optional arguments by prefixing them with hyphens:\n",
    "\n",
    "```python\n",
    "parser.add_argument('-v', '--verbosity', help='increase output verbosity')\n",
    "```\n",
    "\n",
    "To add optional boolean parameters, use `action='store_true'` or `action='store_false'`. The full list of available actions is [documented in the Python docs](https://docs.python.org/3/library/argparse.html#action).\n",
    "\n",
    "```python\n",
    "parser.add_argument('-v', '--verbose', help='increase output verbosity', action='store_true')\n",
    "```\n",
    "\n",
    "To avoid executing some code in case your file gets imported by another file, use the magic variable `__name__`:\n",
    "\n",
    "```python\n",
    "import argparse\n",
    "\n",
    "def main(name):\n",
    "    print('Hello, %s!' % name)\n",
    "\n",
    "if __name__ == '__main__':\n",
    "    parser = argparse.ArgumentParser(description = 'Say hello')\n",
    "    parser.add_argument('name', help='Your name')\n",
    "    args = parser.parse_args()\n",
    "    main(args.name)\n",
    "```\n",
    "\n",
    "To write to `stderr`, use `sys.stderr` (or use logging):\n",
    "\n",
    "```python\n",
    "sys.stderr.write('Some error occured')\n",
    "print('Some error occured', file=sys.stderr)\n",
    "```\n",
    "\n",
    "To read environment variables, use `os.environ` which behaves like a dictionary:\n",
    "\n",
    "```python\n",
    "os.environ.get('ENV_NAME')\n",
    "```\n",
    "\n"
   ]
  },
  {
   "cell_type": "markdown",
   "metadata": {},
   "source": [
    "## Exercises"
   ]
  },
  {
   "cell_type": "markdown",
   "metadata": {},
   "source": [
    "### Exercise 1: Creating a Parser\n",
    "Create a parser which takes two positional arguments `first_name` and `last_name` and two optional arguments `salutation` (defaults to an empty string) and `underage` (boolean, set to `True` if provided). Make sure the cell executes without throwing an error."
   ]
  },
  {
   "cell_type": "code",
   "execution_count": null,
   "metadata": {},
   "outputs": [],
   "source": [
    "import argparse\n",
    "\n",
    "parser = argparse.ArgumentParser()\n",
    "# todo: add arguments\n",
    "\n",
    "arguments = parser.parse_args([\"John\", \"Doe\"])\n",
    "assert vars(arguments) == {\n",
    "    \"first_name\": \"John\",\n",
    "    \"last_name\": \"Doe\",\n",
    "    \"salutation\": \"\",\n",
    "    \"underage\": False,\n",
    "}\n",
    "\n",
    "arguments = parser.parse_args([\"John\", \"Doe\", \"--salutation\", \"Sir\"])\n",
    "assert vars(arguments) == {\n",
    "    \"first_name\": \"John\",\n",
    "    \"last_name\": \"Doe\",\n",
    "    \"salutation\": \"Sir\",\n",
    "    \"underage\": False,\n",
    "}\n",
    "\n",
    "arguments = parser.parse_args([\"Jane\", \"Doe\", \"--underage\"])\n",
    "assert vars(arguments) == {\n",
    "    \"first_name\": \"Jane\",\n",
    "    \"last_name\": \"Doe\",\n",
    "    \"salutation\": \"\",\n",
    "    \"underage\": True,\n",
    "}"
   ]
  },
  {
   "cell_type": "markdown",
   "metadata": {},
   "source": [
    "### Exercise 2: Drink-Generator as CLI-Application\n",
    "\n",
    "Remember the drink generator you wrote in one of the earlier labs? Write a new version of it, but this time as a command-line application! Requirements:\n",
    "\n",
    "* `-l` / `--list` lists all possible drinks that are available, no arguments needed.\n",
    "* `-d` / `--drink` followed by `drink_name` as argument prints all the required ingredients for a drink.\n",
    "* `-i` / `--ingredient` followed by three ingredients prints all possible drinks based on the argument. The ingredients argument is provided as one string, e.g. `\"ice, gin tonic, water\"`.\n",
    "* The three arguments are mutually exclusive, if you enter for example `-l`, it is not allowed to enter `-d` or `-i` or any other combination. Hint: Look up `mutually exclusive group` in the documentation on argparse.\n",
    "\n",
    "To get you started, the core code of the drink generator is provided.\n",
    "\n",
    "Expected output:\n",
    "```bash\n",
    "$ python drink-generator-cli.py -l       \n",
    "\n",
    "These drinks are available:\n",
    "* caipirinha\n",
    "* mojito\n",
    "* gin tonic\n",
    "* vodka martini\n",
    "\n",
    "$ python drink-generator-cli.py -d \"gin tonic\"\n",
    "\n",
    "Ingredients for a gin tonic:\n",
    "gin, tonic water, ice\n",
    "\n",
    "$ python drink-generator-cli.py -d nodrink\n",
    "\n",
    "nodrink does not exist.\n",
    "\n",
    "$ python drink-generator-cli.py -i \"ice, tonic water, gin\"\n",
    "\n",
    "You can make gin tonic, how tasty!\n",
    "\n",
    "$ python drink-generator-cli.py -i \"ice, not, gin\"  \n",
    "\n",
    "No suitable drink found :-( Just mix everything together and you're fine!\n",
    "\n",
    "$ python drink-generator-cli.py -l -i \"ice, tonic water, gin\"\n",
    "\n",
    "usage: drink-generator-cli.py [-h] [-l | -d DRINK | -i INGREDIENTS]\n",
    "drink-generator-cli.py: error: argument -i/--ingredients: not allowed with argument -l/--list\n",
    "\n",
    "```"
   ]
  },
  {
   "cell_type": "code",
   "execution_count": null,
   "metadata": {},
   "outputs": [],
   "source": [
    "%%writefile drink-generator.py\n",
    "import argparse\n",
    "\n",
    "\n",
    "def find_drink(available_ingredients, drinks):\n",
    "\n",
    "    possible_drinks = []\n",
    "    set_of_available_ingredients = set(available_ingredients)\n",
    "    for drink, ingredients in drinks.items():\n",
    "        if set_of_available_ingredients.issubset(ingredients):\n",
    "            possible_drinks.append(drink)\n",
    "        if possible_drinks:\n",
    "            return possible_drinks\n",
    "    return None\n",
    "\n",
    "\n",
    "def main(list_of_drinks, drink, ingredients):\n",
    "    drinks = {\n",
    "        \"caipirinha\": (\"cachaca\", \"sugar\", \"lime\"),\n",
    "        \"mojito\": (\"white rum\", \"sugar cane juice\", \"lime juice\", \"soda water\", \"mint\"),\n",
    "        \"gin tonic\": (\"gin\", \"tonic water\", \"ice\"),\n",
    "        \"vodka martini\": (\"vodka\", \"vermouth\", \"ice\", \"olives\"),\n",
    "    }\n",
    "\n",
    "    # todo: parse arguments and return correct output\n",
    "\n",
    "\n",
    "if __name__ == \"__main__\":\n",
    "    # todo: Create the parser and run the main function"
   ]
  },
  {
   "cell_type": "code",
   "execution_count": null,
   "metadata": {},
   "outputs": [],
   "source": [
    "%run drink-generator.py -h"
   ]
  },
  {
   "cell_type": "markdown",
   "metadata": {},
   "source": [
    "### Exercise 3: Converting Date/Times\n",
    "Create a script which parses a date and time, converts it to given timezone and returns it in ISO 8601 format (UTC). You can use `dateutil` and `pytz` to make things a bit easier!"
   ]
  },
  {
   "cell_type": "code",
   "execution_count": null,
   "metadata": {},
   "outputs": [],
   "source": [
    "!pip install python-dateutil pytz"
   ]
  },
  {
   "cell_type": "code",
   "execution_count": null,
   "metadata": {},
   "outputs": [],
   "source": [
    "%%writefile convert-date.py\n",
    "# todo: your solution here"
   ]
  },
  {
   "cell_type": "markdown",
   "metadata": {},
   "source": [
    "Calling help on your command should return something like this:\n",
    "\n",
    "```bash\n",
    "usage: convert_date.py [-h] [-t TIMEZONE] datetime\n",
    "\n",
    "Convert a given date to ISO 8601 format\n",
    "\n",
    "positional arguments:\n",
    "  datetime              Date/time to be converted\n",
    "\n",
    "optional arguments:\n",
    "  -h, --help            show this help message and exit\n",
    "  -t TIMEZONE, --timezone TIMEZONE\n",
    "                        Timezone of the given datetime\n",
    "```"
   ]
  },
  {
   "cell_type": "code",
   "execution_count": null,
   "metadata": {},
   "outputs": [],
   "source": [
    "%run convert-date.py -h"
   ]
  },
  {
   "cell_type": "markdown",
   "metadata": {},
   "source": [
    "Calling your command should return:\n",
    "\n",
    "- `convert-date.py '31.12.2018'`: `2018-12-31T00:00:00+00:00`\n",
    "- `convert-date.py '31.12.2018 12:00'`: `2018-12-31T12:00:00+00:00`\n",
    "- `convert-date.py '2018/1/13 11:05pm' --timezone 'US/Pacific'`: `2018-01-14T07:05:00+00:00`"
   ]
  },
  {
   "cell_type": "code",
   "execution_count": null,
   "metadata": {},
   "outputs": [],
   "source": [
    "%run convert-date.py '31.12.2018'"
   ]
  },
  {
   "cell_type": "code",
   "execution_count": null,
   "metadata": {},
   "outputs": [],
   "source": [
    "%run convert-date.py '31.12.2018 12:00'"
   ]
  },
  {
   "cell_type": "code",
   "execution_count": null,
   "metadata": {},
   "outputs": [],
   "source": [
    "%run convert-date.py '2018/1/13 11:05pm' --timezone 'US/Pacific'"
   ]
  }
 ],
 "metadata": {
  "kernelspec": {
   "display_name": "Python 3 (ipykernel)",
   "language": "python",
   "name": "python3"
  },
  "language_info": {
   "codemirror_mode": {
    "name": "ipython",
    "version": 3
   },
   "file_extension": ".py",
   "mimetype": "text/x-python",
   "name": "python",
   "nbconvert_exporter": "python",
   "pygments_lexer": "ipython3",
   "version": "3.8.10"
  }
 },
 "nbformat": 4,
 "nbformat_minor": 4
}
