{
 "cells": [
  {
   "cell_type": "markdown",
   "metadata": {},
   "source": [
    "# Debugging Part 3: Debugger\n",
    "\n",
    "## Introduction\n",
    "\n",
    "This and the previous notebooks are about tools and techniques for finding the root cause of bugs in your program. There are several possibilities to gather information depending on how you want the program to behave in case of a possible error:\n",
    "\n",
    "1. **Abort** the program or part of the code: raise **exceptions** and assertions\n",
    "2. **Continue** running the program: **log** information\n",
    "3. **Halt** the program: **debug** your code (this notebook)\n",
    "\n",
    "This notebook covers parts of [chapter 11](https://automatetheboringstuff.com/2e/chapter11/) of the book.\n",
    "\n",
    "You can find more information about the debugger in the Python documentation: [`pdb` - The Python Debugger](https://docs.python.org/3/library/pdb.html)."
   ]
  },
  {
   "cell_type": "markdown",
   "metadata": {},
   "source": [
    "## Summary\n",
    "\n",
    "Python comes with an interactive source code debugger which is like the python shell with additional commands for debugging. The debugger accepts any valid python code and you can access every object in the current context. This means that you can read, change and create variables however you like!\n",
    "\n",
    "### Entering the Debugger\n",
    "\n",
    "Since Python is an interpreted language (you don't need to compile it before running) you can debug your code anywhere at any time: in your shell, on your server, in your docker container. No external debugger or IDE required! The debugger can be entered by calling the builtin `breakpoint` function anywhere within your code (requires Python >=3.7):\n",
    "\n",
    "```python\n",
    "breakpoint()\n",
    "```\n",
    "\n",
    "For Python versions <3.7 use:\n",
    "\n",
    "```python\n",
    "import pdb\n",
    "pdb.set_trace()\n",
    "```\n",
    "\n",
    "### Debugger Commands\n",
    "\n",
    "As soon as you enter the debugger, it accepts valid python code and a couple of special commands:\n",
    "\n",
    "| Command             |                                                              |\n",
    "| ------------------- | ------------------------------------------------------------ |\n",
    "| **l**(ist)          | List the source code around the current position.            |\n",
    "| **w**(here)         | Show a stack trace.                                          |\n",
    "| **pp** <expression> | (Pretty) print the given expression.                         |\n",
    "| **n**(ext)          | Execute the next line.                                       |\n",
    "| **s**(tep)          | Execute the next line, possibly step into the next function. |\n",
    "| **r**(eturn)        | Continue execution until the end of the current function.    |\n",
    "| **c**(ontinue)      | Continue execution.                                          |\n",
    "| **q**(uit)          | Stop execution.                                              |\n",
    "\n",
    "    \n",
    "### The IPython Debugger\n",
    "\n",
    "Jupyter / IPython has its own debugger which has syntax highlighting, tab completion and other nice features. Debugging a whole cell can be done using the [debug magic command](https://ipython.readthedocs.io/en/stable/interactive/magics.html#magic-debug) and allows you to inspect your variables after an exception has occurred. It's also possible to use the IPython debugger outside Juypter by installing the ipdb package. However, since in daily practice you will most likely not debug your code in a Jupyter setting, we do not cover it here. Feel free to explore the topic yourself though!\n"
   ]
  },
  {
   "cell_type": "markdown",
   "metadata": {},
   "source": [
    "## Exercises"
   ]
  },
  {
   "cell_type": "markdown",
   "metadata": {},
   "source": [
    "### Exercise 1: Entering and Leaving the Debugger\n",
    "Set a breakpoint in the following function, then run the cell and continue execution (c). What happens if you quit (q) the debugger instead? Modify the function call so that the cell runs clean no matter if you continue or quit (Hint: Have a look at [BdbQuit](https://docs.python.org/3.8/library/bdb.html#bdb.BdbQuit).)\n",
    "\n",
    "If something goes wrong, you can always restart the kernel!"
   ]
  },
  {
   "cell_type": "code",
   "execution_count": null,
   "metadata": {},
   "outputs": [],
   "source": [
    "def my_function():\n",
    "    # todo: set a breakpoint\n",
    "    return 1\n",
    "\n",
    "\n",
    "assert my_function() == 1"
   ]
  },
  {
   "cell_type": "markdown",
   "metadata": {},
   "source": [
    "### Exercise 2: Inspecting\n",
    "Set a breakpoint and print (pp) the local variables `var_a`, `var_b` and `var_c`. What does the variable `var_c` contain? How many elements are in there?\n",
    "\n",
    "Get the current code around the breakpoint (l). On which line number is the breakpoint?\n",
    "\n",
    "Get the stack trace (w)."
   ]
  },
  {
   "cell_type": "code",
   "execution_count": null,
   "metadata": {},
   "outputs": [],
   "source": [
    "def my_function():\n",
    "    var_a = \"This is a string.\"\n",
    "    var_b = 10\n",
    "    var_c = [var_a[:i] for i in range(len(var_a) + 1)]\n",
    "    # todo: set a breakpoint\n",
    "    return 1\n",
    "\n",
    "\n",
    "assert my_function() == 1"
   ]
  },
  {
   "cell_type": "markdown",
   "metadata": {},
   "source": [
    "### Exercise 3: Manipulating\n",
    "Set a breakpoint and modify the local variable `result` with the debugger so that no assertion error occurs."
   ]
  },
  {
   "cell_type": "code",
   "execution_count": null,
   "metadata": {},
   "outputs": [],
   "source": [
    "def my_function(value):\n",
    "    result = value\n",
    "    # todo: set a breakpoint\n",
    "    return value\n",
    "\n",
    "\n",
    "assert len(my_function([1, 2, 3])) == 4"
   ]
  },
  {
   "cell_type": "markdown",
   "metadata": {},
   "source": [
    "### Exercise 4: Navigating\n",
    "Set one breakpoint and use the next (n) and step-into (s) debugger commands to modify the result of the inner function so that no assertion error occurs."
   ]
  },
  {
   "cell_type": "code",
   "execution_count": null,
   "metadata": {},
   "outputs": [],
   "source": [
    "def inner_function(value, key):\n",
    "    result = value[key]\n",
    "    return result\n",
    "\n",
    "\n",
    "def outer_function(value):\n",
    "    # todo: set a breakpoint\n",
    "    var_a = inner_function(value, \"a\")\n",
    "    var_b = inner_function(value, \"a\")\n",
    "    return var_a + var_b\n",
    "\n",
    "\n",
    "assert outer_function({\"a\": 1, \"b\": 2}) == 4"
   ]
  }
 ],
 "metadata": {
  "kernelspec": {
   "display_name": "Python 3 (ipykernel)",
   "language": "python",
   "name": "python3"
  },
  "language_info": {
   "codemirror_mode": {
    "name": "ipython",
    "version": 3
   },
   "file_extension": ".py",
   "mimetype": "text/x-python",
   "name": "python",
   "nbconvert_exporter": "python",
   "pygments_lexer": "ipython3",
   "version": "3.8.10"
  }
 },
 "nbformat": 4,
 "nbformat_minor": 4
}
