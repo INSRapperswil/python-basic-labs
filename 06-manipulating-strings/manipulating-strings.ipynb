{
 "cells": [
  {
   "cell_type": "markdown",
   "metadata": {},
   "source": [
    "# Manipulating Strings\n",
    "\n",
    "## Introduction\n",
    "\n",
    "In this chapter you will learn how to manipulate strings, so you can work more flexibly. There are several possibilities to adjust strings, like removing parts of them, convert letters from uppercase into lowercase and much more.\n",
    "\n",
    "This notebook covers some parts of [chapter 6](https://automatetheboringstuff.com/2e/chapter6/) of the book.\n",
    "\n",
    "To get more information you can visit [Python Tutorial: Strings](https://docs.python.org/3/tutorial/introduction.html#strings) and [W3C Schools: Python Strings](https://www.w3schools.com/python/python_strings.asp)."
   ]
  },
  {
   "cell_type": "markdown",
   "metadata": {},
   "source": [
    "## Summary\n",
    "\n",
    "Strings are sequences of bytes, which represent characters, just like in other programming languages. You can access a single element of the string with square brackets. Fortunately Python has many helpful string methods to process text.\n",
    "\n",
    "### Single and Double Quotes\n",
    "\n",
    "In Python you can produce string literals in two ways by surrounding the whole text with single quotation marks (`'text'`) or double quotation marks (`\"text\"`).\n",
    "\n",
    "A problem arises if you use single quote marks to surround the text and use them in the text itself again. \n",
    "\n",
    "```python\n",
    "print('That's a lot of fun.')\n",
    "```\n",
    "\n",
    "As you can see, the row doesn't work because Python reads only until it reaches the second single quote mark as a string. So you will get just `That` as a string and an error because of the unreadable subsequent part `s a lot of fun.'`. The same happens if you want to use double quote marks themselves in your text.\n",
    "\n",
    "```python\n",
    "print(\"That's a lot of fun.\")\n",
    "print('That\\'s a lot of fun.')\n",
    "```\n",
    "\n",
    "If you have a single quote in the text itself, you can solve the problem with two variants. First, you can use double quote marks as surrounding. Second, you can use an escape character before the desired single quote.\n",
    "\n",
    "```python\n",
    "print(\"He asked, \"What?\", and left.\")\n",
    "print(\"He asked, \\\"What?\\\", and left.\")\n",
    "```\n",
    "\n",
    "In case you want to integrate double quote marks in the text itself, you have to use an escape character before each mark.\n",
    "\n",
    "### Escape Characters\n",
    "\n",
    "With the help of an escape character, Python is able to write illegal characters into the string. Therefore you can use them to structure your text too.\n",
    "\n",
    "| Escape character | Print as             |\n",
    "| :--------------- | :------------------- |\n",
    "| \\\\'              | Single quote         |\n",
    "| \\\\\"              | Double quote         |\n",
    "| \\t               | Tab                  |\n",
    "| \\n               | Newline (line break) |\n",
    "| \\\\\\              | Backslash             |\n",
    "\n",
    "### Raw Strings\n",
    "\n",
    "Let's say you want to print out a whole file path as a string. An easier and faster way to do this is to use raw strings. You only need to insert an `r` before the actual text.\n",
    "\n",
    "```python\n",
    "print(r'C:\\Users\\Bob\\Desktop')\n",
    "```\n",
    "\n",
    "### Multiline Strings\n",
    "\n",
    "It would be really time-consuming if you had to use `\\n` several times to write a longer text as a string. To simplify this, you can use multiline strings with triple quotes (using either single quotes or double quotes). And another advantage in the example below is that you won't need to use an escape character after the word `haven`.\n",
    "\n",
    "```python\n",
    "# easier & faster to write\n",
    "print('''Dear Bob, \n",
    "\n",
    "You still haven't answered my question.\n",
    "\n",
    "Sincerely,\n",
    "Ross''')\n",
    "\n",
    "# other possiblity, but takes a while to write it\n",
    "print('Dear Bob,\\n\n",
    "\\n\n",
    "You still haven\\'t answered my question.\\n\n",
    "\\n\n",
    "Sincerely,\\n\n",
    "Ross')\n",
    "```\n",
    "\n",
    "### Indexing and Slicing Strings\n",
    "\n",
    "Just like lists, you can work with strings by using indices and slices.\n",
    "\n",
    "```python\n",
    "text = 'Hello, world!'\n",
    "text[0]   # output = 'H'\n",
    "text[0:5] # output = 'Hello' \n",
    "text[-1]  # output = '!' \n",
    "text[:5]  # output = 'Hello' \n",
    "text[7:]  # output = 'world!' \n",
    "```\n",
    "\n",
    "### Formatting Strings\n",
    "\n",
    "Strings can contain placeholders using the `{}` brackets. These are replaced with the provided values when calling `format` or when using f-Strings:\n",
    "\n",
    "```python\n",
    "greeting = 'Hello'\n",
    "person = 'Peter'\n",
    "text = '{}, {}!'.format(greeting, person)\n",
    "text = f'{greeting}, {person}!'\n",
    "```\n",
    "\n",
    "These placeholders can optionally contain instructions on how to fill in the provide values:\n",
    "\n",
    "```python\n",
    "value = 1.2345\n",
    "print(f'{value:.3}')  # only print 3 digits: 1.23\n",
    "```\n",
    "\n",
    "A good overview of all possibilities, including instructions, is provided on [pyformat.info](https://pyformat.info/).\n",
    "\n",
    "### String Methods\n",
    "\n",
    "The full list of available string methods is [documented in the Python documentation](https://docs.python.org/3/library/stdtypes.html#string-methods)."
   ]
  },
  {
   "cell_type": "markdown",
   "metadata": {},
   "source": [
    "## Exercises"
   ]
  },
  {
   "cell_type": "markdown",
   "metadata": {},
   "source": [
    "### Exercise 1: Defining Strings\n",
    "Rewrite the following text using only one line. Use single quotes. Make sure your version equals the given one."
   ]
  },
  {
   "cell_type": "code",
   "execution_count": 135,
   "metadata": {},
   "outputs": [],
   "source": [
    "text = r\"\"\"\n",
    "I'm a text containing some \"other text\" and some \\n!\n",
    "\"\"\"\n",
    "\n",
    "# todo: rewrite"
   ]
  },
  {
   "cell_type": "markdown",
   "metadata": {},
   "source": [
    "### Exercise 2: String Functions\n",
    "\n",
    "#### a) Cleaning up\n",
    "Clean up the following text by removing all whitespace characters. How many characters are removed from the left and right ends of the string?"
   ]
  },
  {
   "cell_type": "code",
   "execution_count": null,
   "metadata": {},
   "outputs": [],
   "source": [
    "text = \"   \\tThis is a messy text\\n\\t\"\n",
    "# todo: cleanup\n",
    "# todo: count cleaned up characters"
   ]
  },
  {
   "cell_type": "markdown",
   "metadata": {},
   "source": [
    "Oftentimes files contain different line endings: `\\r\\n` (Windows) or `\\n` (Mac, Linux).\n",
    "- Replace all `\\r\\n` endings with `\\n` in the following text.\n",
    "- Replace all `\\n` endings with `\\r\\n` in the following text."
   ]
  },
  {
   "cell_type": "code",
   "execution_count": null,
   "metadata": {},
   "outputs": [],
   "source": [
    "text = \" \\nThis text has different\\r\\nline\\nendings\"\n",
    "# todo: replace endings"
   ]
  },
  {
   "cell_type": "markdown",
   "metadata": {},
   "source": [
    "#### b) Splitting and Joining.\n",
    "Split the following text\n",
    "- into words\n",
    "- into texts between tabs: 'This', 'is a text', 'with tabs'\n",
    "\n",
    "Note that you may need to do some cleaning up by removing whitespaces."
   ]
  },
  {
   "cell_type": "code",
   "execution_count": null,
   "metadata": {},
   "outputs": [],
   "source": [
    "text = \"This \\tis a text\\t with tabs.\"\n",
    "# todo: split"
   ]
  },
  {
   "cell_type": "markdown",
   "metadata": {},
   "source": [
    "Split the following sentence into words and join it back together."
   ]
  },
  {
   "cell_type": "code",
   "execution_count": null,
   "metadata": {},
   "outputs": [],
   "source": [
    "text = \"This is just a text.\"\n",
    "# todo: split and join"
   ]
  },
  {
   "cell_type": "markdown",
   "metadata": {},
   "source": [
    "There is also a splitting function which handles the different line endings for you. Use it to manipulate the following string so that:\n",
    "- Uppercase words are lowercase afterwards\n",
    "- Lowercase words are capitalized\n",
    "- Capitalized words are uppercase\n",
    "\n",
    "`My HOUSE is Burning` becomes `MY house Is BURNING`.\n",
    "\n",
    "Hint: Use `enumerate` to modify list items inplace."
   ]
  },
  {
   "cell_type": "code",
   "execution_count": null,
   "metadata": {},
   "outputs": [],
   "source": [
    "text = \"My HOUSE is Burning\"\n",
    "# todo: manipulate and print"
   ]
  },
  {
   "cell_type": "markdown",
   "metadata": {},
   "source": [
    "### Exercise 3: Indexing and Slicing\n",
    "Here's the first few sentences of Oscar Wilde's 'The Selfish Giant':\n",
    "\n",
    "> Every afternoon, as they were coming from school, the children used to go and play in the Giant's garden.\n",
    ">\n",
    "> It was a large lovely garden, with soft green grass. Here and there over the grass stood beautiful flowers like stars, and there were twelve peach-trees that in the spring-time broke out into delicate blossoms of pink and pearl, and in the autumn bore rich fruit. The birds sat on the trees and sang so sweetly that the children used to stop their games in order to listen to them. 'How happy we are here!' they cried to each other."
   ]
  },
  {
   "cell_type": "code",
   "execution_count": null,
   "metadata": {},
   "outputs": [],
   "source": [
    "text = \"\"\"\n",
    "Every afternoon, as they were coming from school, the children used to go and play in the Giant's garden.\n",
    "\n",
    "It was a large lovely garden, with soft green grass. Here and there over the grass stood beautiful flowers like stars, and there were twelve peach-trees that in the spring-time broke out into delicate blossoms of pink and pearl, and in the autumn bore rich fruit. The birds sat on the trees and sang so sweetly that the children used to stop their games in order to listen to them. 'How happy we are here!' they cried to each other.\n",
    "\"\"\""
   ]
  },
  {
   "cell_type": "markdown",
   "metadata": {},
   "source": [
    "Print the first and the last letter (E, r) of the text."
   ]
  },
  {
   "cell_type": "code",
   "execution_count": null,
   "metadata": {},
   "outputs": [],
   "source": [
    "# todo: first and last character"
   ]
  },
  {
   "cell_type": "markdown",
   "metadata": {},
   "source": [
    "Now print the first and last word (Every, other) of the text."
   ]
  },
  {
   "cell_type": "code",
   "execution_count": null,
   "metadata": {},
   "outputs": [],
   "source": [
    "# todo: first and last word"
   ]
  },
  {
   "cell_type": "markdown",
   "metadata": {},
   "source": [
    "Finally, take the second paragraph of the text: Of each sentence, print the second to last character of the last two words each.\n",
    "\n",
    "Example: \"It was a large lovely garden, with soft gre**e**n gra**s**s.\"\n",
    "\n",
    "Your cell should output the highlighted characters: ... gre**e**n gra**s**s ... ri**c**h fru**i**t ... **t**o th**e**m ... ea**c**h oth**e**r"
   ]
  },
  {
   "cell_type": "code",
   "execution_count": null,
   "metadata": {},
   "outputs": [],
   "source": [
    "# todo: use slicing and for loops"
   ]
  },
  {
   "cell_type": "markdown",
   "metadata": {},
   "source": [
    "### Exercise 4: String Formatting\n",
    "\n",
    "Print `Bob Solo from New york is 41 years old.` by using the following variables."
   ]
  },
  {
   "cell_type": "code",
   "execution_count": null,
   "metadata": {},
   "outputs": [],
   "source": [
    "age = 41.25\n",
    "first_name = \"bob \"\n",
    "last_name = \" SOLO\"\n",
    "location = \"   New York\"\n",
    "\n",
    "# todo: print"
   ]
  },
  {
   "cell_type": "markdown",
   "metadata": {},
   "source": [
    "Print the content of the following dictionary like this:\n",
    "```\n",
    "A: 101.0\n",
    "B: 120.3\n",
    "C: 130.2\n",
    "```"
   ]
  },
  {
   "cell_type": "code",
   "execution_count": null,
   "metadata": {},
   "outputs": [],
   "source": [
    "values = {\n",
    "    \"a\": 101,\n",
    "    \"b\": 120.3,\n",
    "    \"c\": 130.223,\n",
    "}\n",
    "\n",
    "# todo: print values"
   ]
  },
  {
   "cell_type": "markdown",
   "metadata": {},
   "source": [
    "### Exercise 5: Counting Things\n",
    "\n",
    "Create a dictionary containing the number of lines, commas, periods, words, unique words and whitespace characters of the following text.\n",
    "\n",
    "The cell should return:\n",
    "\n",
    "```python\n",
    "{'lines': 4, 'commas': 4, 'periods': 3, 'words': 50, 'unique words': 41, 'whitespace characters': 54}\n",
    "```"
   ]
  },
  {
   "cell_type": "code",
   "execution_count": null,
   "metadata": {},
   "outputs": [],
   "source": [
    "text = \"\"\" Lorem ipsum dolor sit amet, consetetur sadipscing elitr,\n",
    "sed diam nonumy eirmod tempor invidunt ut labore et dolore magna aliquyam erat,\n",
    "sed diam voluptua. At vero eos et \\taccusam et justo duo dolores et ea rebum.\n",
    "Stet clita kasd gubergren, no sea takimata sanctus est Lorem   ipsum dolor sit amet.\n",
    "\"\"\"\n",
    "\n",
    "# todo: count"
   ]
  }
 ],
 "metadata": {
  "kernelspec": {
   "display_name": "Python 3 (ipykernel)",
   "language": "python",
   "name": "python3"
  },
  "language_info": {
   "codemirror_mode": {
    "name": "ipython",
    "version": 3
   },
   "file_extension": ".py",
   "mimetype": "text/x-python",
   "name": "python",
   "nbconvert_exporter": "python",
   "pygments_lexer": "ipython3",
   "version": "3.8.10"
  }
 },
 "nbformat": 4,
 "nbformat_minor": 4
}
