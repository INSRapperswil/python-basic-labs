{
 "cells": [
  {
   "cell_type": "markdown",
   "metadata": {},
   "source": [
    "# Functions\n",
    "## Introduction\n",
    "\n",
    "You've already used functions during this course. Now you're going to define your own functions and learn how to use them.\n",
    "\n",
    "This notebook covers the [third chapter](https://automatetheboringstuff.com/2e/chapter3/) of the book.\n",
    "\n",
    "You can find more information about functions in the Python documentation:\n",
    "* [Defining Functions](https://docs.python.org/3/tutorial/controlflow.html#defining-functions)\n",
    "* [More on Defining Functions](https://docs.python.org/3/tutorial/controlflow.html#more-on-defining-functions]"
   ]
  },
  {
   "cell_type": "markdown",
   "metadata": {},
   "source": [
    "## Summary\n",
    "\n",
    "### The Basics of Functions\n",
    "\n",
    "One of the most important coding paradigms is the so called _DRY_-principle. DRY stands for [_Don't Repeat Yourself_](https://en.wikipedia.org/wiki/Don't_repeat_yourself). So you should really write your code only once. Things that happen repeatedly are to be placed in a loop. You learned that in the previous chapter.\n",
    "\n",
    "Another way to avoid duplicated code is using functions. Put small parts of your program into functions and call the function when needed.\n",
    "\n",
    "Lets make an example. Imagine you have a website with two input fields, one for the first name and one for the last name. You want to check these fields so they don't have any leading or trailing whitespaces. Also, the names should start upper case. Your code might look like this:"
   ]
  },
  {
   "cell_type": "code",
   "execution_count": 1,
   "metadata": {},
   "outputs": [
    {
     "name": "stdout",
     "output_type": "stream",
     "text": [
      "Harry Potter\n"
     ]
    }
   ],
   "source": [
    "firstname = \"Harry \"  # Input from the website\n",
    "lastname = \" Potter\"  # Input from the website\n",
    "\n",
    "firstname_without_spaces = firstname.strip()\n",
    "firstname_capitalized = firstname_without_spaces.title()\n",
    "lastname_without_spaces = lastname.strip()\n",
    "lastname_capitalized = lastname_without_spaces.title()\n",
    "\n",
    "print(firstname_capitalized + \" \" + lastname_capitalized)"
   ]
  },
  {
   "cell_type": "markdown",
   "metadata": {},
   "source": [
    "A better solution might have been:"
   ]
  },
  {
   "cell_type": "code",
   "execution_count": 2,
   "metadata": {},
   "outputs": [
    {
     "name": "stdout",
     "output_type": "stream",
     "text": [
      "Harry Potter\n"
     ]
    }
   ],
   "source": [
    "firstname = \"Harry \"\n",
    "lastname = \" Potter\"\n",
    "\n",
    "\n",
    "def fix(text):\n",
    "    text_without_spaces = text.strip()\n",
    "    text_capitalized = text_without_spaces.title()\n",
    "    return text_capitalized\n",
    "\n",
    "\n",
    "fixed_firstname = fix(firstname)\n",
    "fixed_lastname = fix(lastname)\n",
    "\n",
    "print(fixed_firstname + \" \" + fixed_lastname)"
   ]
  },
  {
   "cell_type": "markdown",
   "metadata": {},
   "source": [
    "In the example, the _defined_ function is called `fix` and it takes one _parameter_ , called `text`. So, the function is more general than the first solution where variables like `firstname_without_spaces` were used. For the function, it doesn't matter whether it processes a first name or a last name. It's just a piece of text. At the end, the result is _returned_. Note the lines, where `fixed_firstname` gets assigned the first name processed by the function. The `fix` function gets _called_. The original first name is _passed_ as an _argument_ to the function.\n",
    "\n",
    "For the return part, note the following: It consists of two parts. Firstly, the _keyword_ `return` and the _return value_ `text_capitalized`. Not every function has to return something, so the return keyword is optional.\n",
    "\n",
    "The words written in italics in the text above are important terms to know. Make sure that you understand them and that you can differentiate between them (especially between _argument_ and _parameter_)."
   ]
  },
  {
   "cell_type": "markdown",
   "metadata": {},
   "source": [
    "The following code snippet is even shorter:"
   ]
  },
  {
   "cell_type": "code",
   "execution_count": 1,
   "metadata": {},
   "outputs": [
    {
     "name": "stdout",
     "output_type": "stream",
     "text": [
      "Harry Potter\n"
     ]
    }
   ],
   "source": [
    "firstname = \"Harry \"\n",
    "lastname = \" Potter\"\n",
    "\n",
    "\n",
    "def fix(text):\n",
    "    return text.strip().title()  # returns the expression directly\n",
    "\n",
    "\n",
    "print(fix(firstname) + \" \" + fix(lastname))"
   ]
  },
  {
   "cell_type": "markdown",
   "metadata": {},
   "source": [
    "It's always good to keep the code as short as possible. You don't have to return a variable at the end of the function. You can also return an _expression_. The result will be the same as the results from the previous examples above. The _return expression_ is called when the end of the function is reached.\n",
    "\n",
    "Note that the return statement does not necessarily need to be on the last line of the function. If you use a conditional statement for example, there might be more than one return statement in the function. But your function call will always end when a return statement in the function is reached."
   ]
  },
  {
   "cell_type": "markdown",
   "metadata": {},
   "source": [
    "### The None Value\n",
    "As mentioned above, the _return_ keyword is optional. But when you leave it out, an invisible line of code gets added automatically. Have a look at the `print` function, which returns no value at all:"
   ]
  },
  {
   "cell_type": "code",
   "execution_count": null,
   "metadata": {},
   "outputs": [],
   "source": [
    "def print(string):\n",
    "    # print the string to the console\n",
    "    return None"
   ]
  },
  {
   "cell_type": "markdown",
   "metadata": {},
   "source": [
    "The `None` value gets returned and it is the only value of the data type `NoneType`. You can make use of the `None` in many cases. Have a look at the example below:"
   ]
  },
  {
   "cell_type": "code",
   "execution_count": null,
   "metadata": {},
   "outputs": [],
   "source": [
    "def fix(text):\n",
    "    text_without_spaces = text.strip()\n",
    "    text_capitalized = text_without_spaces.title()\n",
    "    if len(text_capitalized) == 0:\n",
    "        return None\n",
    "    return text_capitalized\n",
    "\n",
    "\n",
    "name = \" \"\n",
    "fixed = fix(name)\n",
    "\n",
    "if fixed:\n",
    "    print(\"The entered name is valid.\")\n",
    "else:\n",
    "    print(\"The entered name is not ok.\")"
   ]
  },
  {
   "cell_type": "markdown",
   "metadata": {},
   "source": [
    "When you do an `if`-check on a `None` value, it evaluates to `False`. It's the same as checking for zero, which also evaluates to `False`. Try other values for `name`."
   ]
  },
  {
   "cell_type": "markdown",
   "metadata": {},
   "source": [
    "Another thing the example shows is that the line containing the `return` keyword is the last line that gets executed in the function. That is the reason why you don't need an `else` statement here."
   ]
  },
  {
   "cell_type": "markdown",
   "metadata": {},
   "source": [
    "### The Call Stack\n",
    "![The Call Stack](images/callstack.jpg)\n",
    "\n",
    "The _call stack_ is a Python-internal list that remembers which function is currently being called. Every called function inside the underlying root function gets put on the top of the stack. After the uppermost function returns, the stack knows which was the callee and this callee function resumes. The image above shows you the call stack of a function `a()` which itself calls a function `b()`. Note that the call stack updates over time as new functions are called and others terminate."
   ]
  },
  {
   "cell_type": "markdown",
   "metadata": {},
   "source": [
    "### Local and Global Scope\n",
    "There's a difference between local and global variables. Have a look at this example:"
   ]
  },
  {
   "cell_type": "code",
   "execution_count": 1,
   "metadata": {},
   "outputs": [
    {
     "name": "stdout",
     "output_type": "stream",
     "text": [
      "11\n",
      "11\n"
     ]
    }
   ],
   "source": [
    "x = 11  # global variable\n",
    "\n",
    "\n",
    "def modify_x():\n",
    "    x = 33  # local variable\n",
    "\n",
    "\n",
    "print(x)\n",
    "modify_x()\n",
    "print(x)"
   ]
  },
  {
   "cell_type": "markdown",
   "metadata": {},
   "source": [
    "As you can see, the output of the variable `x` doesn't change. The function `modify_x()` does not modify the previously defined variable `x`. The reason for this is that `x` on line 1 is a global variable but `x` inside the function is a local variable. The local variable is only visible to the function and the global variable is not accessible.\n",
    "\n",
    "> The best way to modify global variables is by handing them over to the function as arguments and return the modified variable from the function."
   ]
  },
  {
   "cell_type": "code",
   "execution_count": null,
   "metadata": {},
   "outputs": [],
   "source": [
    "x = 11  # global variable\n",
    "\n",
    "\n",
    "def modify_x(x):\n",
    "    x = 33  # local variable\n",
    "    return x\n",
    "\n",
    "\n",
    "print(x)\n",
    "x = modify_x(x)  # assignment\n",
    "print(x)"
   ]
  },
  {
   "cell_type": "markdown",
   "metadata": {},
   "source": [
    "Now it works. There is another way to achieve the same thing, but it's not recommended. You can pull a global variable into a function with the `global` keyword."
   ]
  },
  {
   "cell_type": "code",
   "execution_count": null,
   "metadata": {},
   "outputs": [],
   "source": [
    "x = 11  # global variable\n",
    "\n",
    "\n",
    "def modify_x():\n",
    "    global x\n",
    "    x = 33  # local variable\n",
    "\n",
    "\n",
    "print(x)\n",
    "modify_x()\n",
    "print(x)"
   ]
  },
  {
   "cell_type": "markdown",
   "metadata": {},
   "source": [
    "Global variables lead to much confusing, unordered and incoherent, dependent-on-itself code. You're doing yourself a favor when you avoid using them."
   ]
  },
  {
   "cell_type": "markdown",
   "metadata": {},
   "source": [
    "### Exception Handling\n",
    "You'll often write code which relies on input that you cannot control (user input for example). Therefore, anything can happen. As the example in the book shows, you want to program a calculator. The calculator will crash if you do not check the divisor for zero. I must admit, this check is done easily. But what happens if you want to open a text file with Python, but the user gives you an exe file or a jpeg? Or you want to download data from the Internet; many error cases can happen there.\n",
    "\n",
    "To be sure that your program does not crash in an _exception_ , you should use the `try/except` structure:"
   ]
  },
  {
   "cell_type": "code",
   "execution_count": null,
   "metadata": {},
   "outputs": [],
   "source": [
    "divisor = 0\n",
    "\n",
    "try:\n",
    "    print(7 / divisor)\n",
    "except ZeroDivisionError:\n",
    "    print(\"The divisor must not be 0.\")\n",
    "except:\n",
    "    print(\"Another error occured.\")"
   ]
  },
  {
   "cell_type": "markdown",
   "metadata": {},
   "source": [
    "Because other errors can occur as well, you can write multiple except-statements. As soon as the try-statement fails, the code will trigger a print call."
   ]
  },
  {
   "cell_type": "markdown",
   "metadata": {},
   "source": [
    "## Exercises\n",
    "\n",
    "### Exercise 1: Concatenate\n",
    "Create a function which takes two string parameters, concatenates them and prints them out. Name the function `concatenate`."
   ]
  },
  {
   "cell_type": "code",
   "execution_count": null,
   "metadata": {},
   "outputs": [],
   "source": [
    "# Implement the function here\n",
    "\n",
    "# Calls\n",
    "concatenate(\"Ha\", \"rry\")\n",
    "concatenate(\"Ha\", \"grid\")"
   ]
  },
  {
   "cell_type": "markdown",
   "metadata": {},
   "source": [
    "### Exercise 2: Even or Odd\n",
    "Create two functions. The first function returns a random number between 1 and 100. The second function checks if a number is odd or even. Use the two functions to write a third function (`random_odd`) which always returns a random odd number between 1 and 100."
   ]
  },
  {
   "cell_type": "code",
   "execution_count": null,
   "metadata": {},
   "outputs": [],
   "source": [
    "import random\n",
    "\n",
    "# Function get_random\n",
    "def get_random():\n",
    "    # Get a random integer between 1 and 100.\n",
    "    return random.randint(1, 100)\n",
    "\n",
    "\n",
    "# Function check_odd(...)\n",
    "# ...\n",
    "\n",
    "# Main function\n",
    "# ..."
   ]
  },
  {
   "cell_type": "markdown",
   "metadata": {},
   "source": [
    "### Exercise 3: Name-Checking\n",
    "Write a program that uses the `input` function to get values for a first name and a last name. Make sure that the names start with a capitalized first letter, have no leading and trailing whitespaces and contain at least two characters. Use functions. Print \"Your name is X Y.\" when the input is valid, print an error message if it is not."
   ]
  },
  {
   "cell_type": "code",
   "execution_count": null,
   "metadata": {},
   "outputs": [],
   "source": [
    "# Write your code here"
   ]
  },
  {
   "cell_type": "markdown",
   "metadata": {},
   "source": [
    "### Exercise 4: Paying Bills\n",
    "There's a little tool that lets you calculate how much every one of your group in a restaurant has to pay for the bill if you split it evenly. But the tool does not work correctly with every input. Please refactor it so that it never breaks."
   ]
  },
  {
   "cell_type": "code",
   "execution_count": null,
   "metadata": {},
   "outputs": [],
   "source": [
    "price = input(\"What was the total of the bill?\")\n",
    "num_people = input(\"How many people are sitting on the table?\")\n",
    "\n",
    "per_person = float(price) / float(num_people)\n",
    "print(\"Every person pays \" + str(per_person) + \" swiss francs.\")"
   ]
  },
  {
   "cell_type": "markdown",
   "metadata": {},
   "source": [
    "### Exercise 5: Favourite Drinks\n",
    "Replace the question marks with your three favorite drinks and add only one line of code in this exercise. Use the print function to output the three drinks comma separated in one go."
   ]
  },
  {
   "cell_type": "code",
   "execution_count": null,
   "metadata": {},
   "outputs": [],
   "source": [
    "drink1 = \"?\"\n",
    "drink2 = \"?\"\n",
    "drink3 = \"?\"\n",
    "\n",
    "# Add your line here"
   ]
  },
  {
   "cell_type": "markdown",
   "metadata": {},
   "source": [
    "### Exercise 6: Name-Checking Using None\n",
    "Revisit exercise 3. Did you use the `None` value there? If not, rewrite your code so that it only uses one function and the data type `NoneType`. "
   ]
  },
  {
   "cell_type": "code",
   "execution_count": null,
   "metadata": {},
   "outputs": [],
   "source": [
    "# Write your code here"
   ]
  },
  {
   "cell_type": "markdown",
   "metadata": {},
   "source": [
    "### Exercise 7: Adding Numbers\n",
    "Program a small calculator which can add two numbers. The user has to input the first number and then the second. Check both numbers if they can be used as numbers. If not, complain about the wrong number and let the user correct it. The easiest way to do so is to print an error code as soon as the user has entered the number. If the first number is ok, the program can continue to check the second number."
   ]
  },
  {
   "cell_type": "code",
   "execution_count": null,
   "metadata": {},
   "outputs": [],
   "source": [
    "# Write your code here"
   ]
  },
  {
   "cell_type": "markdown",
   "metadata": {},
   "source": [
    "### That's It\n",
    "Let's call it a day!"
   ]
  }
 ],
 "metadata": {
  "kernelspec": {
   "display_name": "Python 3 (ipykernel)",
   "language": "python",
   "name": "python3"
  },
  "language_info": {
   "codemirror_mode": {
    "name": "ipython",
    "version": 3
   },
   "file_extension": ".py",
   "mimetype": "text/x-python",
   "name": "python",
   "nbconvert_exporter": "python",
   "pygments_lexer": "ipython3",
   "version": "3.8.10"
  }
 },
 "nbformat": 4,
 "nbformat_minor": 4
}
