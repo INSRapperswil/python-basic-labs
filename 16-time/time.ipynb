{
 "cells": [
  {
   "cell_type": "markdown",
   "metadata": {},
   "source": [
    "# Date and Times\n",
    "## Introduction\n",
    "\n",
    "This notebook is about working with dates and time and covers the first parts of chapter 17 of the book: https://automatetheboringstuff.com/2e/chapter17/.\n",
    "\n",
    "You can find more information about the topic in the Python documentation: [`datetime` - Basic date and time types](https://docs.python.org/3/library/datetime.html).\n",
    "Dates and time are really cool until you have to [write code](https://xkcd.com/1179/) that needs it. There are a two tools to make working with date and time easier, and we use both in this and the upcoming labs:\n",
    "* [Parsing date/time with dateutil](https://github.com/dateutil/dateutil)\n",
    "* [Localizing Date/Times with pytz](https://pythonhosted.org/pytz/)"
   ]
  },
  {
   "cell_type": "markdown",
   "metadata": {},
   "source": [
    "## Summary\n",
    "The `time` module has some global function like getting the current time stamp in seconds (`time` ) or pausing the program for x seconds (`sleep`):\n",
    "\n",
    "```python\n",
    "import time\n",
    "time.time()\n",
    "time.sleep(30)\n",
    "```\n",
    "\n",
    "The `datetime` module contains classes representing dates (`date`), times (`datetime`), time differences (`timedelta`) and timezones (`timezone`):\n",
    "\n",
    "```python\n",
    "import datetime\n",
    "import time\n",
    "\n",
    "datetime.date(year=2020, month=7, day=31)  # creates a datetime.date(2020, 7, 31)\n",
    "datetime.date.today()                      # e.g. date(2020, 8, 17)\n",
    "datetime.date.today().replace(year=2000)   # e.g. date(2000, 8, 17)\n",
    "\n",
    "datetime.datetime(year=2020, month=7, day=13, hour=13, minute=0, second=0, microsecond=0, tzinfo=None) # datetime(2020, 7, 13, 13, 0)\n",
    "datetime.datetime.now()  # e.g. datetime(2020, 8, 17, 16, 19, 24, 892464)\n",
    "datetime.datetime.fromtimestamp(time.time()) # e.g. datetime(2020, 8, 17, 16, 19, 24, 892978)\n",
    "datetime.datetime.now().replace(year=2000)   # e.g. datetime(2000, 8, 17, 16, 19, 24, 893482)\n",
    "datetime.datetime.now().date()               # e.g. date(2020, 8, 17)\n",
    "\n",
    "datetime.timedelta(weeks=1, days=1, hours=0, minutes=0, seconds=0, milliseconds=0, microseconds=0)  # timedelta(days=8)\n",
    "datetime.datetime.now() - datetime.datetime.now()    # e.g. timedelta(days=-1, seconds=86399, microseconds=999994)\n",
    "datetime.datetime.now() + datetime.timedelta(days=1) # e.g. datetime(2020, 8, 18, 16, 19, 24, 896243)\n",
    "\n",
    "datetime.datetime(year=2020, month=7, day=13, tzinfo=datetime.timezone.utc)  # datetime(2020, 7, 13, 0, 0, tzinfo=timezone.utc)\n",
    "```\n",
    "\n",
    "Dates and times can be converted to strings with `strftime` and from strings with `strptime`. Possible values are documented in the Python docs: [`strftime()` and `strptime()` Behavior](https://docs.python.org/3/library/datetime.html#strftime-strptime-behavior). \n",
    "\n",
    "There is also an `isoformat` method to return dates and times as an `ISO 8601`-string:\n",
    "\n",
    "```python\n",
    "datetime.date.today().strftime('%d.%m.%Y') # e.g. '17.08.2020'\n",
    "datetime.date.today().isoformat()          # e.g. '2020-08-17'\n",
    "\n",
    "datetime.datetime.now().strftime('%d.%m.%Y %H:%M:%S') # e.g. '17.08.2020 16:23:48'\n",
    "datetime.datetime.now().isoformat()                   # e.g. '2020-08-17T16:23:48.974613'\n",
    "\n",
    "datetime.datetime.strptime('1.1.2019 12:00:00', '%d.%m.%Y %H:%M:%S')  # e.g. datetime.datetime(2019, 1, 1, 12, 0)\n",
    "```"
   ]
  },
  {
   "cell_type": "markdown",
   "metadata": {},
   "source": [
    "## Exercises"
   ]
  },
  {
   "cell_type": "markdown",
   "metadata": {},
   "source": [
    "### Exercise 1: Measure the Execution Time of Cell\n",
    "Measure how long it takes to sleep `seconds` seconds using `time`.\n",
    "\n",
    "In Juypter, you can also use the magic function `%time` to measure the execution time of the cell until the statement appears. What are the differences?"
   ]
  },
  {
   "cell_type": "code",
   "execution_count": null,
   "metadata": {},
   "outputs": [],
   "source": [
    "seconds = 2\n",
    "# todo: sleep and measure time it takes\n",
    "print(f\"Sleeping {seconds} takes {delta} seconds!\")"
   ]
  },
  {
   "cell_type": "markdown",
   "metadata": {},
   "source": [
    "### Exercise 2: Show the Last Modification Date/Time of the Current Folder\n",
    "`os.path.getmtime` returns the last modification time stamp of a given path. Print the modification date and time of the current folder in a nice format using `strftime`.\n",
    "\n",
    "The same format codes can be used together with f-strings: `f\"{variable:format}\"`. Print the modification date with an f-string, too."
   ]
  },
  {
   "cell_type": "code",
   "execution_count": null,
   "metadata": {},
   "outputs": [],
   "source": [
    "# todo: get the modification time stamp of the current folder\n",
    "# todo: print with strftime\n",
    "# todo: print with f-string"
   ]
  },
  {
   "cell_type": "markdown",
   "metadata": {},
   "source": [
    "### Exercise 3: Calculating Last Days of Months\n",
    "Define a function which calculates the last day of the month, given a start date and a number of months to add to the start date. See the assert statements below for the expected output. Make sure the following cell runs without errors.\n",
    "\n",
    "Hint: `timedelta` works correctly with adding or *subtracting* days!\n",
    "\n",
    "Hint: `divmod` returns the quotient and remainder and can be used to calculate the months."
   ]
  },
  {
   "cell_type": "code",
   "execution_count": null,
   "metadata": {},
   "outputs": [],
   "source": [
    "import datetime\n",
    "\n",
    "def get_last_day(start, months):\n",
    "    # todo: calculate the last day of the month: start + months\n",
    "    \n",
    "assert get_last_day(datetime.date(2020, 7, 4), 1) == datetime.date(2020, 8, 31)\n",
    "assert get_last_day(datetime.date(2020, 11, 24), 2) == datetime.date(2021, 1, 31)\n",
    "assert get_last_day(datetime.date(2020, 1, 1), -13) == datetime.date(2018, 12, 31)"
   ]
  },
  {
   "cell_type": "markdown",
   "metadata": {},
   "source": [
    "Define a function which calculates the last day of february for a range of years."
   ]
  },
  {
   "cell_type": "code",
   "execution_count": null,
   "metadata": {},
   "outputs": [],
   "source": [
    "def get_last_day_of_february(start, end):\n",
    "    # todo: calculate the last day of february for all years from start to end\n",
    "\n",
    "assert get_last_day_of_february(2000, 2005) == [29, 28, 28, 28, 29, 28]"
   ]
  },
  {
   "cell_type": "markdown",
   "metadata": {},
   "source": [
    "### Exercise 4: Parsing Date/Times from a Log File\n",
    "Parse the log file from the logging exercise again, but this time use `strptime` to return only the dates from each line. The date format used is `03/22 08:51:06`. Replace the missing year with `2020`."
   ]
  },
  {
   "cell_type": "code",
   "execution_count": null,
   "metadata": {},
   "outputs": [],
   "source": [
    "def parse_log_dates(filename):\n",
    "    # todo: parse dates and return a list of datetime objects for each line\n",
    "\n",
    "assert set(parse_log_dates('log.txt')) == {\n",
    "    datetime.datetime(2020, 3, 22, 8, 51, 6),\n",
    "    datetime.datetime(2020, 3, 22, 8, 51, 11),\n",
    "    datetime.datetime(2020, 3, 22, 8, 52, 50),\n",
    "    datetime.datetime(2020, 3, 22, 8, 52, 51)\n",
    "}"
   ]
  },
  {
   "cell_type": "markdown",
   "metadata": {},
   "source": [
    "There is great library if you need to parse date/time strings: [dateutil](https://dateutil.readthedocs.io/en/stable/). Its parser `datetutil.parser.parse` can automatically parse a lot of different date formats, but note that it fills missing parts with the current date!\n",
    "\n",
    "Use `dateutil` instead of `strptime`."
   ]
  },
  {
   "cell_type": "code",
   "execution_count": null,
   "metadata": {},
   "outputs": [],
   "source": [
    "!pip install python-dateutil"
   ]
  },
  {
   "cell_type": "code",
   "execution_count": null,
   "metadata": {},
   "outputs": [],
   "source": [
    "def parse_log_dates(filename):\n",
    "    # todo: parse dates and return a list of datetime objects for each line\n",
    "    \n",
    "assert set(parse_log_dates('log.txt')) == {\n",
    "    datetime.datetime(2020, 3, 22, 8, 51, 6),\n",
    "    datetime.datetime(2020, 3, 22, 8, 51, 11),\n",
    "    datetime.datetime(2020, 3, 22, 8, 52, 50),\n",
    "    datetime.datetime(2020, 3, 22, 8, 52, 51),\n",
    "    datetime.datetime(2020, 3, 23, 0, 0)\n",
    "}"
   ]
  },
  {
   "cell_type": "markdown",
   "metadata": {},
   "source": [
    "### Exercise 5: Localizing Date/Times with pytz\n",
    "\n",
    "Python's `datetime` may optionally contain a timezone information (`tzinfo`), but working with timezone is really only possible by using [pytz](https://pythonhosted.org/pytz/). Adding timezone information is done with `pytz.timezone.localize`, conversion to other timezones with `datetime.astimezone` (works also with no timezone):\n",
    "\n",
    "```python\n",
    "europe_zurich = pytz.timezone('Europe/Zurich')\n",
    "europe_moscow = pytz.timezone('Europe/Moscow')\n",
    "localized_date = europe_zurich.localize(datetime.datetime.now())\n",
    "localized_date.astimezone(europe_moscow)\n",
    "```"
   ]
  },
  {
   "cell_type": "code",
   "execution_count": null,
   "metadata": {},
   "outputs": [],
   "source": [
    "!pip install pytz"
   ]
  },
  {
   "cell_type": "markdown",
   "metadata": {},
   "source": [
    "Create a function which takes a `datetime` object and a list of timezone strings and returns a dictionary, where the keys are the timezone strings and the values the date localized with the timezone. Make sure the cell runs without throwing an exception."
   ]
  },
  {
   "cell_type": "code",
   "execution_count": null,
   "metadata": {},
   "outputs": [],
   "source": [
    "import datetime\n",
    "import pytz\n",
    "\n",
    "def with_timezones(value, timezones):\n",
    "    # return a dictionary with a localized datetime for each given timezone\n",
    "\n",
    "\n",
    "dates = with_timezones(datetime.datetime(2012, 8, 1, 12, 0), ['UTC', 'Europe/Zurich', 'Europe/Moscow'])\n",
    "assert f'{dates[\"UTC\"]}' == '2012-08-01 10:00:00+00:00'\n",
    "assert f'{dates[\"Europe/Zurich\"]}' == '2012-08-01 12:00:00+02:00'\n",
    "assert f'{dates[\"Europe/Moscow\"]}' == '2012-08-01 14:00:00+04:00'\n",
    "assert with_timezones(dates['Europe/Moscow'], ['UTC'])['UTC'] == dates['UTC']"
   ]
  }
 ],
 "metadata": {
  "kernelspec": {
   "display_name": "Python 3 (ipykernel)",
   "language": "python",
   "name": "python3"
  },
  "language_info": {
   "codemirror_mode": {
    "name": "ipython",
    "version": 3
   },
   "file_extension": ".py",
   "mimetype": "text/x-python",
   "name": "python",
   "nbconvert_exporter": "python",
   "pygments_lexer": "ipython3",
   "version": "3.8.10"
  }
 },
 "nbformat": 4,
 "nbformat_minor": 4
}
